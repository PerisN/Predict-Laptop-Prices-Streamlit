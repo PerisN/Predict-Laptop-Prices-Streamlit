{
  "cells": [
    {
      "cell_type": "code",
      "execution_count": 1,
      "metadata": {
        "id": "NZTWbU-d-xRQ"
      },
      "outputs": [],
      "source": [
        "# Import Libraries\n",
        "\n",
        "import pandas as pd\n",
        "import numpy as np\n",
        "import re"
      ]
    },
    {
      "cell_type": "code",
      "execution_count": 2,
      "metadata": {
        "id": "q3pKPUI_AQ8w",
        "colab": {
          "base_uri": "https://localhost:8080/",
          "height": 337
        },
        "outputId": "7fbaa866-58f5-45cd-e87c-778435d8b3c3"
      },
      "outputs": [
        {
          "output_type": "execute_result",
          "data": {
            "text/plain": [
              "                                             Product  Rating      MRP  \\\n",
              "0  Lenovo IdeaPad 3 Core i3 11th Gen - (8 GB/256 ...     4.2  ₹36,990   \n",
              "1  Lenovo IdeaPad 3 Core i3 11th Gen - (8 GB/512 ...     4.2  ₹39,990   \n",
              "2  ASUS VivoBook 15 (2022) Core i3 10th Gen - (8 ...     4.3  ₹32,990   \n",
              "3  HP Pavilion Ryzen 5 Hexa Core AMD R5-5600H - (...     4.4  ₹49,990   \n",
              "4  ASUS TUF Gaming F15 Core i5 10th Gen - (8 GB/5...     4.4  ₹49,990   \n",
              "\n",
              "                                             Feature  \n",
              "0  Intel Core i3 Processor (11th Gen)8 GB DDR4 RA...  \n",
              "1  Intel Core i3 Processor (11th Gen)8 GB DDR4 RA...  \n",
              "2  Intel Core i3 Processor (10th Gen)8 GB DDR4 RA...  \n",
              "3  AMD Ryzen 5 Hexa Core Processor8 GB DDR4 RAM64...  \n",
              "4  Intel Core i5 Processor (10th Gen)8 GB DDR4 RA...  "
            ],
            "text/html": [
              "\n",
              "  <div id=\"df-7413b5a6-7c02-44a4-8a9c-96a0060e5a4f\">\n",
              "    <div class=\"colab-df-container\">\n",
              "      <div>\n",
              "<style scoped>\n",
              "    .dataframe tbody tr th:only-of-type {\n",
              "        vertical-align: middle;\n",
              "    }\n",
              "\n",
              "    .dataframe tbody tr th {\n",
              "        vertical-align: top;\n",
              "    }\n",
              "\n",
              "    .dataframe thead th {\n",
              "        text-align: right;\n",
              "    }\n",
              "</style>\n",
              "<table border=\"1\" class=\"dataframe\">\n",
              "  <thead>\n",
              "    <tr style=\"text-align: right;\">\n",
              "      <th></th>\n",
              "      <th>Product</th>\n",
              "      <th>Rating</th>\n",
              "      <th>MRP</th>\n",
              "      <th>Feature</th>\n",
              "    </tr>\n",
              "  </thead>\n",
              "  <tbody>\n",
              "    <tr>\n",
              "      <th>0</th>\n",
              "      <td>Lenovo IdeaPad 3 Core i3 11th Gen - (8 GB/256 ...</td>\n",
              "      <td>4.2</td>\n",
              "      <td>₹36,990</td>\n",
              "      <td>Intel Core i3 Processor (11th Gen)8 GB DDR4 RA...</td>\n",
              "    </tr>\n",
              "    <tr>\n",
              "      <th>1</th>\n",
              "      <td>Lenovo IdeaPad 3 Core i3 11th Gen - (8 GB/512 ...</td>\n",
              "      <td>4.2</td>\n",
              "      <td>₹39,990</td>\n",
              "      <td>Intel Core i3 Processor (11th Gen)8 GB DDR4 RA...</td>\n",
              "    </tr>\n",
              "    <tr>\n",
              "      <th>2</th>\n",
              "      <td>ASUS VivoBook 15 (2022) Core i3 10th Gen - (8 ...</td>\n",
              "      <td>4.3</td>\n",
              "      <td>₹32,990</td>\n",
              "      <td>Intel Core i3 Processor (10th Gen)8 GB DDR4 RA...</td>\n",
              "    </tr>\n",
              "    <tr>\n",
              "      <th>3</th>\n",
              "      <td>HP Pavilion Ryzen 5 Hexa Core AMD R5-5600H - (...</td>\n",
              "      <td>4.4</td>\n",
              "      <td>₹49,990</td>\n",
              "      <td>AMD Ryzen 5 Hexa Core Processor8 GB DDR4 RAM64...</td>\n",
              "    </tr>\n",
              "    <tr>\n",
              "      <th>4</th>\n",
              "      <td>ASUS TUF Gaming F15 Core i5 10th Gen - (8 GB/5...</td>\n",
              "      <td>4.4</td>\n",
              "      <td>₹49,990</td>\n",
              "      <td>Intel Core i5 Processor (10th Gen)8 GB DDR4 RA...</td>\n",
              "    </tr>\n",
              "  </tbody>\n",
              "</table>\n",
              "</div>\n",
              "      <button class=\"colab-df-convert\" onclick=\"convertToInteractive('df-7413b5a6-7c02-44a4-8a9c-96a0060e5a4f')\"\n",
              "              title=\"Convert this dataframe to an interactive table.\"\n",
              "              style=\"display:none;\">\n",
              "        \n",
              "  <svg xmlns=\"http://www.w3.org/2000/svg\" height=\"24px\"viewBox=\"0 0 24 24\"\n",
              "       width=\"24px\">\n",
              "    <path d=\"M0 0h24v24H0V0z\" fill=\"none\"/>\n",
              "    <path d=\"M18.56 5.44l.94 2.06.94-2.06 2.06-.94-2.06-.94-.94-2.06-.94 2.06-2.06.94zm-11 1L8.5 8.5l.94-2.06 2.06-.94-2.06-.94L8.5 2.5l-.94 2.06-2.06.94zm10 10l.94 2.06.94-2.06 2.06-.94-2.06-.94-.94-2.06-.94 2.06-2.06.94z\"/><path d=\"M17.41 7.96l-1.37-1.37c-.4-.4-.92-.59-1.43-.59-.52 0-1.04.2-1.43.59L10.3 9.45l-7.72 7.72c-.78.78-.78 2.05 0 2.83L4 21.41c.39.39.9.59 1.41.59.51 0 1.02-.2 1.41-.59l7.78-7.78 2.81-2.81c.8-.78.8-2.07 0-2.86zM5.41 20L4 18.59l7.72-7.72 1.47 1.35L5.41 20z\"/>\n",
              "  </svg>\n",
              "      </button>\n",
              "      \n",
              "  <style>\n",
              "    .colab-df-container {\n",
              "      display:flex;\n",
              "      flex-wrap:wrap;\n",
              "      gap: 12px;\n",
              "    }\n",
              "\n",
              "    .colab-df-convert {\n",
              "      background-color: #E8F0FE;\n",
              "      border: none;\n",
              "      border-radius: 50%;\n",
              "      cursor: pointer;\n",
              "      display: none;\n",
              "      fill: #1967D2;\n",
              "      height: 32px;\n",
              "      padding: 0 0 0 0;\n",
              "      width: 32px;\n",
              "    }\n",
              "\n",
              "    .colab-df-convert:hover {\n",
              "      background-color: #E2EBFA;\n",
              "      box-shadow: 0px 1px 2px rgba(60, 64, 67, 0.3), 0px 1px 3px 1px rgba(60, 64, 67, 0.15);\n",
              "      fill: #174EA6;\n",
              "    }\n",
              "\n",
              "    [theme=dark] .colab-df-convert {\n",
              "      background-color: #3B4455;\n",
              "      fill: #D2E3FC;\n",
              "    }\n",
              "\n",
              "    [theme=dark] .colab-df-convert:hover {\n",
              "      background-color: #434B5C;\n",
              "      box-shadow: 0px 1px 3px 1px rgba(0, 0, 0, 0.15);\n",
              "      filter: drop-shadow(0px 1px 2px rgba(0, 0, 0, 0.3));\n",
              "      fill: #FFFFFF;\n",
              "    }\n",
              "  </style>\n",
              "\n",
              "      <script>\n",
              "        const buttonEl =\n",
              "          document.querySelector('#df-7413b5a6-7c02-44a4-8a9c-96a0060e5a4f button.colab-df-convert');\n",
              "        buttonEl.style.display =\n",
              "          google.colab.kernel.accessAllowed ? 'block' : 'none';\n",
              "\n",
              "        async function convertToInteractive(key) {\n",
              "          const element = document.querySelector('#df-7413b5a6-7c02-44a4-8a9c-96a0060e5a4f');\n",
              "          const dataTable =\n",
              "            await google.colab.kernel.invokeFunction('convertToInteractive',\n",
              "                                                     [key], {});\n",
              "          if (!dataTable) return;\n",
              "\n",
              "          const docLinkHtml = 'Like what you see? Visit the ' +\n",
              "            '<a target=\"_blank\" href=https://colab.research.google.com/notebooks/data_table.ipynb>data table notebook</a>'\n",
              "            + ' to learn more about interactive tables.';\n",
              "          element.innerHTML = '';\n",
              "          dataTable['output_type'] = 'display_data';\n",
              "          await google.colab.output.renderOutput(dataTable, element);\n",
              "          const docLink = document.createElement('div');\n",
              "          docLink.innerHTML = docLinkHtml;\n",
              "          element.appendChild(docLink);\n",
              "        }\n",
              "      </script>\n",
              "    </div>\n",
              "  </div>\n",
              "  "
            ]
          },
          "metadata": {},
          "execution_count": 2
        }
      ],
      "source": [
        "# Load data\n",
        "\n",
        "df = pd.read_csv('/content/drive/MyDrive/Laptop-Prices/laptop_details.csv')\n",
        "\n",
        "df.head()"
      ]
    },
    {
      "cell_type": "code",
      "execution_count": 3,
      "metadata": {
        "id": "tZr89eXECOPu",
        "colab": {
          "base_uri": "https://localhost:8080/"
        },
        "outputId": "007ca3b5-f642-4901-8578-097f2cf5ea90"
      },
      "outputs": [
        {
          "output_type": "execute_result",
          "data": {
            "text/plain": [
              "(720, 4)"
            ]
          },
          "metadata": {},
          "execution_count": 3
        }
      ],
      "source": [
        "# Shape of the dataset\n",
        "\n",
        "df.shape"
      ]
    },
    {
      "cell_type": "code",
      "execution_count": 4,
      "metadata": {
        "id": "wluwFULCAh0v",
        "colab": {
          "base_uri": "https://localhost:8080/"
        },
        "outputId": "f8d7479b-2877-45b2-d401-b877e4a1f2a9"
      },
      "outputs": [
        {
          "output_type": "stream",
          "name": "stdout",
          "text": [
            "<class 'pandas.core.frame.DataFrame'>\n",
            "RangeIndex: 720 entries, 0 to 719\n",
            "Data columns (total 4 columns):\n",
            " #   Column   Non-Null Count  Dtype  \n",
            "---  ------   --------------  -----  \n",
            " 0   Product  720 non-null    object \n",
            " 1   Rating   581 non-null    float64\n",
            " 2   MRP      720 non-null    object \n",
            " 3   Feature  720 non-null    object \n",
            "dtypes: float64(1), object(3)\n",
            "memory usage: 22.6+ KB\n"
          ]
        }
      ],
      "source": [
        "df.info()"
      ]
    },
    {
      "cell_type": "code",
      "execution_count": 5,
      "metadata": {
        "id": "5dZJfkSZBHln",
        "colab": {
          "base_uri": "https://localhost:8080/"
        },
        "outputId": "82de3c1f-9263-465d-a3c5-50db86de45ee"
      },
      "outputs": [
        {
          "output_type": "execute_result",
          "data": {
            "text/plain": [
              "dtype('int64')"
            ]
          },
          "metadata": {},
          "execution_count": 5
        }
      ],
      "source": [
        "# Clean and Convert the MRP feature to an integer\n",
        "\n",
        "df['MRP'] = df['MRP'].str.replace('₹', '')\n",
        "df['MRP'] = df['MRP'].str.replace(',', '')\n",
        "\n",
        "df['MRP'] = df['MRP'].astype('int')\n",
        "df.MRP.dtype"
      ]
    },
    {
      "cell_type": "code",
      "execution_count": 6,
      "metadata": {
        "id": "5USgqvDMAlat",
        "colab": {
          "base_uri": "https://localhost:8080/"
        },
        "outputId": "9e4a1db7-c418-4f6c-c12c-90ae0cdeaeb9"
      },
      "outputs": [
        {
          "output_type": "execute_result",
          "data": {
            "text/plain": [
              "297"
            ]
          },
          "metadata": {},
          "execution_count": 6
        }
      ],
      "source": [
        "# Check duplicate values\n",
        " \n",
        "df.duplicated().sum()"
      ]
    },
    {
      "cell_type": "code",
      "execution_count": 7,
      "metadata": {
        "id": "p6YIJKm8CWCp",
        "colab": {
          "base_uri": "https://localhost:8080/",
          "height": 641
        },
        "outputId": "a48be458-6617-4d81-bbc5-294105122447"
      },
      "outputs": [
        {
          "output_type": "execute_result",
          "data": {
            "text/plain": [
              "                                               Product  Rating     MRP  \\\n",
              "25   RedmiBook Pro Core i5 11th Gen - (8 GB/512 GB ...     4.1   39990   \n",
              "26   Lenovo IdeaPad 3 Core i3 11th Gen - (8 GB/512 ...     4.2   39990   \n",
              "27   ASUS ROG Strix G15 (2022) with 90Whr Battery R...     NaN  196990   \n",
              "29   realme Book (Slim) Core i3 11th Gen - (8 GB/25...     4.4   46990   \n",
              "30   Lenovo IdeaPad 1 Ryzen 5 Quad Core 3500U - (8 ...     4.2   38705   \n",
              "..                                                 ...     ...     ...   \n",
              "708  ASUS VivoBook 15 Core i5 10th Gen - (8 GB/1 TB...     3.9   44990   \n",
              "710  Lenovo IdeaPad 1 Ryzen 3 Dual Core 3250U - (8 ...     4.2   35590   \n",
              "711  ASUS ROG Strix G15 Advantage Edition with 90Wh...     4.9  150990   \n",
              "716  Lenovo IdeaPad Gaming 3 Ryzen 7 Octa Core AMD ...     4.5   73490   \n",
              "717  ASUS ROG Zephyrus G15 Ryzen 9 Octa Core 6900HS...     NaN  194990   \n",
              "\n",
              "                                               Feature  \n",
              "25   Intel Core i5 Processor (11th Gen)8 GB DDR4 RA...  \n",
              "26   Intel Core i3 Processor (11th Gen)8 GB DDR4 RA...  \n",
              "27   AMD Ryzen 9 Octa Core Processor16 GB DDR5 RAMW...  \n",
              "29   Stylish & Portable Thin and Light Laptop14 inc...  \n",
              "30   AMD Ryzen 5 Quad Core Processor8 GB DDR4 RAM64...  \n",
              "..                                                 ...  \n",
              "708  Intel Core i5 Processor (10th Gen)8 GB DDR4 RA...  \n",
              "710  AMD Ryzen 3 Dual Core Processor8 GB DDR4 RAM64...  \n",
              "711  AMD Ryzen 9 Octa Core Processor16 GB DDR4 RAMW...  \n",
              "716  AMD Ryzen 7 Octa Core Processor8 GB DDR4 RAM64...  \n",
              "717  AMD Ryzen 9 Octa Core Processor16 GB DDR5 RAM6...  \n",
              "\n",
              "[297 rows x 4 columns]"
            ],
            "text/html": [
              "\n",
              "  <div id=\"df-064cf0fb-e61d-44c2-a591-a410b4df46d2\">\n",
              "    <div class=\"colab-df-container\">\n",
              "      <div>\n",
              "<style scoped>\n",
              "    .dataframe tbody tr th:only-of-type {\n",
              "        vertical-align: middle;\n",
              "    }\n",
              "\n",
              "    .dataframe tbody tr th {\n",
              "        vertical-align: top;\n",
              "    }\n",
              "\n",
              "    .dataframe thead th {\n",
              "        text-align: right;\n",
              "    }\n",
              "</style>\n",
              "<table border=\"1\" class=\"dataframe\">\n",
              "  <thead>\n",
              "    <tr style=\"text-align: right;\">\n",
              "      <th></th>\n",
              "      <th>Product</th>\n",
              "      <th>Rating</th>\n",
              "      <th>MRP</th>\n",
              "      <th>Feature</th>\n",
              "    </tr>\n",
              "  </thead>\n",
              "  <tbody>\n",
              "    <tr>\n",
              "      <th>25</th>\n",
              "      <td>RedmiBook Pro Core i5 11th Gen - (8 GB/512 GB ...</td>\n",
              "      <td>4.1</td>\n",
              "      <td>39990</td>\n",
              "      <td>Intel Core i5 Processor (11th Gen)8 GB DDR4 RA...</td>\n",
              "    </tr>\n",
              "    <tr>\n",
              "      <th>26</th>\n",
              "      <td>Lenovo IdeaPad 3 Core i3 11th Gen - (8 GB/512 ...</td>\n",
              "      <td>4.2</td>\n",
              "      <td>39990</td>\n",
              "      <td>Intel Core i3 Processor (11th Gen)8 GB DDR4 RA...</td>\n",
              "    </tr>\n",
              "    <tr>\n",
              "      <th>27</th>\n",
              "      <td>ASUS ROG Strix G15 (2022) with 90Whr Battery R...</td>\n",
              "      <td>NaN</td>\n",
              "      <td>196990</td>\n",
              "      <td>AMD Ryzen 9 Octa Core Processor16 GB DDR5 RAMW...</td>\n",
              "    </tr>\n",
              "    <tr>\n",
              "      <th>29</th>\n",
              "      <td>realme Book (Slim) Core i3 11th Gen - (8 GB/25...</td>\n",
              "      <td>4.4</td>\n",
              "      <td>46990</td>\n",
              "      <td>Stylish &amp; Portable Thin and Light Laptop14 inc...</td>\n",
              "    </tr>\n",
              "    <tr>\n",
              "      <th>30</th>\n",
              "      <td>Lenovo IdeaPad 1 Ryzen 5 Quad Core 3500U - (8 ...</td>\n",
              "      <td>4.2</td>\n",
              "      <td>38705</td>\n",
              "      <td>AMD Ryzen 5 Quad Core Processor8 GB DDR4 RAM64...</td>\n",
              "    </tr>\n",
              "    <tr>\n",
              "      <th>...</th>\n",
              "      <td>...</td>\n",
              "      <td>...</td>\n",
              "      <td>...</td>\n",
              "      <td>...</td>\n",
              "    </tr>\n",
              "    <tr>\n",
              "      <th>708</th>\n",
              "      <td>ASUS VivoBook 15 Core i5 10th Gen - (8 GB/1 TB...</td>\n",
              "      <td>3.9</td>\n",
              "      <td>44990</td>\n",
              "      <td>Intel Core i5 Processor (10th Gen)8 GB DDR4 RA...</td>\n",
              "    </tr>\n",
              "    <tr>\n",
              "      <th>710</th>\n",
              "      <td>Lenovo IdeaPad 1 Ryzen 3 Dual Core 3250U - (8 ...</td>\n",
              "      <td>4.2</td>\n",
              "      <td>35590</td>\n",
              "      <td>AMD Ryzen 3 Dual Core Processor8 GB DDR4 RAM64...</td>\n",
              "    </tr>\n",
              "    <tr>\n",
              "      <th>711</th>\n",
              "      <td>ASUS ROG Strix G15 Advantage Edition with 90Wh...</td>\n",
              "      <td>4.9</td>\n",
              "      <td>150990</td>\n",
              "      <td>AMD Ryzen 9 Octa Core Processor16 GB DDR4 RAMW...</td>\n",
              "    </tr>\n",
              "    <tr>\n",
              "      <th>716</th>\n",
              "      <td>Lenovo IdeaPad Gaming 3 Ryzen 7 Octa Core AMD ...</td>\n",
              "      <td>4.5</td>\n",
              "      <td>73490</td>\n",
              "      <td>AMD Ryzen 7 Octa Core Processor8 GB DDR4 RAM64...</td>\n",
              "    </tr>\n",
              "    <tr>\n",
              "      <th>717</th>\n",
              "      <td>ASUS ROG Zephyrus G15 Ryzen 9 Octa Core 6900HS...</td>\n",
              "      <td>NaN</td>\n",
              "      <td>194990</td>\n",
              "      <td>AMD Ryzen 9 Octa Core Processor16 GB DDR5 RAM6...</td>\n",
              "    </tr>\n",
              "  </tbody>\n",
              "</table>\n",
              "<p>297 rows × 4 columns</p>\n",
              "</div>\n",
              "      <button class=\"colab-df-convert\" onclick=\"convertToInteractive('df-064cf0fb-e61d-44c2-a591-a410b4df46d2')\"\n",
              "              title=\"Convert this dataframe to an interactive table.\"\n",
              "              style=\"display:none;\">\n",
              "        \n",
              "  <svg xmlns=\"http://www.w3.org/2000/svg\" height=\"24px\"viewBox=\"0 0 24 24\"\n",
              "       width=\"24px\">\n",
              "    <path d=\"M0 0h24v24H0V0z\" fill=\"none\"/>\n",
              "    <path d=\"M18.56 5.44l.94 2.06.94-2.06 2.06-.94-2.06-.94-.94-2.06-.94 2.06-2.06.94zm-11 1L8.5 8.5l.94-2.06 2.06-.94-2.06-.94L8.5 2.5l-.94 2.06-2.06.94zm10 10l.94 2.06.94-2.06 2.06-.94-2.06-.94-.94-2.06-.94 2.06-2.06.94z\"/><path d=\"M17.41 7.96l-1.37-1.37c-.4-.4-.92-.59-1.43-.59-.52 0-1.04.2-1.43.59L10.3 9.45l-7.72 7.72c-.78.78-.78 2.05 0 2.83L4 21.41c.39.39.9.59 1.41.59.51 0 1.02-.2 1.41-.59l7.78-7.78 2.81-2.81c.8-.78.8-2.07 0-2.86zM5.41 20L4 18.59l7.72-7.72 1.47 1.35L5.41 20z\"/>\n",
              "  </svg>\n",
              "      </button>\n",
              "      \n",
              "  <style>\n",
              "    .colab-df-container {\n",
              "      display:flex;\n",
              "      flex-wrap:wrap;\n",
              "      gap: 12px;\n",
              "    }\n",
              "\n",
              "    .colab-df-convert {\n",
              "      background-color: #E8F0FE;\n",
              "      border: none;\n",
              "      border-radius: 50%;\n",
              "      cursor: pointer;\n",
              "      display: none;\n",
              "      fill: #1967D2;\n",
              "      height: 32px;\n",
              "      padding: 0 0 0 0;\n",
              "      width: 32px;\n",
              "    }\n",
              "\n",
              "    .colab-df-convert:hover {\n",
              "      background-color: #E2EBFA;\n",
              "      box-shadow: 0px 1px 2px rgba(60, 64, 67, 0.3), 0px 1px 3px 1px rgba(60, 64, 67, 0.15);\n",
              "      fill: #174EA6;\n",
              "    }\n",
              "\n",
              "    [theme=dark] .colab-df-convert {\n",
              "      background-color: #3B4455;\n",
              "      fill: #D2E3FC;\n",
              "    }\n",
              "\n",
              "    [theme=dark] .colab-df-convert:hover {\n",
              "      background-color: #434B5C;\n",
              "      box-shadow: 0px 1px 3px 1px rgba(0, 0, 0, 0.15);\n",
              "      filter: drop-shadow(0px 1px 2px rgba(0, 0, 0, 0.3));\n",
              "      fill: #FFFFFF;\n",
              "    }\n",
              "  </style>\n",
              "\n",
              "      <script>\n",
              "        const buttonEl =\n",
              "          document.querySelector('#df-064cf0fb-e61d-44c2-a591-a410b4df46d2 button.colab-df-convert');\n",
              "        buttonEl.style.display =\n",
              "          google.colab.kernel.accessAllowed ? 'block' : 'none';\n",
              "\n",
              "        async function convertToInteractive(key) {\n",
              "          const element = document.querySelector('#df-064cf0fb-e61d-44c2-a591-a410b4df46d2');\n",
              "          const dataTable =\n",
              "            await google.colab.kernel.invokeFunction('convertToInteractive',\n",
              "                                                     [key], {});\n",
              "          if (!dataTable) return;\n",
              "\n",
              "          const docLinkHtml = 'Like what you see? Visit the ' +\n",
              "            '<a target=\"_blank\" href=https://colab.research.google.com/notebooks/data_table.ipynb>data table notebook</a>'\n",
              "            + ' to learn more about interactive tables.';\n",
              "          element.innerHTML = '';\n",
              "          dataTable['output_type'] = 'display_data';\n",
              "          await google.colab.output.renderOutput(dataTable, element);\n",
              "          const docLink = document.createElement('div');\n",
              "          docLink.innerHTML = docLinkHtml;\n",
              "          element.appendChild(docLink);\n",
              "        }\n",
              "      </script>\n",
              "    </div>\n",
              "  </div>\n",
              "  "
            ]
          },
          "metadata": {},
          "execution_count": 7
        }
      ],
      "source": [
        "df[df.duplicated()]"
      ]
    },
    {
      "cell_type": "code",
      "execution_count": 8,
      "metadata": {
        "id": "CzVo7UC3DGz-",
        "colab": {
          "base_uri": "https://localhost:8080/"
        },
        "outputId": "18312ffb-4de1-4d25-d6ae-dae0183003f4"
      },
      "outputs": [
        {
          "output_type": "execute_result",
          "data": {
            "text/plain": [
              "(423, 4)"
            ]
          },
          "metadata": {},
          "execution_count": 8
        }
      ],
      "source": [
        "# Drop duplicates\n",
        "\n",
        "df = df.drop_duplicates(keep='first')     \n",
        "\n",
        "df.shape"
      ]
    },
    {
      "cell_type": "markdown",
      "metadata": {
        "id": "ayikSuDvZVGl"
      },
      "source": [
        "### **Extracting features using Regex**"
      ]
    },
    {
      "cell_type": "code",
      "execution_count": 9,
      "metadata": {
        "id": "ctSdmW_5ZfiO",
        "colab": {
          "base_uri": "https://localhost:8080/"
        },
        "outputId": "a9e20557-9840-42a4-e21d-b247d9e9196b"
      },
      "outputs": [
        {
          "output_type": "stream",
          "name": "stdout",
          "text": [
            "Lenovo IdeaPad 3 Core i3 11th Gen - (8 GB/256 GB SSD/Windows 11 Home) 14ITL05 Thin and Light Laptop\n",
            "Intel Core i3 Processor (11th Gen)8 GB DDR4 RAM64 bit Windows 11 Operating System256 GB SSD35.56 cm (14 inch) DisplayOffice Home and Student 20212 Year Onsite�Warranty\n",
            "Lenovo IdeaPad 3 Core i3 11th Gen - (8 GB/512 GB SSD/Windows 11 Home) 82H801L7IN | 82H802FJIN | 82H802...\n",
            "Intel Core i3 Processor (11th Gen)8 GB DDR4 RAM64 bit Windows 11 Operating System512 GB SSD39.62 cm (15.6 inch) DisplayOffice Home and Student 20212 Year Onsite�Warranty\n"
          ]
        }
      ],
      "source": [
        "print(df.iloc[0,0])\n",
        "print(df.iloc[0,-1])\n",
        "\n",
        "print(df.iloc[1,0])\n",
        "print(df.iloc[1,-1])"
      ]
    },
    {
      "cell_type": "code",
      "source": [
        "# Extract features\n",
        "\n",
        "def extract_features(row):\n",
        "    product = row['Product']\n",
        "    feature = row['Feature']\n",
        "    \n",
        "    ram_size = re.findall(r'(\\d+) ?(?:GB|TB)', feature)\n",
        "    ram_size = int(ram_size[0]) if ram_size else None\n",
        "    \n",
        "    ram_type = re.findall(r'(?:LP)?DDR\\d\\S*|Unified\\sMemory', feature)\n",
        "    ram_type = ram_type[0] if ram_type else None\n",
        "    \n",
        "    processor = re.findall(r'(?:AMD|Intel|M\\d+|Qualcomm Snapdragon)[\\s\\w]*\\b', feature)\n",
        "    processor = processor[0] if processor else None\n",
        "\n",
        "    storage = re.findall(r'(\\d+) ?(?:GB|TB) ?(SSD|HDD)', feature)\n",
        "    storage = list(set([(f\"{s[0]} {s[1]}\") for s in storage])) if storage else None\n",
        "    storage = \", \".join(storage) if storage else None\n",
        "  \n",
        "    os = re.findall(r'(Windows|Mac OS|Linux|DOS|Chrome)[\\s\\w]', feature)\n",
        "    os = os[0] if os else None\n",
        "    \n",
        "    brand = re.findall(r'^\\w+', product)\n",
        "    brand = brand[0] if brand else None\n",
        "    \n",
        "    return pd.Series([ram_size, ram_type, processor, storage, os, brand],\n",
        "                     index=['Ram Size', 'Ram Type', 'Processor', 'Storage', 'OS', 'Brand'])\n",
        "    \n",
        "df[['RAM_Size(GB)', 'RAM_Type', 'Processor', 'Storage', 'OS', 'Brand']] = df.apply(extract_features, axis=1)\n",
        "\n",
        "df.sample(3)"
      ],
      "metadata": {
        "id": "sjqpRmC6PMYu",
        "colab": {
          "base_uri": "https://localhost:8080/",
          "height": 485
        },
        "outputId": "4957ab9d-cb06-4d00-a113-cc9c061c2329"
      },
      "execution_count": 10,
      "outputs": [
        {
          "output_type": "execute_result",
          "data": {
            "text/plain": [
              "                                               Product  Rating    MRP  \\\n",
              "224  ASUS Core i5 10th Gen - (8 GB/512 GB SSD/Windo...     4.3  43490   \n",
              "159  ASUS TUF Dash F15 Core i7 12th Gen - (16 GB/1 ...     4.5  99990   \n",
              "662  HP Ryzen 3 Dual Core 3250U - (8 GB/256 GB SSD/...     3.9  31490   \n",
              "\n",
              "                                               Feature  RAM_Size(GB) RAM_Type  \\\n",
              "224  Intel Core i5 Processor (10th Gen)8 GB DDR4 RA...             8     DDR4   \n",
              "159  Intel Core i7 Processor (12th Gen)16 GB DDR5 R...            16     DDR5   \n",
              "662  AMD Ryzen 3 Dual Core Processor8 GB DDR4 RAM64...             8     DDR4   \n",
              "\n",
              "                                             Processor  Storage       OS Brand  \n",
              "224                            Intel Core i5 Processor  512 SSD  Windows  ASUS  \n",
              "159                            Intel Core i7 Processor    1 SSD  Windows  ASUS  \n",
              "662  AMD Ryzen 3 Dual Core Processor8 GB DDR4 RAM64...  256 SSD  Windows    HP  "
            ],
            "text/html": [
              "\n",
              "  <div id=\"df-206ebeed-f914-466f-a10e-05f4af1c96f8\">\n",
              "    <div class=\"colab-df-container\">\n",
              "      <div>\n",
              "<style scoped>\n",
              "    .dataframe tbody tr th:only-of-type {\n",
              "        vertical-align: middle;\n",
              "    }\n",
              "\n",
              "    .dataframe tbody tr th {\n",
              "        vertical-align: top;\n",
              "    }\n",
              "\n",
              "    .dataframe thead th {\n",
              "        text-align: right;\n",
              "    }\n",
              "</style>\n",
              "<table border=\"1\" class=\"dataframe\">\n",
              "  <thead>\n",
              "    <tr style=\"text-align: right;\">\n",
              "      <th></th>\n",
              "      <th>Product</th>\n",
              "      <th>Rating</th>\n",
              "      <th>MRP</th>\n",
              "      <th>Feature</th>\n",
              "      <th>RAM_Size(GB)</th>\n",
              "      <th>RAM_Type</th>\n",
              "      <th>Processor</th>\n",
              "      <th>Storage</th>\n",
              "      <th>OS</th>\n",
              "      <th>Brand</th>\n",
              "    </tr>\n",
              "  </thead>\n",
              "  <tbody>\n",
              "    <tr>\n",
              "      <th>224</th>\n",
              "      <td>ASUS Core i5 10th Gen - (8 GB/512 GB SSD/Windo...</td>\n",
              "      <td>4.3</td>\n",
              "      <td>43490</td>\n",
              "      <td>Intel Core i5 Processor (10th Gen)8 GB DDR4 RA...</td>\n",
              "      <td>8</td>\n",
              "      <td>DDR4</td>\n",
              "      <td>Intel Core i5 Processor</td>\n",
              "      <td>512 SSD</td>\n",
              "      <td>Windows</td>\n",
              "      <td>ASUS</td>\n",
              "    </tr>\n",
              "    <tr>\n",
              "      <th>159</th>\n",
              "      <td>ASUS TUF Dash F15 Core i7 12th Gen - (16 GB/1 ...</td>\n",
              "      <td>4.5</td>\n",
              "      <td>99990</td>\n",
              "      <td>Intel Core i7 Processor (12th Gen)16 GB DDR5 R...</td>\n",
              "      <td>16</td>\n",
              "      <td>DDR5</td>\n",
              "      <td>Intel Core i7 Processor</td>\n",
              "      <td>1 SSD</td>\n",
              "      <td>Windows</td>\n",
              "      <td>ASUS</td>\n",
              "    </tr>\n",
              "    <tr>\n",
              "      <th>662</th>\n",
              "      <td>HP Ryzen 3 Dual Core 3250U - (8 GB/256 GB SSD/...</td>\n",
              "      <td>3.9</td>\n",
              "      <td>31490</td>\n",
              "      <td>AMD Ryzen 3 Dual Core Processor8 GB DDR4 RAM64...</td>\n",
              "      <td>8</td>\n",
              "      <td>DDR4</td>\n",
              "      <td>AMD Ryzen 3 Dual Core Processor8 GB DDR4 RAM64...</td>\n",
              "      <td>256 SSD</td>\n",
              "      <td>Windows</td>\n",
              "      <td>HP</td>\n",
              "    </tr>\n",
              "  </tbody>\n",
              "</table>\n",
              "</div>\n",
              "      <button class=\"colab-df-convert\" onclick=\"convertToInteractive('df-206ebeed-f914-466f-a10e-05f4af1c96f8')\"\n",
              "              title=\"Convert this dataframe to an interactive table.\"\n",
              "              style=\"display:none;\">\n",
              "        \n",
              "  <svg xmlns=\"http://www.w3.org/2000/svg\" height=\"24px\"viewBox=\"0 0 24 24\"\n",
              "       width=\"24px\">\n",
              "    <path d=\"M0 0h24v24H0V0z\" fill=\"none\"/>\n",
              "    <path d=\"M18.56 5.44l.94 2.06.94-2.06 2.06-.94-2.06-.94-.94-2.06-.94 2.06-2.06.94zm-11 1L8.5 8.5l.94-2.06 2.06-.94-2.06-.94L8.5 2.5l-.94 2.06-2.06.94zm10 10l.94 2.06.94-2.06 2.06-.94-2.06-.94-.94-2.06-.94 2.06-2.06.94z\"/><path d=\"M17.41 7.96l-1.37-1.37c-.4-.4-.92-.59-1.43-.59-.52 0-1.04.2-1.43.59L10.3 9.45l-7.72 7.72c-.78.78-.78 2.05 0 2.83L4 21.41c.39.39.9.59 1.41.59.51 0 1.02-.2 1.41-.59l7.78-7.78 2.81-2.81c.8-.78.8-2.07 0-2.86zM5.41 20L4 18.59l7.72-7.72 1.47 1.35L5.41 20z\"/>\n",
              "  </svg>\n",
              "      </button>\n",
              "      \n",
              "  <style>\n",
              "    .colab-df-container {\n",
              "      display:flex;\n",
              "      flex-wrap:wrap;\n",
              "      gap: 12px;\n",
              "    }\n",
              "\n",
              "    .colab-df-convert {\n",
              "      background-color: #E8F0FE;\n",
              "      border: none;\n",
              "      border-radius: 50%;\n",
              "      cursor: pointer;\n",
              "      display: none;\n",
              "      fill: #1967D2;\n",
              "      height: 32px;\n",
              "      padding: 0 0 0 0;\n",
              "      width: 32px;\n",
              "    }\n",
              "\n",
              "    .colab-df-convert:hover {\n",
              "      background-color: #E2EBFA;\n",
              "      box-shadow: 0px 1px 2px rgba(60, 64, 67, 0.3), 0px 1px 3px 1px rgba(60, 64, 67, 0.15);\n",
              "      fill: #174EA6;\n",
              "    }\n",
              "\n",
              "    [theme=dark] .colab-df-convert {\n",
              "      background-color: #3B4455;\n",
              "      fill: #D2E3FC;\n",
              "    }\n",
              "\n",
              "    [theme=dark] .colab-df-convert:hover {\n",
              "      background-color: #434B5C;\n",
              "      box-shadow: 0px 1px 3px 1px rgba(0, 0, 0, 0.15);\n",
              "      filter: drop-shadow(0px 1px 2px rgba(0, 0, 0, 0.3));\n",
              "      fill: #FFFFFF;\n",
              "    }\n",
              "  </style>\n",
              "\n",
              "      <script>\n",
              "        const buttonEl =\n",
              "          document.querySelector('#df-206ebeed-f914-466f-a10e-05f4af1c96f8 button.colab-df-convert');\n",
              "        buttonEl.style.display =\n",
              "          google.colab.kernel.accessAllowed ? 'block' : 'none';\n",
              "\n",
              "        async function convertToInteractive(key) {\n",
              "          const element = document.querySelector('#df-206ebeed-f914-466f-a10e-05f4af1c96f8');\n",
              "          const dataTable =\n",
              "            await google.colab.kernel.invokeFunction('convertToInteractive',\n",
              "                                                     [key], {});\n",
              "          if (!dataTable) return;\n",
              "\n",
              "          const docLinkHtml = 'Like what you see? Visit the ' +\n",
              "            '<a target=\"_blank\" href=https://colab.research.google.com/notebooks/data_table.ipynb>data table notebook</a>'\n",
              "            + ' to learn more about interactive tables.';\n",
              "          element.innerHTML = '';\n",
              "          dataTable['output_type'] = 'display_data';\n",
              "          await google.colab.output.renderOutput(dataTable, element);\n",
              "          const docLink = document.createElement('div');\n",
              "          docLink.innerHTML = docLinkHtml;\n",
              "          element.appendChild(docLink);\n",
              "        }\n",
              "      </script>\n",
              "    </div>\n",
              "  </div>\n",
              "  "
            ]
          },
          "metadata": {},
          "execution_count": 10
        }
      ]
    },
    {
      "cell_type": "code",
      "execution_count": 11,
      "metadata": {
        "id": "Nfp0GQq9fHZ8",
        "colab": {
          "base_uri": "https://localhost:8080/"
        },
        "outputId": "f88f11e5-53bc-4ef9-8099-ea87266f99ff"
      },
      "outputs": [
        {
          "output_type": "stream",
          "name": "stdout",
          "text": [
            "<class 'pandas.core.frame.DataFrame'>\n",
            "Int64Index: 423 entries, 0 to 719\n",
            "Data columns (total 10 columns):\n",
            " #   Column        Non-Null Count  Dtype  \n",
            "---  ------        --------------  -----  \n",
            " 0   Product       423 non-null    object \n",
            " 1   Rating        339 non-null    float64\n",
            " 2   MRP           423 non-null    int64  \n",
            " 3   Feature       423 non-null    object \n",
            " 4   RAM_Size(GB)  423 non-null    int64  \n",
            " 5   RAM_Type      423 non-null    object \n",
            " 6   Processor     423 non-null    object \n",
            " 7   Storage       414 non-null    object \n",
            " 8   OS            423 non-null    object \n",
            " 9   Brand         423 non-null    object \n",
            "dtypes: float64(1), int64(2), object(7)\n",
            "memory usage: 36.4+ KB\n"
          ]
        }
      ],
      "source": [
        "df.info()"
      ]
    },
    {
      "cell_type": "code",
      "source": [
        "df['RAM_Type'].value_counts()"
      ],
      "metadata": {
        "colab": {
          "base_uri": "https://localhost:8080/"
        },
        "id": "WnX4tGcUxp12",
        "outputId": "d262fb2e-4f32-4604-cc9f-16351cb840d9"
      },
      "execution_count": 12,
      "outputs": [
        {
          "output_type": "execute_result",
          "data": {
            "text/plain": [
              "DDR4              320\n",
              "DDR5               42\n",
              "LPDDR4X            30\n",
              "Unified Memory     12\n",
              "LPDDR5              9\n",
              "LPDDR4              8\n",
              "DDR4,               1\n",
              "LPDDR3              1\n",
              "Name: RAM_Type, dtype: int64"
            ]
          },
          "metadata": {},
          "execution_count": 12
        }
      ]
    },
    {
      "cell_type": "code",
      "source": [
        "df['Storage'].value_counts()"
      ],
      "metadata": {
        "colab": {
          "base_uri": "https://localhost:8080/"
        },
        "id": "eViTKuLyxBY2",
        "outputId": "82b7a92c-0f3d-4178-e917-13ce209842b8"
      },
      "execution_count": 13,
      "outputs": [
        {
          "output_type": "execute_result",
          "data": {
            "text/plain": [
              "512 SSD             223\n",
              "1 SSD                74\n",
              "256 SSD              63\n",
              "1 HDD, 256 SSD       25\n",
              "1 HDD                14\n",
              "2 SSD                 6\n",
              "128 SSD               4\n",
              "1 HDD, 512 SSD        2\n",
              "1 HDD, 128 SSD        2\n",
              "256 HDD, 256 SSD      1\n",
              "Name: Storage, dtype: int64"
            ]
          },
          "metadata": {},
          "execution_count": 13
        }
      ]
    },
    {
      "cell_type": "code",
      "source": [
        "df['Brand'].value_counts()"
      ],
      "metadata": {
        "colab": {
          "base_uri": "https://localhost:8080/"
        },
        "id": "6sxlddSFzKyl",
        "outputId": "85d35eb8-177f-48c2-c635-db12b87105ac"
      },
      "execution_count": 15,
      "outputs": [
        {
          "output_type": "execute_result",
          "data": {
            "text/plain": [
              "ASUS         136\n",
              "Lenovo        62\n",
              "HP            57\n",
              "DELL          56\n",
              "acer          34\n",
              "MSI           29\n",
              "APPLE         19\n",
              "Infinix       14\n",
              "realme         4\n",
              "ALIENWARE      3\n",
              "RedmiBook      2\n",
              "SAMSUNG        2\n",
              "Ultimus        2\n",
              "Vaio           1\n",
              "GIGABYTE       1\n",
              "Nokia          1\n",
              "Name: Brand, dtype: int64"
            ]
          },
          "metadata": {},
          "execution_count": 15
        }
      ]
    },
    {
      "cell_type": "code",
      "source": [
        "df['Processor'].value_counts()"
      ],
      "metadata": {
        "colab": {
          "base_uri": "https://localhost:8080/"
        },
        "id": "ij-RsZcryuCd",
        "outputId": "6d3878de-a2ab-4ca9-b05a-801f5057440d"
      },
      "execution_count": 14,
      "outputs": [
        {
          "output_type": "execute_result",
          "data": {
            "text/plain": [
              "Intel Core i5 Processor                                                                        109\n",
              "Intel Core i3 Processor                                                                         69\n",
              "Intel Core i7 Processor                                                                         52\n",
              "AMD Ryzen 5 Hexa Core Processor8 GB DDR4 RAM64 bit Windows 11 Operating System512 GB SSD39      11\n",
              "Intel Core i9 Processor                                                                         11\n",
              "                                                                                              ... \n",
              "M1 Max Processor32 GB Unified Memory RAMMac OS Operating System1 TB SSD41                        1\n",
              "AMD Ryzen 3 Dual Core Processor8 GB DDR4 RAM64 bit Windows 11 Operating System512 GB SSD35       1\n",
              "AMD Ryzen 5 Quad Core Processor8 GB DDR4 RAM32 bit Windows 11 Operating System512 GB SSD35       1\n",
              "AMD Ryzen 3                                                                                      1\n",
              "AMD Ryzen 7 Octa Core Processor16 GB DDR4 RAM64 bit Windows 10 Operating System512 GB SSD39      1\n",
              "Name: Processor, Length: 120, dtype: int64"
            ]
          },
          "metadata": {},
          "execution_count": 14
        }
      ]
    },
    {
      "cell_type": "code",
      "source": [
        "# Clean columns\n",
        "\n",
        "def clean_processor(processor):\n",
        "    processor = re.sub(r'Processor.*', '', str(processor))\n",
        "    return processor\n",
        "\n",
        "df['Processor'] = df['Processor'].apply(clean_processor)\n",
        "df['Processor'] = df['Processor'].str.rstrip()\n",
        "\n",
        "df['RAM_Type'] = df['RAM_Type'].str.replace(',', '')\n",
        "\n",
        "df.head(2)"
      ],
      "metadata": {
        "id": "rdMt79EjLlbT",
        "colab": {
          "base_uri": "https://localhost:8080/",
          "height": 384
        },
        "outputId": "2f6978d2-2934-434a-c942-00777f6a7c9f"
      },
      "execution_count": 18,
      "outputs": [
        {
          "output_type": "execute_result",
          "data": {
            "text/plain": [
              "                                             Product  Rating    MRP  \\\n",
              "0  Lenovo IdeaPad 3 Core i3 11th Gen - (8 GB/256 ...     4.2  36990   \n",
              "1  Lenovo IdeaPad 3 Core i3 11th Gen - (8 GB/512 ...     4.2  39990   \n",
              "\n",
              "                                             Feature  RAM_Size(GB) RAM_Type  \\\n",
              "0  Intel Core i3 Processor (11th Gen)8 GB DDR4 RA...             8     DDR4   \n",
              "1  Intel Core i3 Processor (11th Gen)8 GB DDR4 RA...             8     DDR4   \n",
              "\n",
              "       Processor  Storage       OS   Brand  \n",
              "0  Intel Core i3  256 SSD  Windows  Lenovo  \n",
              "1  Intel Core i3  512 SSD  Windows  Lenovo  "
            ],
            "text/html": [
              "\n",
              "  <div id=\"df-c9e439ef-9fbf-4966-8c2d-e834752dd917\">\n",
              "    <div class=\"colab-df-container\">\n",
              "      <div>\n",
              "<style scoped>\n",
              "    .dataframe tbody tr th:only-of-type {\n",
              "        vertical-align: middle;\n",
              "    }\n",
              "\n",
              "    .dataframe tbody tr th {\n",
              "        vertical-align: top;\n",
              "    }\n",
              "\n",
              "    .dataframe thead th {\n",
              "        text-align: right;\n",
              "    }\n",
              "</style>\n",
              "<table border=\"1\" class=\"dataframe\">\n",
              "  <thead>\n",
              "    <tr style=\"text-align: right;\">\n",
              "      <th></th>\n",
              "      <th>Product</th>\n",
              "      <th>Rating</th>\n",
              "      <th>MRP</th>\n",
              "      <th>Feature</th>\n",
              "      <th>RAM_Size(GB)</th>\n",
              "      <th>RAM_Type</th>\n",
              "      <th>Processor</th>\n",
              "      <th>Storage</th>\n",
              "      <th>OS</th>\n",
              "      <th>Brand</th>\n",
              "    </tr>\n",
              "  </thead>\n",
              "  <tbody>\n",
              "    <tr>\n",
              "      <th>0</th>\n",
              "      <td>Lenovo IdeaPad 3 Core i3 11th Gen - (8 GB/256 ...</td>\n",
              "      <td>4.2</td>\n",
              "      <td>36990</td>\n",
              "      <td>Intel Core i3 Processor (11th Gen)8 GB DDR4 RA...</td>\n",
              "      <td>8</td>\n",
              "      <td>DDR4</td>\n",
              "      <td>Intel Core i3</td>\n",
              "      <td>256 SSD</td>\n",
              "      <td>Windows</td>\n",
              "      <td>Lenovo</td>\n",
              "    </tr>\n",
              "    <tr>\n",
              "      <th>1</th>\n",
              "      <td>Lenovo IdeaPad 3 Core i3 11th Gen - (8 GB/512 ...</td>\n",
              "      <td>4.2</td>\n",
              "      <td>39990</td>\n",
              "      <td>Intel Core i3 Processor (11th Gen)8 GB DDR4 RA...</td>\n",
              "      <td>8</td>\n",
              "      <td>DDR4</td>\n",
              "      <td>Intel Core i3</td>\n",
              "      <td>512 SSD</td>\n",
              "      <td>Windows</td>\n",
              "      <td>Lenovo</td>\n",
              "    </tr>\n",
              "  </tbody>\n",
              "</table>\n",
              "</div>\n",
              "      <button class=\"colab-df-convert\" onclick=\"convertToInteractive('df-c9e439ef-9fbf-4966-8c2d-e834752dd917')\"\n",
              "              title=\"Convert this dataframe to an interactive table.\"\n",
              "              style=\"display:none;\">\n",
              "        \n",
              "  <svg xmlns=\"http://www.w3.org/2000/svg\" height=\"24px\"viewBox=\"0 0 24 24\"\n",
              "       width=\"24px\">\n",
              "    <path d=\"M0 0h24v24H0V0z\" fill=\"none\"/>\n",
              "    <path d=\"M18.56 5.44l.94 2.06.94-2.06 2.06-.94-2.06-.94-.94-2.06-.94 2.06-2.06.94zm-11 1L8.5 8.5l.94-2.06 2.06-.94-2.06-.94L8.5 2.5l-.94 2.06-2.06.94zm10 10l.94 2.06.94-2.06 2.06-.94-2.06-.94-.94-2.06-.94 2.06-2.06.94z\"/><path d=\"M17.41 7.96l-1.37-1.37c-.4-.4-.92-.59-1.43-.59-.52 0-1.04.2-1.43.59L10.3 9.45l-7.72 7.72c-.78.78-.78 2.05 0 2.83L4 21.41c.39.39.9.59 1.41.59.51 0 1.02-.2 1.41-.59l7.78-7.78 2.81-2.81c.8-.78.8-2.07 0-2.86zM5.41 20L4 18.59l7.72-7.72 1.47 1.35L5.41 20z\"/>\n",
              "  </svg>\n",
              "      </button>\n",
              "      \n",
              "  <style>\n",
              "    .colab-df-container {\n",
              "      display:flex;\n",
              "      flex-wrap:wrap;\n",
              "      gap: 12px;\n",
              "    }\n",
              "\n",
              "    .colab-df-convert {\n",
              "      background-color: #E8F0FE;\n",
              "      border: none;\n",
              "      border-radius: 50%;\n",
              "      cursor: pointer;\n",
              "      display: none;\n",
              "      fill: #1967D2;\n",
              "      height: 32px;\n",
              "      padding: 0 0 0 0;\n",
              "      width: 32px;\n",
              "    }\n",
              "\n",
              "    .colab-df-convert:hover {\n",
              "      background-color: #E2EBFA;\n",
              "      box-shadow: 0px 1px 2px rgba(60, 64, 67, 0.3), 0px 1px 3px 1px rgba(60, 64, 67, 0.15);\n",
              "      fill: #174EA6;\n",
              "    }\n",
              "\n",
              "    [theme=dark] .colab-df-convert {\n",
              "      background-color: #3B4455;\n",
              "      fill: #D2E3FC;\n",
              "    }\n",
              "\n",
              "    [theme=dark] .colab-df-convert:hover {\n",
              "      background-color: #434B5C;\n",
              "      box-shadow: 0px 1px 3px 1px rgba(0, 0, 0, 0.15);\n",
              "      filter: drop-shadow(0px 1px 2px rgba(0, 0, 0, 0.3));\n",
              "      fill: #FFFFFF;\n",
              "    }\n",
              "  </style>\n",
              "\n",
              "      <script>\n",
              "        const buttonEl =\n",
              "          document.querySelector('#df-c9e439ef-9fbf-4966-8c2d-e834752dd917 button.colab-df-convert');\n",
              "        buttonEl.style.display =\n",
              "          google.colab.kernel.accessAllowed ? 'block' : 'none';\n",
              "\n",
              "        async function convertToInteractive(key) {\n",
              "          const element = document.querySelector('#df-c9e439ef-9fbf-4966-8c2d-e834752dd917');\n",
              "          const dataTable =\n",
              "            await google.colab.kernel.invokeFunction('convertToInteractive',\n",
              "                                                     [key], {});\n",
              "          if (!dataTable) return;\n",
              "\n",
              "          const docLinkHtml = 'Like what you see? Visit the ' +\n",
              "            '<a target=\"_blank\" href=https://colab.research.google.com/notebooks/data_table.ipynb>data table notebook</a>'\n",
              "            + ' to learn more about interactive tables.';\n",
              "          element.innerHTML = '';\n",
              "          dataTable['output_type'] = 'display_data';\n",
              "          await google.colab.output.renderOutput(dataTable, element);\n",
              "          const docLink = document.createElement('div');\n",
              "          docLink.innerHTML = docLinkHtml;\n",
              "          element.appendChild(docLink);\n",
              "        }\n",
              "      </script>\n",
              "    </div>\n",
              "  </div>\n",
              "  "
            ]
          },
          "metadata": {},
          "execution_count": 18
        }
      ]
    },
    {
      "cell_type": "code",
      "source": [
        "df['Processor'].value_counts()"
      ],
      "metadata": {
        "colab": {
          "base_uri": "https://localhost:8080/"
        },
        "id": "hCbDFIfJFPTN",
        "outputId": "58b93c2b-549f-4bc2-c32a-78c4b8da5708"
      },
      "execution_count": 19,
      "outputs": [
        {
          "output_type": "execute_result",
          "data": {
            "text/plain": [
              "Intel Core i5                   110\n",
              "Intel Core i3                    70\n",
              "Intel Core i7                    52\n",
              "AMD Ryzen 5 Hexa Core            40\n",
              "AMD Ryzen 7 Octa Core            38\n",
              "Intel Celeron Dual Core          18\n",
              "AMD Ryzen 9 Octa Core            16\n",
              "AMD Ryzen 3 Dual Core            16\n",
              "Intel Core i9                    11\n",
              "AMD Ryzen 5 Quad Core             8\n",
              "M1                                7\n",
              "M1 Pro                            6\n",
              "M2                                5\n",
              "Intel i3                          3\n",
              "AMD Ryzen 3 Quad Core             3\n",
              "Intel Pentium Quad Core           2\n",
              "AMD Athlon Dual Core              2\n",
              "Intel Celeron Quad Core           2\n",
              "Intel Pentium Silver              2\n",
              "AMD Dual Core                     1\n",
              "Intel i7                          1\n",
              "AMD Ryzen 5 Dual Core             1\n",
              "AMD Ryzen 5                       1\n",
              "AMD Ryzen R5                      1\n",
              "M1 Max                            1\n",
              "AMD Ryzen 3                       1\n",
              "Intel PQC                         1\n",
              "Qualcomm Snapdragon 7c Gen 2      1\n",
              "Intel Evo Core i5                 1\n",
              "AMD Ryzen 7 Quad Core             1\n",
              "AMD Ryzen 3 Hexa Core             1\n",
              "Name: Processor, dtype: int64"
            ]
          },
          "metadata": {},
          "execution_count": 19
        }
      ]
    },
    {
      "cell_type": "code",
      "source": [
        "# Clean 'Processor' further\n",
        "\n",
        "def clean_processor(processor):\n",
        "    processor = re.sub(r'Intel i3', 'Intel Core i3', str(processor))\n",
        "    processor = re.sub(r'Intel i7', 'Intel Core i7', str(processor))\n",
        "    processor = re.sub(r'Intel Core i7', 'Intel Core i7', str(processor))\n",
        "    processor = re.sub(r'AMD Dual Core', 'AMD Ryzen 3 Dual Core', str(processor))\n",
        "    processor = re.sub(r'AMD Ryzen R5', 'AMD Ryzen 5', str(processor))\n",
        "    return processor\n",
        "\n",
        "df['Processor'] = df['Processor'].apply(clean_processor)\n",
        "df['Processor'].value_counts()"
      ],
      "metadata": {
        "colab": {
          "base_uri": "https://localhost:8080/"
        },
        "id": "m9b29kF3EOG8",
        "outputId": "31f0987d-4017-455d-da45-e7ac1bff122d"
      },
      "execution_count": 20,
      "outputs": [
        {
          "output_type": "execute_result",
          "data": {
            "text/plain": [
              "Intel Core i5                   110\n",
              "Intel Core i3                    73\n",
              "Intel Core i7                    53\n",
              "AMD Ryzen 5 Hexa Core            40\n",
              "AMD Ryzen 7 Octa Core            38\n",
              "Intel Celeron Dual Core          18\n",
              "AMD Ryzen 3 Dual Core            17\n",
              "AMD Ryzen 9 Octa Core            16\n",
              "Intel Core i9                    11\n",
              "AMD Ryzen 5 Quad Core             8\n",
              "M1                                7\n",
              "M1 Pro                            6\n",
              "M2                                5\n",
              "AMD Ryzen 3 Quad Core             3\n",
              "AMD Ryzen 5                       2\n",
              "Intel Celeron Quad Core           2\n",
              "AMD Athlon Dual Core              2\n",
              "Intel Pentium Silver              2\n",
              "Intel Pentium Quad Core           2\n",
              "Intel Evo Core i5                 1\n",
              "Qualcomm Snapdragon 7c Gen 2      1\n",
              "Intel PQC                         1\n",
              "AMD Ryzen 3                       1\n",
              "M1 Max                            1\n",
              "AMD Ryzen 7 Quad Core             1\n",
              "AMD Ryzen 5 Dual Core             1\n",
              "AMD Ryzen 3 Hexa Core             1\n",
              "Name: Processor, dtype: int64"
            ]
          },
          "metadata": {},
          "execution_count": 20
        }
      ]
    },
    {
      "cell_type": "code",
      "source": [
        "# Remove unnecessary columns\n",
        "\n",
        "df = df.drop(['Product','Rating', 'Feature'], axis=1)\n",
        "\n",
        "print(df.shape)\n",
        "df.head(5)"
      ],
      "metadata": {
        "id": "VpXzyPDQKB5e",
        "colab": {
          "base_uri": "https://localhost:8080/",
          "height": 286
        },
        "outputId": "56ab9f72-e430-4203-b76c-0b63c85f39b3"
      },
      "execution_count": 13,
      "outputs": [
        {
          "output_type": "stream",
          "name": "stdout",
          "text": [
            "(423, 7)\n"
          ]
        },
        {
          "output_type": "execute_result",
          "data": {
            "text/plain": [
              "     MRP  RAM_Size(GB) RAM_Type               Processor  Storage(GB)       OS  \\\n",
              "0  36990             8     DDR4          Intel Core i3           256  Windows   \n",
              "1  39990             8     DDR4          Intel Core i3           512  Windows   \n",
              "2  32990             8     DDR4          Intel Core i3           512  Windows   \n",
              "3  49990             8     DDR4  AMD Ryzen 5 Hexa Core           512  Windows   \n",
              "4  49990             8     DDR4          Intel Core i5           512  Windows   \n",
              "\n",
              "    Brand  \n",
              "0  Lenovo  \n",
              "1  Lenovo  \n",
              "2    ASUS  \n",
              "3      HP  \n",
              "4    ASUS  "
            ],
            "text/html": [
              "\n",
              "  <div id=\"df-bdb50b95-a34d-489e-932e-b381a1e798f2\">\n",
              "    <div class=\"colab-df-container\">\n",
              "      <div>\n",
              "<style scoped>\n",
              "    .dataframe tbody tr th:only-of-type {\n",
              "        vertical-align: middle;\n",
              "    }\n",
              "\n",
              "    .dataframe tbody tr th {\n",
              "        vertical-align: top;\n",
              "    }\n",
              "\n",
              "    .dataframe thead th {\n",
              "        text-align: right;\n",
              "    }\n",
              "</style>\n",
              "<table border=\"1\" class=\"dataframe\">\n",
              "  <thead>\n",
              "    <tr style=\"text-align: right;\">\n",
              "      <th></th>\n",
              "      <th>MRP</th>\n",
              "      <th>RAM_Size(GB)</th>\n",
              "      <th>RAM_Type</th>\n",
              "      <th>Processor</th>\n",
              "      <th>Storage(GB)</th>\n",
              "      <th>OS</th>\n",
              "      <th>Brand</th>\n",
              "    </tr>\n",
              "  </thead>\n",
              "  <tbody>\n",
              "    <tr>\n",
              "      <th>0</th>\n",
              "      <td>36990</td>\n",
              "      <td>8</td>\n",
              "      <td>DDR4</td>\n",
              "      <td>Intel Core i3</td>\n",
              "      <td>256</td>\n",
              "      <td>Windows</td>\n",
              "      <td>Lenovo</td>\n",
              "    </tr>\n",
              "    <tr>\n",
              "      <th>1</th>\n",
              "      <td>39990</td>\n",
              "      <td>8</td>\n",
              "      <td>DDR4</td>\n",
              "      <td>Intel Core i3</td>\n",
              "      <td>512</td>\n",
              "      <td>Windows</td>\n",
              "      <td>Lenovo</td>\n",
              "    </tr>\n",
              "    <tr>\n",
              "      <th>2</th>\n",
              "      <td>32990</td>\n",
              "      <td>8</td>\n",
              "      <td>DDR4</td>\n",
              "      <td>Intel Core i3</td>\n",
              "      <td>512</td>\n",
              "      <td>Windows</td>\n",
              "      <td>ASUS</td>\n",
              "    </tr>\n",
              "    <tr>\n",
              "      <th>3</th>\n",
              "      <td>49990</td>\n",
              "      <td>8</td>\n",
              "      <td>DDR4</td>\n",
              "      <td>AMD Ryzen 5 Hexa Core</td>\n",
              "      <td>512</td>\n",
              "      <td>Windows</td>\n",
              "      <td>HP</td>\n",
              "    </tr>\n",
              "    <tr>\n",
              "      <th>4</th>\n",
              "      <td>49990</td>\n",
              "      <td>8</td>\n",
              "      <td>DDR4</td>\n",
              "      <td>Intel Core i5</td>\n",
              "      <td>512</td>\n",
              "      <td>Windows</td>\n",
              "      <td>ASUS</td>\n",
              "    </tr>\n",
              "  </tbody>\n",
              "</table>\n",
              "</div>\n",
              "      <button class=\"colab-df-convert\" onclick=\"convertToInteractive('df-bdb50b95-a34d-489e-932e-b381a1e798f2')\"\n",
              "              title=\"Convert this dataframe to an interactive table.\"\n",
              "              style=\"display:none;\">\n",
              "        \n",
              "  <svg xmlns=\"http://www.w3.org/2000/svg\" height=\"24px\"viewBox=\"0 0 24 24\"\n",
              "       width=\"24px\">\n",
              "    <path d=\"M0 0h24v24H0V0z\" fill=\"none\"/>\n",
              "    <path d=\"M18.56 5.44l.94 2.06.94-2.06 2.06-.94-2.06-.94-.94-2.06-.94 2.06-2.06.94zm-11 1L8.5 8.5l.94-2.06 2.06-.94-2.06-.94L8.5 2.5l-.94 2.06-2.06.94zm10 10l.94 2.06.94-2.06 2.06-.94-2.06-.94-.94-2.06-.94 2.06-2.06.94z\"/><path d=\"M17.41 7.96l-1.37-1.37c-.4-.4-.92-.59-1.43-.59-.52 0-1.04.2-1.43.59L10.3 9.45l-7.72 7.72c-.78.78-.78 2.05 0 2.83L4 21.41c.39.39.9.59 1.41.59.51 0 1.02-.2 1.41-.59l7.78-7.78 2.81-2.81c.8-.78.8-2.07 0-2.86zM5.41 20L4 18.59l7.72-7.72 1.47 1.35L5.41 20z\"/>\n",
              "  </svg>\n",
              "      </button>\n",
              "      \n",
              "  <style>\n",
              "    .colab-df-container {\n",
              "      display:flex;\n",
              "      flex-wrap:wrap;\n",
              "      gap: 12px;\n",
              "    }\n",
              "\n",
              "    .colab-df-convert {\n",
              "      background-color: #E8F0FE;\n",
              "      border: none;\n",
              "      border-radius: 50%;\n",
              "      cursor: pointer;\n",
              "      display: none;\n",
              "      fill: #1967D2;\n",
              "      height: 32px;\n",
              "      padding: 0 0 0 0;\n",
              "      width: 32px;\n",
              "    }\n",
              "\n",
              "    .colab-df-convert:hover {\n",
              "      background-color: #E2EBFA;\n",
              "      box-shadow: 0px 1px 2px rgba(60, 64, 67, 0.3), 0px 1px 3px 1px rgba(60, 64, 67, 0.15);\n",
              "      fill: #174EA6;\n",
              "    }\n",
              "\n",
              "    [theme=dark] .colab-df-convert {\n",
              "      background-color: #3B4455;\n",
              "      fill: #D2E3FC;\n",
              "    }\n",
              "\n",
              "    [theme=dark] .colab-df-convert:hover {\n",
              "      background-color: #434B5C;\n",
              "      box-shadow: 0px 1px 3px 1px rgba(0, 0, 0, 0.15);\n",
              "      filter: drop-shadow(0px 1px 2px rgba(0, 0, 0, 0.3));\n",
              "      fill: #FFFFFF;\n",
              "    }\n",
              "  </style>\n",
              "\n",
              "      <script>\n",
              "        const buttonEl =\n",
              "          document.querySelector('#df-bdb50b95-a34d-489e-932e-b381a1e798f2 button.colab-df-convert');\n",
              "        buttonEl.style.display =\n",
              "          google.colab.kernel.accessAllowed ? 'block' : 'none';\n",
              "\n",
              "        async function convertToInteractive(key) {\n",
              "          const element = document.querySelector('#df-bdb50b95-a34d-489e-932e-b381a1e798f2');\n",
              "          const dataTable =\n",
              "            await google.colab.kernel.invokeFunction('convertToInteractive',\n",
              "                                                     [key], {});\n",
              "          if (!dataTable) return;\n",
              "\n",
              "          const docLinkHtml = 'Like what you see? Visit the ' +\n",
              "            '<a target=\"_blank\" href=https://colab.research.google.com/notebooks/data_table.ipynb>data table notebook</a>'\n",
              "            + ' to learn more about interactive tables.';\n",
              "          element.innerHTML = '';\n",
              "          dataTable['output_type'] = 'display_data';\n",
              "          await google.colab.output.renderOutput(dataTable, element);\n",
              "          const docLink = document.createElement('div');\n",
              "          docLink.innerHTML = docLinkHtml;\n",
              "          element.appendChild(docLink);\n",
              "        }\n",
              "      </script>\n",
              "    </div>\n",
              "  </div>\n",
              "  "
            ]
          },
          "metadata": {},
          "execution_count": 13
        }
      ]
    },
    {
      "cell_type": "code",
      "source": [
        "df.to_csv('data_etl.csv')"
      ],
      "metadata": {
        "id": "YRzn-cZJKv-A"
      },
      "execution_count": null,
      "outputs": []
    }
  ],
  "metadata": {
    "colab": {
      "provenance": [],
      "mount_file_id": "1GygZhiyzEMawDof0S1D9d7HQEFwOV2dT",
      "authorship_tag": "ABX9TyNRSwNgFyrH8f12DM31AOfN"
    },
    "kernelspec": {
      "display_name": "Python 3",
      "name": "python3"
    },
    "language_info": {
      "name": "python"
    }
  },
  "nbformat": 4,
  "nbformat_minor": 0
}