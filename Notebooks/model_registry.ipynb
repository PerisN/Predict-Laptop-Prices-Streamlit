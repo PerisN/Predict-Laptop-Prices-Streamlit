{
 "cells": [
  {
   "cell_type": "code",
   "execution_count": 13,
   "metadata": {},
   "outputs": [],
   "source": [
    "import mlflow\n",
    "from mlflow.tracking import MlflowClient\n",
    "from mlflow.entities import ViewType"
   ]
  },
  {
   "cell_type": "code",
   "execution_count": 17,
   "metadata": {},
   "outputs": [],
   "source": [
    "mlflow_tracking_uri = \"sqlite:///mlflow.db\""
   ]
  },
  {
   "cell_type": "code",
   "execution_count": 18,
   "metadata": {},
   "outputs": [
    {
     "data": {
      "text/plain": [
       "[<Experiment: artifact_location='file:///c:/Users/ADMIN/Desktop/Predict-Laptop-Prices-Streamlit/notebooks/mlruns/2', creation_time=1684007265560, experiment_id='2', last_update_time=1684007265560, lifecycle_stage='active', name='Laptop Prices Prediction', tags={}>,\n",
       " <Experiment: artifact_location='file:///c:/Users/ADMIN/Desktop/Innomatics/DataAnalysis/Predict-Laptop-Prices-Streamlit/notebooks/mlruns/0', creation_time=1683881795815, experiment_id='0', last_update_time=1683881795815, lifecycle_stage='active', name='Default', tags={}>]"
      ]
     },
     "execution_count": 18,
     "metadata": {},
     "output_type": "execute_result"
    }
   ],
   "source": [
    "client = MlflowClient(tracking_uri = mlflow_tracking_uri)\n",
    "\n",
    "experiments = client.search_experiments()\n",
    "experiments"
   ]
  },
  {
   "cell_type": "code",
   "execution_count": 16,
   "metadata": {},
   "outputs": [
    {
     "name": "stdout",
     "output_type": "stream",
     "text": [
      "run id: 6107df096d2c4d68b62dd73dff64030a, rmse: 0.2034\n",
      "run id: 4a4a76dd99354353be7a06a89a76c4bb, rmse: 0.2034\n",
      "run id: 82806b8759064df0a3ee1d51ebcb497c, rmse: 0.2044\n",
      "run id: df101b23a338424f9bd69823a890fde7, rmse: 0.2045\n",
      "run id: 09e98725988e466e95f8b5e37244a2d8, rmse: 0.2055\n"
     ]
    }
   ],
   "source": [
    "runs = client.search_runs(\n",
    "    experiment_ids='2',\n",
    "    filter_string=\"metrics.rmse < 0.207\",\n",
    "    run_view_type=ViewType.ACTIVE_ONLY,\n",
    "    max_results=5,\n",
    "    order_by=[\"metrics.rmse ASC\"]\n",
    ")\n",
    "\n",
    "for run in runs:\n",
    "    print(f\"run id: {run.info.run_id}, rmse: {run.data.metrics['rmse']:.4f}\")"
   ]
  },
  {
   "cell_type": "code",
   "execution_count": 19,
   "metadata": {},
   "outputs": [],
   "source": [
    "mlflow.set_tracking_uri(mlflow_tracking_uri)"
   ]
  },
  {
   "cell_type": "code",
   "execution_count": 24,
   "metadata": {},
   "outputs": [
    {
     "name": "stderr",
     "output_type": "stream",
     "text": [
      "Registered model 'laptop-price-regressor' already exists. Creating a new version of this model...\n",
      "2023/05/16 01:41:04 INFO mlflow.tracking._model_registry.client: Waiting up to 300 seconds for model version to finish creation. Model name: laptop-price-regressor, version 4\n",
      "Created version '4' of model 'laptop-price-regressor'.\n"
     ]
    },
    {
     "data": {
      "text/plain": [
       "<ModelVersion: aliases=[], creation_timestamp=1684190464642, current_stage='None', description=None, last_updated_timestamp=1684190464642, name='laptop-price-regressor', run_id='4a4a76dd99354353be7a06a89a76c4bb', run_link=None, source='file:///c:/Users/ADMIN/Desktop/Predict-Laptop-Prices-Streamlit/notebooks/mlruns/2/4a4a76dd99354353be7a06a89a76c4bb/artifacts/models', status='READY', status_message=None, tags={}, user_id=None, version=4>"
      ]
     },
     "execution_count": 24,
     "metadata": {},
     "output_type": "execute_result"
    }
   ],
   "source": [
    "model_name = \"laptop-price-regressor\"\n",
    "run_id = \"4a4a76dd99354353be7a06a89a76c4bb\"\n",
    "model_uri = f\"runs:/{run_id}/models\"\n",
    "\n",
    "mlflow.register_model(model_uri=model_uri, name = model_name)"
   ]
  },
  {
   "cell_type": "code",
   "execution_count": 25,
   "metadata": {},
   "outputs": [
    {
     "data": {
      "text/plain": [
       "[<RegisteredModel: aliases={}, creation_timestamp=1684183650216, description='', last_updated_timestamp=1684190464642, latest_versions=[<ModelVersion: aliases=[], creation_timestamp=1684190464642, current_stage='None', description=None, last_updated_timestamp=1684190464642, name='laptop-price-regressor', run_id='4a4a76dd99354353be7a06a89a76c4bb', run_link=None, source='file:///c:/Users/ADMIN/Desktop/Predict-Laptop-Prices-Streamlit/notebooks/mlruns/2/4a4a76dd99354353be7a06a89a76c4bb/artifacts/models', status='READY', status_message=None, tags={}, user_id=None, version=4>], name='laptop-price-regressor', tags={}>]"
      ]
     },
     "execution_count": 25,
     "metadata": {},
     "output_type": "execute_result"
    }
   ],
   "source": [
    "client.search_registered_models()"
   ]
  },
  {
   "cell_type": "code",
   "execution_count": 26,
   "metadata": {},
   "outputs": [
    {
     "name": "stdout",
     "output_type": "stream",
     "text": [
      "version: 1, stage : Production\n",
      "version: 2, stage : Staging\n",
      "version: 4, stage : Archived\n"
     ]
    }
   ],
   "source": [
    "versions = client.get_latest_versions(name = model_name)\n",
    "\n",
    "for version in versions:\n",
    "    print(f\"version: {version.version}, stage : {version.current_stage}\")"
   ]
  },
  {
   "cell_type": "markdown",
   "metadata": {},
   "source": []
  }
 ],
 "metadata": {
  "kernelspec": {
   "display_name": "pred_env",
   "language": "python",
   "name": "python3"
  },
  "language_info": {
   "codemirror_mode": {
    "name": "ipython",
    "version": 3
   },
   "file_extension": ".py",
   "mimetype": "text/x-python",
   "name": "python",
   "nbconvert_exporter": "python",
   "pygments_lexer": "ipython3",
   "version": "3.9.12"
  },
  "orig_nbformat": 4
 },
 "nbformat": 4,
 "nbformat_minor": 2
}
