{
  "cells": [
    {
      "attachments": {},
      "cell_type": "markdown",
      "metadata": {},
      "source": [
        "# **Flipkart Laptop Data - Business Insights on Product Pricing**\n",
        "\n",
        "The data used in this notebook was scrapped from Flipkart on 21-12-2022. \n",
        "\n",
        "This notebook aims to **mine laptop features from the data for analysis and price prediction**. \n"
      ]
    },
    {
      "cell_type": "code",
      "execution_count": null,
      "metadata": {
        "id": "NZTWbU-d-xRQ"
      },
      "outputs": [],
      "source": [
        "# Import Libraries\n",
        "\n",
        "import pandas as pd\n",
        "import numpy as np\n",
        "import re\n",
        "from scipy.stats import mode"
      ]
    },
    {
      "cell_type": "code",
      "execution_count": null,
      "metadata": {
        "colab": {
          "base_uri": "https://localhost:8080/",
          "height": 206
        },
        "id": "q3pKPUI_AQ8w",
        "outputId": "c8bca2bc-c932-4802-a953-d354349aff96"
      },
      "outputs": [],
      "source": [
        "# Load data\n",
        "\n",
        "df = pd.read_csv('..\\data\\laptop_details.csv')\n",
        "df.head()"
      ]
    },
    {
      "cell_type": "code",
      "execution_count": null,
      "metadata": {
        "colab": {
          "base_uri": "https://localhost:8080/"
        },
        "id": "tZr89eXECOPu",
        "outputId": "e41748a6-4e18-44dc-d2fe-49dac1ae7be3"
      },
      "outputs": [],
      "source": [
        "# Shape of the dataset\n",
        "\n",
        "df.shape"
      ]
    },
    {
      "cell_type": "code",
      "execution_count": null,
      "metadata": {
        "colab": {
          "base_uri": "https://localhost:8080/"
        },
        "id": "wluwFULCAh0v",
        "outputId": "6c55de46-e006-4b8e-db35-9c116a7ab9be"
      },
      "outputs": [],
      "source": [
        "df.info()"
      ]
    },
    {
      "cell_type": "code",
      "execution_count": null,
      "metadata": {
        "colab": {
          "base_uri": "https://localhost:8080/"
        },
        "id": "5USgqvDMAlat",
        "outputId": "5c793a75-d48d-495f-dd4c-8f14663797ac"
      },
      "outputs": [],
      "source": [
        "# Check duplicate values\n",
        " \n",
        "df.duplicated().sum()"
      ]
    },
    {
      "cell_type": "code",
      "execution_count": null,
      "metadata": {
        "colab": {
          "base_uri": "https://localhost:8080/",
          "height": 423
        },
        "id": "p6YIJKm8CWCp",
        "outputId": "fd6faeff-7687-4de0-b57a-a376a705bb14"
      },
      "outputs": [],
      "source": [
        "df[df.duplicated()]"
      ]
    },
    {
      "cell_type": "code",
      "execution_count": null,
      "metadata": {
        "colab": {
          "base_uri": "https://localhost:8080/"
        },
        "id": "CzVo7UC3DGz-",
        "outputId": "95bebd46-f743-410a-cab9-9d7f347dd054"
      },
      "outputs": [],
      "source": [
        "# Drop duplicates\n",
        "\n",
        "df = df.drop_duplicates(keep='first')     \n",
        "\n",
        "df.shape"
      ]
    },
    {
      "cell_type": "markdown",
      "metadata": {
        "id": "ayikSuDvZVGl"
      },
      "source": [
        "### **Extracting features using Regex**"
      ]
    },
    {
      "cell_type": "code",
      "execution_count": null,
      "metadata": {
        "colab": {
          "base_uri": "https://localhost:8080/"
        },
        "id": "ctSdmW_5ZfiO",
        "outputId": "54cf11e6-84d1-4387-f5f3-90b61e83f193"
      },
      "outputs": [],
      "source": [
        "print(df.iloc[0,0])\n",
        "print(df.iloc[0,-1])\n",
        "\n",
        "print(df.iloc[1,0])\n",
        "print(df.iloc[1,-1])"
      ]
    },
    {
      "cell_type": "code",
      "execution_count": null,
      "metadata": {
        "colab": {
          "base_uri": "https://localhost:8080/",
          "height": 292
        },
        "id": "sjqpRmC6PMYu",
        "outputId": "ff881a10-66d2-4d09-ab6b-ca0f9aca60c2"
      },
      "outputs": [],
      "source": [
        "# Extract features\n",
        "\n",
        "def extract_features(row):\n",
        "    product = row['Product']\n",
        "    feature = row['Feature']\n",
        "    \n",
        "    ram_size = re.findall(r'(\\d+) ?(?:GB|TB)', feature)\n",
        "    ram_size = int(ram_size[0]) if ram_size else None\n",
        "    \n",
        "    ram_type = re.findall(r'(?:LP)?DDR\\d\\S*|Unified\\sMemory', feature)\n",
        "    ram_type = ram_type[0] if ram_type else None\n",
        "\n",
        "    display = re.findall(r'\\d+(?:\\.\\d+)?\\s*(?:cm|inch)\\s*(?:\\(|:)?\\s*\\d+(?:\\.\\d+)?\\s*(?:cm|inch)?', feature)\n",
        "    display = display[0] if display else None\n",
        "    \n",
        "    processor = re.findall(r'(?:AMD|Intel|M\\d+|Qualcomm Snapdragon)[\\s\\w]*\\b', feature)\n",
        "    processor = processor[0] if processor else None\n",
        "\n",
        "    storage = re.findall(r'(\\d+) ?(?:GB|TB) ?(SSD|HDD)', feature)\n",
        "    storage = list(set([(f\"{s[0]} {s[1]}\") for s in storage])) if storage else None\n",
        "    storage = \", \".join(storage) if storage else None\n",
        "  \n",
        "    os = re.findall(r'(Windows|Mac OS|Linux|DOS|Chrome)[\\s\\w]', feature)\n",
        "    os = os[0] if os else None\n",
        "    \n",
        "    brand = re.findall(r'^\\w+', product)\n",
        "    brand = brand[0] if brand else None\n",
        "    \n",
        "    return pd.Series([ram_size, ram_type, display, processor, storage, os, brand],\n",
        "                     index=['Ram Size', 'Ram Type', 'Display', 'Processor', 'Storage', 'OS', 'Brand'])\n",
        "    \n",
        "df[['RAM_Size', 'RAM_Type', 'Display', 'Processor', 'Storage', 'OS', 'Brand']] = df.apply(extract_features, axis=1)\n",
        "\n",
        "df.sample(3)"
      ]
    },
    {
      "cell_type": "code",
      "execution_count": null,
      "metadata": {
        "colab": {
          "base_uri": "https://localhost:8080/"
        },
        "id": "WnX4tGcUxp12",
        "outputId": "07575d0c-7ea3-4d58-c253-8a1748e86a11"
      },
      "outputs": [],
      "source": [
        "df['RAM_Type'].value_counts()"
      ]
    },
    {
      "cell_type": "code",
      "execution_count": null,
      "metadata": {
        "colab": {
          "base_uri": "https://localhost:8080/"
        },
        "id": "eViTKuLyxBY2",
        "outputId": "b4eda8d9-ef8a-4cbf-eb0f-97e2d4a23ae3"
      },
      "outputs": [],
      "source": [
        "df['Storage'].value_counts()"
      ]
    },
    {
      "cell_type": "code",
      "execution_count": null,
      "metadata": {
        "colab": {
          "base_uri": "https://localhost:8080/"
        },
        "id": "6sxlddSFzKyl",
        "outputId": "40757826-b2a3-4a28-be36-f37f87604eb2"
      },
      "outputs": [],
      "source": [
        "df['Brand'].value_counts()"
      ]
    },
    {
      "cell_type": "code",
      "execution_count": null,
      "metadata": {
        "colab": {
          "base_uri": "https://localhost:8080/"
        },
        "id": "ij-RsZcryuCd",
        "outputId": "56f65b74-a7d6-42ff-e9c8-7104dd9e8333"
      },
      "outputs": [],
      "source": [
        "df['Processor'].value_counts()"
      ]
    },
    {
      "cell_type": "code",
      "execution_count": null,
      "metadata": {
        "colab": {
          "base_uri": "https://localhost:8080/"
        },
        "id": "dZ5g6oBH7mw8",
        "outputId": "52225257-8e5b-437e-a749-f1cffe8ca83c"
      },
      "outputs": [],
      "source": [
        "df['Display'].value_counts()"
      ]
    },
    {
      "cell_type": "markdown",
      "metadata": {
        "id": "BEMLPdC58TW6"
      },
      "source": [
        "**Clean Columns**"
      ]
    },
    {
      "cell_type": "code",
      "execution_count": null,
      "metadata": {
        "id": "2aFmqPoS8dDj"
      },
      "outputs": [],
      "source": [
        "def convert_to_inches(display):\n",
        "    # remove anything before a bracket\n",
        "    display = re.sub(r'^.*\\(', '', display)\n",
        "    # remove anything after the word inch\n",
        "    display = re.sub(r'\\s*\\S*$', '', display)\n",
        "    # remove any remaining whitespace\n",
        "    display = re.sub(r'\\s', '', display)\n",
        "    display = re.sub('35','13.78', str(display))\n",
        "    display = display.replace('inch', '')\n",
        "    return display\n",
        "\n",
        "df['Display'] = df['Display'].apply(convert_to_inches)\n",
        "df['Display'] = df['Display'].astype('float')"
      ]
    },
    {
      "cell_type": "code",
      "execution_count": null,
      "metadata": {
        "colab": {
          "base_uri": "https://localhost:8080/",
          "height": 191
        },
        "id": "aVfLk6ZG7vIZ",
        "outputId": "f78db96d-ee9c-4a1d-9671-51f92b11dc3f"
      },
      "outputs": [],
      "source": [
        "df['MRP'] = df['MRP'].str.replace('₹', '')\n",
        "df['MRP'] = df['MRP'].str.replace(',', '')\n",
        "df['MRP'] = df['MRP'].astype('int')\n",
        "\n",
        "df['RAM_Type'] = df['RAM_Type'].str.replace(',', '')\n",
        "\n",
        "df.head(2)"
      ]
    },
    {
      "cell_type": "code",
      "execution_count": null,
      "metadata": {
        "id": "rdMt79EjLlbT"
      },
      "outputs": [],
      "source": [
        "def clean_processor(processor):\n",
        "    processor = re.sub(r'Processor.*', '', str(processor))\n",
        "    processor = processor.rstrip()\n",
        "    processor = re.sub(r'Intel i3', 'Intel Core i3', str(processor))\n",
        "    processor = re.sub(r'Intel i7', 'Intel Core i7', str(processor))\n",
        "    processor = re.sub(r'AMD Dual Core', 'AMD Ryzen 3 Dual Core', str(processor))\n",
        "    processor = re.sub(r'AMD Ryzen R5', 'AMD Ryzen 5', str(processor))\n",
        "    processor = re.sub(r'Intel PQC', 'Intel Pentium Quad Core', str(processor))\n",
        "    return processor\n",
        "\n",
        "df['Processor'] = df['Processor'].apply(clean_processor)"
      ]
    },
    {
      "cell_type": "code",
      "execution_count": null,
      "metadata": {
        "colab": {
          "base_uri": "https://localhost:8080/"
        },
        "id": "hCbDFIfJFPTN",
        "outputId": "6a4d7a89-8e8f-457e-8aa4-1d06911489fc"
      },
      "outputs": [],
      "source": [
        "df['Processor'].value_counts()"
      ]
    },
    {
      "cell_type": "code",
      "execution_count": null,
      "metadata": {
        "id": "O53fUpq68orZ"
      },
      "outputs": [],
      "source": [
        "def clean_storage(storage):\n",
        "    storage = re.sub(r'1 HDD','1 TB HDD', str(storage))\n",
        "    storage = re.sub(r'128 SSD','128 GB SSD', str(storage))\n",
        "    storage = re.sub(r'256 SSD','256 GB SSD', str(storage))\n",
        "    storage = re.sub(r'1 SSD','128 GB SSD', str(storage))\n",
        "    storage = re.sub(r'2 SSD','256 GB SSD', str(storage))\n",
        "    storage = re.sub(r'128 SSD, 1 HDD','1 TB HDD, 128 GB SSD', str(storage)) \n",
        "    storage = re.sub(r'256 SSD, 1 HDD','1 TB HDD, 256 GB SSD', str(storage))\n",
        "    storage = re.sub(r'51256','512', str(storage))\n",
        "    storage = re.sub(r'256 HDD, 256 GB SSD','1 TB HDD, 256 GB SSD', str(storage))\n",
        "    storage = re.sub(r'None','512 GB SSD', str(storage))\n",
        "    return storage \n",
        "\n",
        "df['Storage'] = df['Storage'].apply(clean_storage)"
      ]
    },
    {
      "cell_type": "code",
      "execution_count": null,
      "metadata": {
        "colab": {
          "base_uri": "https://localhost:8080/"
        },
        "id": "GcVqWOcVpdZX",
        "outputId": "315a1219-204a-4454-e8a7-523a97c1713a"
      },
      "outputs": [],
      "source": [
        "df['Storage'].value_counts()"
      ]
    },
    {
      "cell_type": "code",
      "execution_count": null,
      "metadata": {
        "colab": {
          "base_uri": "https://localhost:8080/"
        },
        "id": "n3-eLS9fuVCM",
        "outputId": "11076d0e-da4f-4fdb-c294-6ef9e73d1142"
      },
      "outputs": [],
      "source": [
        "df['Storage'].describe()"
      ]
    },
    {
      "cell_type": "code",
      "execution_count": null,
      "metadata": {
        "colab": {
          "base_uri": "https://localhost:8080/"
        },
        "id": "VpXzyPDQKB5e",
        "outputId": "1cbc571e-7326-4d4c-aa21-5698aa3a984f"
      },
      "outputs": [],
      "source": [
        "# Remove unnecessary columns\n",
        "\n",
        "df = df.drop(['Product','Rating', 'Feature'], axis=1)\n",
        "df = df.reset_index(drop=True)\n",
        "\n",
        "df.info()"
      ]
    },
    {
      "cell_type": "code",
      "execution_count": null,
      "metadata": {
        "id": "YRzn-cZJKv-A"
      },
      "outputs": [],
      "source": [
        "df.to_csv('..\\data\\cleaned_data.csv', index = False)"
      ]
    }
  ],
  "metadata": {
    "colab": {
      "provenance": []
    },
    "kernelspec": {
      "display_name": "Python 3",
      "name": "python3"
    },
    "language_info": {
      "codemirror_mode": {
        "name": "ipython",
        "version": 3
      },
      "file_extension": ".py",
      "mimetype": "text/x-python",
      "name": "python",
      "nbconvert_exporter": "python",
      "pygments_lexer": "ipython3",
      "version": "3.9.12"
    }
  },
  "nbformat": 4,
  "nbformat_minor": 0
}
