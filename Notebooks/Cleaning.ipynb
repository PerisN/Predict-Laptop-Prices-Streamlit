{
  "cells": [
    {
      "cell_type": "code",
      "execution_count": null,
      "metadata": {
        "id": "NZTWbU-d-xRQ"
      },
      "outputs": [],
      "source": [
        "# Import Libraries\n",
        "\n",
        "import pandas as pd\n",
        "import numpy as np\n",
        "import re\n",
        "from scipy.stats import mode"
      ]
    },
    {
      "cell_type": "code",
      "execution_count": null,
      "metadata": {
        "id": "q3pKPUI_AQ8w",
        "colab": {
          "base_uri": "https://localhost:8080/",
          "height": 206
        },
        "outputId": "45216e1c-1da3-4f5c-f3cf-df656f93edd0"
      },
      "outputs": [
        {
          "output_type": "execute_result",
          "data": {
            "text/plain": [
              "                                             Product  Rating      MRP  \\\n",
              "0  Lenovo IdeaPad 3 Core i3 11th Gen - (8 GB/256 ...     4.2  ₹36,990   \n",
              "1  Lenovo IdeaPad 3 Core i3 11th Gen - (8 GB/512 ...     4.2  ₹39,990   \n",
              "2  ASUS VivoBook 15 (2022) Core i3 10th Gen - (8 ...     4.3  ₹32,990   \n",
              "3  HP Pavilion Ryzen 5 Hexa Core AMD R5-5600H - (...     4.4  ₹49,990   \n",
              "4  ASUS TUF Gaming F15 Core i5 10th Gen - (8 GB/5...     4.4  ₹49,990   \n",
              "\n",
              "                                             Feature  \n",
              "0  Intel Core i3 Processor (11th Gen)8 GB DDR4 RA...  \n",
              "1  Intel Core i3 Processor (11th Gen)8 GB DDR4 RA...  \n",
              "2  Intel Core i3 Processor (10th Gen)8 GB DDR4 RA...  \n",
              "3  AMD Ryzen 5 Hexa Core Processor8 GB DDR4 RAM64...  \n",
              "4  Intel Core i5 Processor (10th Gen)8 GB DDR4 RA...  "
            ],
            "text/html": [
              "\n",
              "  <div id=\"df-fe09410f-ad71-4b86-9926-6bf51a0d7926\">\n",
              "    <div class=\"colab-df-container\">\n",
              "      <div>\n",
              "<style scoped>\n",
              "    .dataframe tbody tr th:only-of-type {\n",
              "        vertical-align: middle;\n",
              "    }\n",
              "\n",
              "    .dataframe tbody tr th {\n",
              "        vertical-align: top;\n",
              "    }\n",
              "\n",
              "    .dataframe thead th {\n",
              "        text-align: right;\n",
              "    }\n",
              "</style>\n",
              "<table border=\"1\" class=\"dataframe\">\n",
              "  <thead>\n",
              "    <tr style=\"text-align: right;\">\n",
              "      <th></th>\n",
              "      <th>Product</th>\n",
              "      <th>Rating</th>\n",
              "      <th>MRP</th>\n",
              "      <th>Feature</th>\n",
              "    </tr>\n",
              "  </thead>\n",
              "  <tbody>\n",
              "    <tr>\n",
              "      <th>0</th>\n",
              "      <td>Lenovo IdeaPad 3 Core i3 11th Gen - (8 GB/256 ...</td>\n",
              "      <td>4.2</td>\n",
              "      <td>₹36,990</td>\n",
              "      <td>Intel Core i3 Processor (11th Gen)8 GB DDR4 RA...</td>\n",
              "    </tr>\n",
              "    <tr>\n",
              "      <th>1</th>\n",
              "      <td>Lenovo IdeaPad 3 Core i3 11th Gen - (8 GB/512 ...</td>\n",
              "      <td>4.2</td>\n",
              "      <td>₹39,990</td>\n",
              "      <td>Intel Core i3 Processor (11th Gen)8 GB DDR4 RA...</td>\n",
              "    </tr>\n",
              "    <tr>\n",
              "      <th>2</th>\n",
              "      <td>ASUS VivoBook 15 (2022) Core i3 10th Gen - (8 ...</td>\n",
              "      <td>4.3</td>\n",
              "      <td>₹32,990</td>\n",
              "      <td>Intel Core i3 Processor (10th Gen)8 GB DDR4 RA...</td>\n",
              "    </tr>\n",
              "    <tr>\n",
              "      <th>3</th>\n",
              "      <td>HP Pavilion Ryzen 5 Hexa Core AMD R5-5600H - (...</td>\n",
              "      <td>4.4</td>\n",
              "      <td>₹49,990</td>\n",
              "      <td>AMD Ryzen 5 Hexa Core Processor8 GB DDR4 RAM64...</td>\n",
              "    </tr>\n",
              "    <tr>\n",
              "      <th>4</th>\n",
              "      <td>ASUS TUF Gaming F15 Core i5 10th Gen - (8 GB/5...</td>\n",
              "      <td>4.4</td>\n",
              "      <td>₹49,990</td>\n",
              "      <td>Intel Core i5 Processor (10th Gen)8 GB DDR4 RA...</td>\n",
              "    </tr>\n",
              "  </tbody>\n",
              "</table>\n",
              "</div>\n",
              "      <button class=\"colab-df-convert\" onclick=\"convertToInteractive('df-fe09410f-ad71-4b86-9926-6bf51a0d7926')\"\n",
              "              title=\"Convert this dataframe to an interactive table.\"\n",
              "              style=\"display:none;\">\n",
              "        \n",
              "  <svg xmlns=\"http://www.w3.org/2000/svg\" height=\"24px\"viewBox=\"0 0 24 24\"\n",
              "       width=\"24px\">\n",
              "    <path d=\"M0 0h24v24H0V0z\" fill=\"none\"/>\n",
              "    <path d=\"M18.56 5.44l.94 2.06.94-2.06 2.06-.94-2.06-.94-.94-2.06-.94 2.06-2.06.94zm-11 1L8.5 8.5l.94-2.06 2.06-.94-2.06-.94L8.5 2.5l-.94 2.06-2.06.94zm10 10l.94 2.06.94-2.06 2.06-.94-2.06-.94-.94-2.06-.94 2.06-2.06.94z\"/><path d=\"M17.41 7.96l-1.37-1.37c-.4-.4-.92-.59-1.43-.59-.52 0-1.04.2-1.43.59L10.3 9.45l-7.72 7.72c-.78.78-.78 2.05 0 2.83L4 21.41c.39.39.9.59 1.41.59.51 0 1.02-.2 1.41-.59l7.78-7.78 2.81-2.81c.8-.78.8-2.07 0-2.86zM5.41 20L4 18.59l7.72-7.72 1.47 1.35L5.41 20z\"/>\n",
              "  </svg>\n",
              "      </button>\n",
              "      \n",
              "  <style>\n",
              "    .colab-df-container {\n",
              "      display:flex;\n",
              "      flex-wrap:wrap;\n",
              "      gap: 12px;\n",
              "    }\n",
              "\n",
              "    .colab-df-convert {\n",
              "      background-color: #E8F0FE;\n",
              "      border: none;\n",
              "      border-radius: 50%;\n",
              "      cursor: pointer;\n",
              "      display: none;\n",
              "      fill: #1967D2;\n",
              "      height: 32px;\n",
              "      padding: 0 0 0 0;\n",
              "      width: 32px;\n",
              "    }\n",
              "\n",
              "    .colab-df-convert:hover {\n",
              "      background-color: #E2EBFA;\n",
              "      box-shadow: 0px 1px 2px rgba(60, 64, 67, 0.3), 0px 1px 3px 1px rgba(60, 64, 67, 0.15);\n",
              "      fill: #174EA6;\n",
              "    }\n",
              "\n",
              "    [theme=dark] .colab-df-convert {\n",
              "      background-color: #3B4455;\n",
              "      fill: #D2E3FC;\n",
              "    }\n",
              "\n",
              "    [theme=dark] .colab-df-convert:hover {\n",
              "      background-color: #434B5C;\n",
              "      box-shadow: 0px 1px 3px 1px rgba(0, 0, 0, 0.15);\n",
              "      filter: drop-shadow(0px 1px 2px rgba(0, 0, 0, 0.3));\n",
              "      fill: #FFFFFF;\n",
              "    }\n",
              "  </style>\n",
              "\n",
              "      <script>\n",
              "        const buttonEl =\n",
              "          document.querySelector('#df-fe09410f-ad71-4b86-9926-6bf51a0d7926 button.colab-df-convert');\n",
              "        buttonEl.style.display =\n",
              "          google.colab.kernel.accessAllowed ? 'block' : 'none';\n",
              "\n",
              "        async function convertToInteractive(key) {\n",
              "          const element = document.querySelector('#df-fe09410f-ad71-4b86-9926-6bf51a0d7926');\n",
              "          const dataTable =\n",
              "            await google.colab.kernel.invokeFunction('convertToInteractive',\n",
              "                                                     [key], {});\n",
              "          if (!dataTable) return;\n",
              "\n",
              "          const docLinkHtml = 'Like what you see? Visit the ' +\n",
              "            '<a target=\"_blank\" href=https://colab.research.google.com/notebooks/data_table.ipynb>data table notebook</a>'\n",
              "            + ' to learn more about interactive tables.';\n",
              "          element.innerHTML = '';\n",
              "          dataTable['output_type'] = 'display_data';\n",
              "          await google.colab.output.renderOutput(dataTable, element);\n",
              "          const docLink = document.createElement('div');\n",
              "          docLink.innerHTML = docLinkHtml;\n",
              "          element.appendChild(docLink);\n",
              "        }\n",
              "      </script>\n",
              "    </div>\n",
              "  </div>\n",
              "  "
            ]
          },
          "metadata": {},
          "execution_count": 2
        }
      ],
      "source": [
        "# Load data\n",
        "\n",
        "df = pd.read_csv('Data/laptop_details.csv')\n",
        "df.head()"
      ]
    },
    {
      "cell_type": "code",
      "execution_count": null,
      "metadata": {
        "id": "tZr89eXECOPu",
        "colab": {
          "base_uri": "https://localhost:8080/"
        },
        "outputId": "b1f41444-c983-4b61-c504-81bb4c5be583"
      },
      "outputs": [
        {
          "output_type": "execute_result",
          "data": {
            "text/plain": [
              "(720, 4)"
            ]
          },
          "metadata": {},
          "execution_count": 3
        }
      ],
      "source": [
        "# Shape of the dataset\n",
        "\n",
        "df.shape"
      ]
    },
    {
      "cell_type": "code",
      "execution_count": null,
      "metadata": {
        "id": "wluwFULCAh0v",
        "colab": {
          "base_uri": "https://localhost:8080/"
        },
        "outputId": "19dbc47b-88a6-443c-be2d-b2fc6c8987de"
      },
      "outputs": [
        {
          "output_type": "stream",
          "name": "stdout",
          "text": [
            "<class 'pandas.core.frame.DataFrame'>\n",
            "RangeIndex: 720 entries, 0 to 719\n",
            "Data columns (total 4 columns):\n",
            " #   Column   Non-Null Count  Dtype  \n",
            "---  ------   --------------  -----  \n",
            " 0   Product  720 non-null    object \n",
            " 1   Rating   581 non-null    float64\n",
            " 2   MRP      720 non-null    object \n",
            " 3   Feature  720 non-null    object \n",
            "dtypes: float64(1), object(3)\n",
            "memory usage: 22.6+ KB\n"
          ]
        }
      ],
      "source": [
        "df.info()"
      ]
    },
    {
      "cell_type": "code",
      "execution_count": null,
      "metadata": {
        "id": "5USgqvDMAlat",
        "colab": {
          "base_uri": "https://localhost:8080/"
        },
        "outputId": "4562a73d-b0e3-4075-c544-274306637ebd"
      },
      "outputs": [
        {
          "output_type": "execute_result",
          "data": {
            "text/plain": [
              "297"
            ]
          },
          "metadata": {},
          "execution_count": 5
        }
      ],
      "source": [
        "# Check duplicate values\n",
        " \n",
        "df.duplicated().sum()"
      ]
    },
    {
      "cell_type": "code",
      "execution_count": null,
      "metadata": {
        "id": "p6YIJKm8CWCp",
        "colab": {
          "base_uri": "https://localhost:8080/",
          "height": 423
        },
        "outputId": "1b369d15-8cdf-4e9a-9a46-228462bfbb0b"
      },
      "outputs": [
        {
          "output_type": "execute_result",
          "data": {
            "text/plain": [
              "                                               Product  Rating        MRP  \\\n",
              "25   RedmiBook Pro Core i5 11th Gen - (8 GB/512 GB ...     4.1    ₹39,990   \n",
              "26   Lenovo IdeaPad 3 Core i3 11th Gen - (8 GB/512 ...     4.2    ₹39,990   \n",
              "27   ASUS ROG Strix G15 (2022) with 90Whr Battery R...     NaN  ₹1,96,990   \n",
              "29   realme Book (Slim) Core i3 11th Gen - (8 GB/25...     4.4    ₹46,990   \n",
              "30   Lenovo IdeaPad 1 Ryzen 5 Quad Core 3500U - (8 ...     4.2    ₹38,705   \n",
              "..                                                 ...     ...        ...   \n",
              "708  ASUS VivoBook 15 Core i5 10th Gen - (8 GB/1 TB...     3.9    ₹44,990   \n",
              "710  Lenovo IdeaPad 1 Ryzen 3 Dual Core 3250U - (8 ...     4.2    ₹35,590   \n",
              "711  ASUS ROG Strix G15 Advantage Edition with 90Wh...     4.9  ₹1,50,990   \n",
              "716  Lenovo IdeaPad Gaming 3 Ryzen 7 Octa Core AMD ...     4.5    ₹73,490   \n",
              "717  ASUS ROG Zephyrus G15 Ryzen 9 Octa Core 6900HS...     NaN  ₹1,94,990   \n",
              "\n",
              "                                               Feature  \n",
              "25   Intel Core i5 Processor (11th Gen)8 GB DDR4 RA...  \n",
              "26   Intel Core i3 Processor (11th Gen)8 GB DDR4 RA...  \n",
              "27   AMD Ryzen 9 Octa Core Processor16 GB DDR5 RAMW...  \n",
              "29   Stylish & Portable Thin and Light Laptop14 inc...  \n",
              "30   AMD Ryzen 5 Quad Core Processor8 GB DDR4 RAM64...  \n",
              "..                                                 ...  \n",
              "708  Intel Core i5 Processor (10th Gen)8 GB DDR4 RA...  \n",
              "710  AMD Ryzen 3 Dual Core Processor8 GB DDR4 RAM64...  \n",
              "711  AMD Ryzen 9 Octa Core Processor16 GB DDR4 RAMW...  \n",
              "716  AMD Ryzen 7 Octa Core Processor8 GB DDR4 RAM64...  \n",
              "717  AMD Ryzen 9 Octa Core Processor16 GB DDR5 RAM6...  \n",
              "\n",
              "[297 rows x 4 columns]"
            ],
            "text/html": [
              "\n",
              "  <div id=\"df-5b5e8eb2-08fe-4a21-bccd-e3c6b82d97fd\">\n",
              "    <div class=\"colab-df-container\">\n",
              "      <div>\n",
              "<style scoped>\n",
              "    .dataframe tbody tr th:only-of-type {\n",
              "        vertical-align: middle;\n",
              "    }\n",
              "\n",
              "    .dataframe tbody tr th {\n",
              "        vertical-align: top;\n",
              "    }\n",
              "\n",
              "    .dataframe thead th {\n",
              "        text-align: right;\n",
              "    }\n",
              "</style>\n",
              "<table border=\"1\" class=\"dataframe\">\n",
              "  <thead>\n",
              "    <tr style=\"text-align: right;\">\n",
              "      <th></th>\n",
              "      <th>Product</th>\n",
              "      <th>Rating</th>\n",
              "      <th>MRP</th>\n",
              "      <th>Feature</th>\n",
              "    </tr>\n",
              "  </thead>\n",
              "  <tbody>\n",
              "    <tr>\n",
              "      <th>25</th>\n",
              "      <td>RedmiBook Pro Core i5 11th Gen - (8 GB/512 GB ...</td>\n",
              "      <td>4.1</td>\n",
              "      <td>₹39,990</td>\n",
              "      <td>Intel Core i5 Processor (11th Gen)8 GB DDR4 RA...</td>\n",
              "    </tr>\n",
              "    <tr>\n",
              "      <th>26</th>\n",
              "      <td>Lenovo IdeaPad 3 Core i3 11th Gen - (8 GB/512 ...</td>\n",
              "      <td>4.2</td>\n",
              "      <td>₹39,990</td>\n",
              "      <td>Intel Core i3 Processor (11th Gen)8 GB DDR4 RA...</td>\n",
              "    </tr>\n",
              "    <tr>\n",
              "      <th>27</th>\n",
              "      <td>ASUS ROG Strix G15 (2022) with 90Whr Battery R...</td>\n",
              "      <td>NaN</td>\n",
              "      <td>₹1,96,990</td>\n",
              "      <td>AMD Ryzen 9 Octa Core Processor16 GB DDR5 RAMW...</td>\n",
              "    </tr>\n",
              "    <tr>\n",
              "      <th>29</th>\n",
              "      <td>realme Book (Slim) Core i3 11th Gen - (8 GB/25...</td>\n",
              "      <td>4.4</td>\n",
              "      <td>₹46,990</td>\n",
              "      <td>Stylish &amp; Portable Thin and Light Laptop14 inc...</td>\n",
              "    </tr>\n",
              "    <tr>\n",
              "      <th>30</th>\n",
              "      <td>Lenovo IdeaPad 1 Ryzen 5 Quad Core 3500U - (8 ...</td>\n",
              "      <td>4.2</td>\n",
              "      <td>₹38,705</td>\n",
              "      <td>AMD Ryzen 5 Quad Core Processor8 GB DDR4 RAM64...</td>\n",
              "    </tr>\n",
              "    <tr>\n",
              "      <th>...</th>\n",
              "      <td>...</td>\n",
              "      <td>...</td>\n",
              "      <td>...</td>\n",
              "      <td>...</td>\n",
              "    </tr>\n",
              "    <tr>\n",
              "      <th>708</th>\n",
              "      <td>ASUS VivoBook 15 Core i5 10th Gen - (8 GB/1 TB...</td>\n",
              "      <td>3.9</td>\n",
              "      <td>₹44,990</td>\n",
              "      <td>Intel Core i5 Processor (10th Gen)8 GB DDR4 RA...</td>\n",
              "    </tr>\n",
              "    <tr>\n",
              "      <th>710</th>\n",
              "      <td>Lenovo IdeaPad 1 Ryzen 3 Dual Core 3250U - (8 ...</td>\n",
              "      <td>4.2</td>\n",
              "      <td>₹35,590</td>\n",
              "      <td>AMD Ryzen 3 Dual Core Processor8 GB DDR4 RAM64...</td>\n",
              "    </tr>\n",
              "    <tr>\n",
              "      <th>711</th>\n",
              "      <td>ASUS ROG Strix G15 Advantage Edition with 90Wh...</td>\n",
              "      <td>4.9</td>\n",
              "      <td>₹1,50,990</td>\n",
              "      <td>AMD Ryzen 9 Octa Core Processor16 GB DDR4 RAMW...</td>\n",
              "    </tr>\n",
              "    <tr>\n",
              "      <th>716</th>\n",
              "      <td>Lenovo IdeaPad Gaming 3 Ryzen 7 Octa Core AMD ...</td>\n",
              "      <td>4.5</td>\n",
              "      <td>₹73,490</td>\n",
              "      <td>AMD Ryzen 7 Octa Core Processor8 GB DDR4 RAM64...</td>\n",
              "    </tr>\n",
              "    <tr>\n",
              "      <th>717</th>\n",
              "      <td>ASUS ROG Zephyrus G15 Ryzen 9 Octa Core 6900HS...</td>\n",
              "      <td>NaN</td>\n",
              "      <td>₹1,94,990</td>\n",
              "      <td>AMD Ryzen 9 Octa Core Processor16 GB DDR5 RAM6...</td>\n",
              "    </tr>\n",
              "  </tbody>\n",
              "</table>\n",
              "<p>297 rows × 4 columns</p>\n",
              "</div>\n",
              "      <button class=\"colab-df-convert\" onclick=\"convertToInteractive('df-5b5e8eb2-08fe-4a21-bccd-e3c6b82d97fd')\"\n",
              "              title=\"Convert this dataframe to an interactive table.\"\n",
              "              style=\"display:none;\">\n",
              "        \n",
              "  <svg xmlns=\"http://www.w3.org/2000/svg\" height=\"24px\"viewBox=\"0 0 24 24\"\n",
              "       width=\"24px\">\n",
              "    <path d=\"M0 0h24v24H0V0z\" fill=\"none\"/>\n",
              "    <path d=\"M18.56 5.44l.94 2.06.94-2.06 2.06-.94-2.06-.94-.94-2.06-.94 2.06-2.06.94zm-11 1L8.5 8.5l.94-2.06 2.06-.94-2.06-.94L8.5 2.5l-.94 2.06-2.06.94zm10 10l.94 2.06.94-2.06 2.06-.94-2.06-.94-.94-2.06-.94 2.06-2.06.94z\"/><path d=\"M17.41 7.96l-1.37-1.37c-.4-.4-.92-.59-1.43-.59-.52 0-1.04.2-1.43.59L10.3 9.45l-7.72 7.72c-.78.78-.78 2.05 0 2.83L4 21.41c.39.39.9.59 1.41.59.51 0 1.02-.2 1.41-.59l7.78-7.78 2.81-2.81c.8-.78.8-2.07 0-2.86zM5.41 20L4 18.59l7.72-7.72 1.47 1.35L5.41 20z\"/>\n",
              "  </svg>\n",
              "      </button>\n",
              "      \n",
              "  <style>\n",
              "    .colab-df-container {\n",
              "      display:flex;\n",
              "      flex-wrap:wrap;\n",
              "      gap: 12px;\n",
              "    }\n",
              "\n",
              "    .colab-df-convert {\n",
              "      background-color: #E8F0FE;\n",
              "      border: none;\n",
              "      border-radius: 50%;\n",
              "      cursor: pointer;\n",
              "      display: none;\n",
              "      fill: #1967D2;\n",
              "      height: 32px;\n",
              "      padding: 0 0 0 0;\n",
              "      width: 32px;\n",
              "    }\n",
              "\n",
              "    .colab-df-convert:hover {\n",
              "      background-color: #E2EBFA;\n",
              "      box-shadow: 0px 1px 2px rgba(60, 64, 67, 0.3), 0px 1px 3px 1px rgba(60, 64, 67, 0.15);\n",
              "      fill: #174EA6;\n",
              "    }\n",
              "\n",
              "    [theme=dark] .colab-df-convert {\n",
              "      background-color: #3B4455;\n",
              "      fill: #D2E3FC;\n",
              "    }\n",
              "\n",
              "    [theme=dark] .colab-df-convert:hover {\n",
              "      background-color: #434B5C;\n",
              "      box-shadow: 0px 1px 3px 1px rgba(0, 0, 0, 0.15);\n",
              "      filter: drop-shadow(0px 1px 2px rgba(0, 0, 0, 0.3));\n",
              "      fill: #FFFFFF;\n",
              "    }\n",
              "  </style>\n",
              "\n",
              "      <script>\n",
              "        const buttonEl =\n",
              "          document.querySelector('#df-5b5e8eb2-08fe-4a21-bccd-e3c6b82d97fd button.colab-df-convert');\n",
              "        buttonEl.style.display =\n",
              "          google.colab.kernel.accessAllowed ? 'block' : 'none';\n",
              "\n",
              "        async function convertToInteractive(key) {\n",
              "          const element = document.querySelector('#df-5b5e8eb2-08fe-4a21-bccd-e3c6b82d97fd');\n",
              "          const dataTable =\n",
              "            await google.colab.kernel.invokeFunction('convertToInteractive',\n",
              "                                                     [key], {});\n",
              "          if (!dataTable) return;\n",
              "\n",
              "          const docLinkHtml = 'Like what you see? Visit the ' +\n",
              "            '<a target=\"_blank\" href=https://colab.research.google.com/notebooks/data_table.ipynb>data table notebook</a>'\n",
              "            + ' to learn more about interactive tables.';\n",
              "          element.innerHTML = '';\n",
              "          dataTable['output_type'] = 'display_data';\n",
              "          await google.colab.output.renderOutput(dataTable, element);\n",
              "          const docLink = document.createElement('div');\n",
              "          docLink.innerHTML = docLinkHtml;\n",
              "          element.appendChild(docLink);\n",
              "        }\n",
              "      </script>\n",
              "    </div>\n",
              "  </div>\n",
              "  "
            ]
          },
          "metadata": {},
          "execution_count": 6
        }
      ],
      "source": [
        "df[df.duplicated()]"
      ]
    },
    {
      "cell_type": "code",
      "execution_count": null,
      "metadata": {
        "id": "CzVo7UC3DGz-",
        "colab": {
          "base_uri": "https://localhost:8080/"
        },
        "outputId": "160891f9-6ac7-4a1d-e129-323b0a08ed23"
      },
      "outputs": [
        {
          "output_type": "execute_result",
          "data": {
            "text/plain": [
              "(423, 4)"
            ]
          },
          "metadata": {},
          "execution_count": 7
        }
      ],
      "source": [
        "# Drop duplicates\n",
        "\n",
        "df = df.drop_duplicates(keep='first')     \n",
        "\n",
        "df.shape"
      ]
    },
    {
      "cell_type": "markdown",
      "metadata": {
        "id": "ayikSuDvZVGl"
      },
      "source": [
        "### **Extracting features using Regex**"
      ]
    },
    {
      "cell_type": "code",
      "execution_count": null,
      "metadata": {
        "id": "ctSdmW_5ZfiO",
        "colab": {
          "base_uri": "https://localhost:8080/"
        },
        "outputId": "84d4758f-7526-4bcf-d128-3a7527a437fb"
      },
      "outputs": [
        {
          "output_type": "stream",
          "name": "stdout",
          "text": [
            "Lenovo IdeaPad 3 Core i3 11th Gen - (8 GB/256 GB SSD/Windows 11 Home) 14ITL05 Thin and Light Laptop\n",
            "Intel Core i3 Processor (11th Gen)8 GB DDR4 RAM64 bit Windows 11 Operating System256 GB SSD35.56 cm (14 inch) DisplayOffice Home and Student 20212 Year Onsite�Warranty\n",
            "Lenovo IdeaPad 3 Core i3 11th Gen - (8 GB/512 GB SSD/Windows 11 Home) 82H801L7IN | 82H802FJIN | 82H802...\n",
            "Intel Core i3 Processor (11th Gen)8 GB DDR4 RAM64 bit Windows 11 Operating System512 GB SSD39.62 cm (15.6 inch) DisplayOffice Home and Student 20212 Year Onsite�Warranty\n"
          ]
        }
      ],
      "source": [
        "print(df.iloc[0,0])\n",
        "print(df.iloc[0,-1])\n",
        "\n",
        "print(df.iloc[1,0])\n",
        "print(df.iloc[1,-1])"
      ]
    },
    {
      "cell_type": "code",
      "source": [
        "# Extract features\n",
        "\n",
        "def extract_features(row):\n",
        "    product = row['Product']\n",
        "    feature = row['Feature']\n",
        "    \n",
        "    ram_size = re.findall(r'(\\d+) ?(?:GB|TB)', feature)\n",
        "    ram_size = int(ram_size[0]) if ram_size else None\n",
        "    \n",
        "    ram_type = re.findall(r'(?:LP)?DDR\\d\\S*|Unified\\sMemory', feature)\n",
        "    ram_type = ram_type[0] if ram_type else None\n",
        "\n",
        "    display = re.findall(r'\\d+(?:\\.\\d+)?\\s*(?:cm|inch)\\s*(?:\\(|:)?\\s*\\d+(?:\\.\\d+)?\\s*(?:cm|inch)?', feature)\n",
        "    display = display[0] if display else None\n",
        "    \n",
        "    processor = re.findall(r'(?:AMD|Intel|M\\d+|Qualcomm Snapdragon)[\\s\\w]*\\b', feature)\n",
        "    processor = processor[0] if processor else None\n",
        "\n",
        "    storage = re.findall(r'(\\d+) ?(?:GB|TB) ?(SSD|HDD)', feature)\n",
        "    storage = list(set([(f\"{s[0]} {s[1]}\") for s in storage])) if storage else None\n",
        "    storage = \", \".join(storage) if storage else None\n",
        "  \n",
        "    os = re.findall(r'(Windows|Mac OS|Linux|DOS|Chrome)[\\s\\w]', feature)\n",
        "    os = os[0] if os else None\n",
        "    \n",
        "    brand = re.findall(r'^\\w+', product)\n",
        "    brand = brand[0] if brand else None\n",
        "    \n",
        "    return pd.Series([ram_size, ram_type, display, processor, storage, os, brand],\n",
        "                     index=['Ram Size', 'Ram Type', 'Display', 'Processor', 'Storage', 'OS', 'Brand'])\n",
        "    \n",
        "df[['RAM_Size(GB)', 'RAM_Type', 'Display', 'Processor', 'Storage', 'OS', 'Brand']] = df.apply(extract_features, axis=1)\n",
        "\n",
        "df.sample(3)"
      ],
      "metadata": {
        "id": "sjqpRmC6PMYu",
        "colab": {
          "base_uri": "https://localhost:8080/",
          "height": 292
        },
        "outputId": "a6310832-68d4-4b01-e10e-face8761f3c5"
      },
      "execution_count": null,
      "outputs": [
        {
          "output_type": "execute_result",
          "data": {
            "text/plain": [
              "                                               Product  Rating      MRP  \\\n",
              "122  DELL Ryzen 7 Octa Core AMD R7-5800H - (16 GB/5...     5.0  ₹89,081   \n",
              "394  Lenovo Ideapad Slim 5 Ryzen 7 Octa Core 4700U ...     4.4  ₹55,600   \n",
              "121  acer Nitro 5 Ryzen 5 Hexa Core 5600H - (16 GB/...     4.3  ₹66,990   \n",
              "\n",
              "                                               Feature  RAM_Size(GB) RAM_Type  \\\n",
              "122  NVIDIA RTX 3050 Graphics upto 90W TGP15.6 inch...            16     DDR4   \n",
              "394  AMD Ryzen 7 Octa Core Processor8 GB DDR4 RAM64...             8     DDR4   \n",
              "121  AMD Ryzen 5 Hexa Core Processor16 GB DDR4 RAMW...            16     DDR4   \n",
              "\n",
              "                 Display                                          Processor  \\\n",
              "122  39.62 cm (15.6 inch  AMD Ryzen 7 Octa Core Processor16 GB DDR4 RAM6...   \n",
              "394    35.56 cm (14 inch  AMD Ryzen 7 Octa Core Processor8 GB DDR4 RAM64...   \n",
              "121      39.62 cm (15.6   AMD Ryzen 5 Hexa Core Processor16 GB DDR4 RAMW...   \n",
              "\n",
              "     Storage       OS   Brand  \n",
              "122  512 SSD  Windows    DELL  \n",
              "394  512 SSD  Windows  Lenovo  \n",
              "121  512 SSD  Windows    acer  "
            ],
            "text/html": [
              "\n",
              "  <div id=\"df-e852be5f-12e3-4ab0-b794-a8aa9380bbb3\">\n",
              "    <div class=\"colab-df-container\">\n",
              "      <div>\n",
              "<style scoped>\n",
              "    .dataframe tbody tr th:only-of-type {\n",
              "        vertical-align: middle;\n",
              "    }\n",
              "\n",
              "    .dataframe tbody tr th {\n",
              "        vertical-align: top;\n",
              "    }\n",
              "\n",
              "    .dataframe thead th {\n",
              "        text-align: right;\n",
              "    }\n",
              "</style>\n",
              "<table border=\"1\" class=\"dataframe\">\n",
              "  <thead>\n",
              "    <tr style=\"text-align: right;\">\n",
              "      <th></th>\n",
              "      <th>Product</th>\n",
              "      <th>Rating</th>\n",
              "      <th>MRP</th>\n",
              "      <th>Feature</th>\n",
              "      <th>RAM_Size(GB)</th>\n",
              "      <th>RAM_Type</th>\n",
              "      <th>Display</th>\n",
              "      <th>Processor</th>\n",
              "      <th>Storage</th>\n",
              "      <th>OS</th>\n",
              "      <th>Brand</th>\n",
              "    </tr>\n",
              "  </thead>\n",
              "  <tbody>\n",
              "    <tr>\n",
              "      <th>122</th>\n",
              "      <td>DELL Ryzen 7 Octa Core AMD R7-5800H - (16 GB/5...</td>\n",
              "      <td>5.0</td>\n",
              "      <td>₹89,081</td>\n",
              "      <td>NVIDIA RTX 3050 Graphics upto 90W TGP15.6 inch...</td>\n",
              "      <td>16</td>\n",
              "      <td>DDR4</td>\n",
              "      <td>39.62 cm (15.6 inch</td>\n",
              "      <td>AMD Ryzen 7 Octa Core Processor16 GB DDR4 RAM6...</td>\n",
              "      <td>512 SSD</td>\n",
              "      <td>Windows</td>\n",
              "      <td>DELL</td>\n",
              "    </tr>\n",
              "    <tr>\n",
              "      <th>394</th>\n",
              "      <td>Lenovo Ideapad Slim 5 Ryzen 7 Octa Core 4700U ...</td>\n",
              "      <td>4.4</td>\n",
              "      <td>₹55,600</td>\n",
              "      <td>AMD Ryzen 7 Octa Core Processor8 GB DDR4 RAM64...</td>\n",
              "      <td>8</td>\n",
              "      <td>DDR4</td>\n",
              "      <td>35.56 cm (14 inch</td>\n",
              "      <td>AMD Ryzen 7 Octa Core Processor8 GB DDR4 RAM64...</td>\n",
              "      <td>512 SSD</td>\n",
              "      <td>Windows</td>\n",
              "      <td>Lenovo</td>\n",
              "    </tr>\n",
              "    <tr>\n",
              "      <th>121</th>\n",
              "      <td>acer Nitro 5 Ryzen 5 Hexa Core 5600H - (16 GB/...</td>\n",
              "      <td>4.3</td>\n",
              "      <td>₹66,990</td>\n",
              "      <td>AMD Ryzen 5 Hexa Core Processor16 GB DDR4 RAMW...</td>\n",
              "      <td>16</td>\n",
              "      <td>DDR4</td>\n",
              "      <td>39.62 cm (15.6</td>\n",
              "      <td>AMD Ryzen 5 Hexa Core Processor16 GB DDR4 RAMW...</td>\n",
              "      <td>512 SSD</td>\n",
              "      <td>Windows</td>\n",
              "      <td>acer</td>\n",
              "    </tr>\n",
              "  </tbody>\n",
              "</table>\n",
              "</div>\n",
              "      <button class=\"colab-df-convert\" onclick=\"convertToInteractive('df-e852be5f-12e3-4ab0-b794-a8aa9380bbb3')\"\n",
              "              title=\"Convert this dataframe to an interactive table.\"\n",
              "              style=\"display:none;\">\n",
              "        \n",
              "  <svg xmlns=\"http://www.w3.org/2000/svg\" height=\"24px\"viewBox=\"0 0 24 24\"\n",
              "       width=\"24px\">\n",
              "    <path d=\"M0 0h24v24H0V0z\" fill=\"none\"/>\n",
              "    <path d=\"M18.56 5.44l.94 2.06.94-2.06 2.06-.94-2.06-.94-.94-2.06-.94 2.06-2.06.94zm-11 1L8.5 8.5l.94-2.06 2.06-.94-2.06-.94L8.5 2.5l-.94 2.06-2.06.94zm10 10l.94 2.06.94-2.06 2.06-.94-2.06-.94-.94-2.06-.94 2.06-2.06.94z\"/><path d=\"M17.41 7.96l-1.37-1.37c-.4-.4-.92-.59-1.43-.59-.52 0-1.04.2-1.43.59L10.3 9.45l-7.72 7.72c-.78.78-.78 2.05 0 2.83L4 21.41c.39.39.9.59 1.41.59.51 0 1.02-.2 1.41-.59l7.78-7.78 2.81-2.81c.8-.78.8-2.07 0-2.86zM5.41 20L4 18.59l7.72-7.72 1.47 1.35L5.41 20z\"/>\n",
              "  </svg>\n",
              "      </button>\n",
              "      \n",
              "  <style>\n",
              "    .colab-df-container {\n",
              "      display:flex;\n",
              "      flex-wrap:wrap;\n",
              "      gap: 12px;\n",
              "    }\n",
              "\n",
              "    .colab-df-convert {\n",
              "      background-color: #E8F0FE;\n",
              "      border: none;\n",
              "      border-radius: 50%;\n",
              "      cursor: pointer;\n",
              "      display: none;\n",
              "      fill: #1967D2;\n",
              "      height: 32px;\n",
              "      padding: 0 0 0 0;\n",
              "      width: 32px;\n",
              "    }\n",
              "\n",
              "    .colab-df-convert:hover {\n",
              "      background-color: #E2EBFA;\n",
              "      box-shadow: 0px 1px 2px rgba(60, 64, 67, 0.3), 0px 1px 3px 1px rgba(60, 64, 67, 0.15);\n",
              "      fill: #174EA6;\n",
              "    }\n",
              "\n",
              "    [theme=dark] .colab-df-convert {\n",
              "      background-color: #3B4455;\n",
              "      fill: #D2E3FC;\n",
              "    }\n",
              "\n",
              "    [theme=dark] .colab-df-convert:hover {\n",
              "      background-color: #434B5C;\n",
              "      box-shadow: 0px 1px 3px 1px rgba(0, 0, 0, 0.15);\n",
              "      filter: drop-shadow(0px 1px 2px rgba(0, 0, 0, 0.3));\n",
              "      fill: #FFFFFF;\n",
              "    }\n",
              "  </style>\n",
              "\n",
              "      <script>\n",
              "        const buttonEl =\n",
              "          document.querySelector('#df-e852be5f-12e3-4ab0-b794-a8aa9380bbb3 button.colab-df-convert');\n",
              "        buttonEl.style.display =\n",
              "          google.colab.kernel.accessAllowed ? 'block' : 'none';\n",
              "\n",
              "        async function convertToInteractive(key) {\n",
              "          const element = document.querySelector('#df-e852be5f-12e3-4ab0-b794-a8aa9380bbb3');\n",
              "          const dataTable =\n",
              "            await google.colab.kernel.invokeFunction('convertToInteractive',\n",
              "                                                     [key], {});\n",
              "          if (!dataTable) return;\n",
              "\n",
              "          const docLinkHtml = 'Like what you see? Visit the ' +\n",
              "            '<a target=\"_blank\" href=https://colab.research.google.com/notebooks/data_table.ipynb>data table notebook</a>'\n",
              "            + ' to learn more about interactive tables.';\n",
              "          element.innerHTML = '';\n",
              "          dataTable['output_type'] = 'display_data';\n",
              "          await google.colab.output.renderOutput(dataTable, element);\n",
              "          const docLink = document.createElement('div');\n",
              "          docLink.innerHTML = docLinkHtml;\n",
              "          element.appendChild(docLink);\n",
              "        }\n",
              "      </script>\n",
              "    </div>\n",
              "  </div>\n",
              "  "
            ]
          },
          "metadata": {},
          "execution_count": 9
        }
      ]
    },
    {
      "cell_type": "code",
      "source": [
        "df['RAM_Type'].value_counts()"
      ],
      "metadata": {
        "colab": {
          "base_uri": "https://localhost:8080/"
        },
        "id": "WnX4tGcUxp12",
        "outputId": "000e60a4-2677-4e00-94ed-7bbfd914356a"
      },
      "execution_count": null,
      "outputs": [
        {
          "output_type": "execute_result",
          "data": {
            "text/plain": [
              "DDR4              320\n",
              "DDR5               42\n",
              "LPDDR4X            30\n",
              "Unified Memory     12\n",
              "LPDDR5              9\n",
              "LPDDR4              8\n",
              "DDR4,               1\n",
              "LPDDR3              1\n",
              "Name: RAM_Type, dtype: int64"
            ]
          },
          "metadata": {},
          "execution_count": 10
        }
      ]
    },
    {
      "cell_type": "code",
      "source": [
        "df['Storage'].value_counts()"
      ],
      "metadata": {
        "colab": {
          "base_uri": "https://localhost:8080/"
        },
        "id": "eViTKuLyxBY2",
        "outputId": "f20b4178-8f83-45cd-dc58-1c03a49c832c"
      },
      "execution_count": null,
      "outputs": [
        {
          "output_type": "execute_result",
          "data": {
            "text/plain": [
              "512 SSD             223\n",
              "1 SSD                74\n",
              "256 SSD              63\n",
              "1 HDD, 256 SSD       25\n",
              "1 HDD                14\n",
              "2 SSD                 6\n",
              "128 SSD               4\n",
              "512 SSD, 1 HDD        2\n",
              "128 SSD, 1 HDD        2\n",
              "256 HDD, 256 SSD      1\n",
              "Name: Storage, dtype: int64"
            ]
          },
          "metadata": {},
          "execution_count": 11
        }
      ]
    },
    {
      "cell_type": "code",
      "source": [
        "df['Brand'].value_counts()"
      ],
      "metadata": {
        "colab": {
          "base_uri": "https://localhost:8080/"
        },
        "id": "6sxlddSFzKyl",
        "outputId": "8f12d51e-f404-4c0a-e7a4-d37890261c5a"
      },
      "execution_count": null,
      "outputs": [
        {
          "output_type": "execute_result",
          "data": {
            "text/plain": [
              "ASUS         136\n",
              "Lenovo        62\n",
              "HP            57\n",
              "DELL          56\n",
              "acer          34\n",
              "MSI           29\n",
              "APPLE         19\n",
              "Infinix       14\n",
              "realme         4\n",
              "ALIENWARE      3\n",
              "RedmiBook      2\n",
              "SAMSUNG        2\n",
              "Ultimus        2\n",
              "Vaio           1\n",
              "GIGABYTE       1\n",
              "Nokia          1\n",
              "Name: Brand, dtype: int64"
            ]
          },
          "metadata": {},
          "execution_count": 12
        }
      ]
    },
    {
      "cell_type": "code",
      "source": [
        "df['Processor'].value_counts()"
      ],
      "metadata": {
        "colab": {
          "base_uri": "https://localhost:8080/"
        },
        "id": "ij-RsZcryuCd",
        "outputId": "6ce12177-d8f6-43d5-a322-26ddee98ae23"
      },
      "execution_count": null,
      "outputs": [
        {
          "output_type": "execute_result",
          "data": {
            "text/plain": [
              "Intel Core i5 Processor                                                                        109\n",
              "Intel Core i3 Processor                                                                         69\n",
              "Intel Core i7 Processor                                                                         52\n",
              "AMD Ryzen 5 Hexa Core Processor8 GB DDR4 RAM64 bit Windows 11 Operating System512 GB SSD39      11\n",
              "Intel Core i9 Processor                                                                         11\n",
              "                                                                                              ... \n",
              "M1 Max Processor32 GB Unified Memory RAMMac OS Operating System1 TB SSD41                        1\n",
              "AMD Ryzen 3 Dual Core Processor8 GB DDR4 RAM64 bit Windows 11 Operating System512 GB SSD35       1\n",
              "AMD Ryzen 5 Quad Core Processor8 GB DDR4 RAM32 bit Windows 11 Operating System512 GB SSD35       1\n",
              "AMD Ryzen 3                                                                                      1\n",
              "AMD Ryzen 7 Octa Core Processor16 GB DDR4 RAM64 bit Windows 10 Operating System512 GB SSD39      1\n",
              "Name: Processor, Length: 120, dtype: int64"
            ]
          },
          "metadata": {},
          "execution_count": 13
        }
      ]
    },
    {
      "cell_type": "code",
      "source": [
        "df['Display'].value_counts()"
      ],
      "metadata": {
        "colab": {
          "base_uri": "https://localhost:8080/"
        },
        "id": "dZ5g6oBH7mw8",
        "outputId": "080e56d4-5ede-4dbf-e692-ac9c4ec12a9f"
      },
      "execution_count": null,
      "outputs": [
        {
          "output_type": "execute_result",
          "data": {
            "text/plain": [
              "39.62 cm (15.6 inch    172\n",
              "39.62 cm (15.6          68\n",
              "35.56 cm (14 inch       66\n",
              "35.56 cm (14            28\n",
              "33.78 cm (13.3 inch      9\n",
              "33.78 cm (13.3           9\n",
              "40.64 cm (16             9\n",
              "43.94 cm (17.3           6\n",
              "40.64 cm (16 inch        6\n",
              "40.89 cm (16.1 inch      5\n",
              "34.04 cm (13.4           5\n",
              "41.15 cm (16.2 inch      5\n",
              "43.94 cm (17.3 inch      4\n",
              "35.81 cm (14.1 inch      4\n",
              "29.46 cm (11.6 inch      4\n",
              "38.1 cm (15 inch         4\n",
              "29.46 cm (11.6           4\n",
              "34.54 cm (13.6           3\n",
              "40.89 cm (16.1           3\n",
              "88.9 cm (35 cm           2\n",
              "36.07 cm (14.2 inch      2\n",
              "14 inch 2                1\n",
              "33.02 cm (13 inch        1\n",
              "38.0 cm (14.96           1\n",
              "34.29 cm (13.5 inch      1\n",
              "42.16 cm (16.6 inch      1\n",
              "Name: Display, dtype: int64"
            ]
          },
          "metadata": {},
          "execution_count": 14
        }
      ]
    },
    {
      "cell_type": "code",
      "source": [
        "# Clean columns\n",
        "\n",
        "def clean_processor(processor):\n",
        "    processor = re.sub(r'Processor.*', '', str(processor))\n",
        "    processor = processor.rstrip()\n",
        "    processor = re.sub(r'Intel i3', 'Intel Core i3', str(processor))\n",
        "    processor = re.sub(r'Intel i7', 'Intel Core i7', str(processor))\n",
        "    processor = re.sub(r'AMD Dual Core', 'AMD Ryzen 3 Dual Core', str(processor))\n",
        "    processor = re.sub(r'AMD Ryzen R5', 'AMD Ryzen 5', str(processor))\n",
        "    return processor\n",
        "\n",
        "def convert_to_inches(display):\n",
        "    # remove anything before a bracket\n",
        "    display = re.sub(r'^.*\\(', '', display)\n",
        "    # remove anything after the word inch\n",
        "    display = re.sub(r'\\s*\\S*$', '', display)\n",
        "    # remove any remaining whitespace\n",
        "    display = re.sub(r'\\s', '', display)\n",
        "    display = re.sub('35','13.78', str(display))\n",
        "    display = display.replace('inch', '')\n",
        "    return display\n",
        "\n",
        "def clean_storage(storage):\n",
        "    storage = re.sub(r'1 HDD','1 TB HDD', str(storage))\n",
        "    storage = re.sub(r'1 SSD','128 SSD', str(storage))\n",
        "    storage = re.sub(r'2 SSD','256 SSD', str(storage))\n",
        "    storage = re.sub(r'128 SSD, 1 HDD','1 TB HDD, 128 SSD', str(storage))\n",
        "    storage = re.sub(r'256 HDD, 256 SSD','1 TB HDD, 256 SSD', str(storage))\n",
        "    storage = re.sub(r'51256 SSD','512 SSD', str(storage))\n",
        "    storage = re.sub(r'None','512 SSD', str(storage))\n",
        "    return storage\n",
        "\n",
        "df['Processor'] = df['Processor'].apply(clean_processor)\n",
        "\n",
        "df['Display'] = df['Display'].apply(convert_to_inches)\n",
        "df['Display'] = df['Display'].astype('float')\n",
        "\n",
        "df['Storage'] = df['Storage'].apply(clean_storage)\n",
        "\n",
        "df['MRP'] = df['MRP'].str.replace('₹', '')\n",
        "df['MRP'] = df['MRP'].str.replace(',', '')\n",
        "df['MRP'] = df['MRP'].astype('int')\n",
        "\n",
        "df['RAM_Type'] = df['RAM_Type'].str.replace(',', '')\n",
        "\n",
        "df.head(2)"
      ],
      "metadata": {
        "id": "rdMt79EjLlbT",
        "colab": {
          "base_uri": "https://localhost:8080/",
          "height": 191
        },
        "outputId": "0b22a678-3677-4195-de3a-5a95627378e6"
      },
      "execution_count": null,
      "outputs": [
        {
          "output_type": "execute_result",
          "data": {
            "text/plain": [
              "                                             Product  Rating    MRP  \\\n",
              "0  Lenovo IdeaPad 3 Core i3 11th Gen - (8 GB/256 ...     4.2  36990   \n",
              "1  Lenovo IdeaPad 3 Core i3 11th Gen - (8 GB/512 ...     4.2  39990   \n",
              "\n",
              "                                             Feature  RAM_Size(GB) RAM_Type  \\\n",
              "0  Intel Core i3 Processor (11th Gen)8 GB DDR4 RA...             8     DDR4   \n",
              "1  Intel Core i3 Processor (11th Gen)8 GB DDR4 RA...             8     DDR4   \n",
              "\n",
              "   Display      Processor  Storage       OS   Brand  \n",
              "0     14.0  Intel Core i3  256 SSD  Windows  Lenovo  \n",
              "1     15.6  Intel Core i3  512 SSD  Windows  Lenovo  "
            ],
            "text/html": [
              "\n",
              "  <div id=\"df-22c627ac-97ec-46eb-a66d-609efb6adb23\">\n",
              "    <div class=\"colab-df-container\">\n",
              "      <div>\n",
              "<style scoped>\n",
              "    .dataframe tbody tr th:only-of-type {\n",
              "        vertical-align: middle;\n",
              "    }\n",
              "\n",
              "    .dataframe tbody tr th {\n",
              "        vertical-align: top;\n",
              "    }\n",
              "\n",
              "    .dataframe thead th {\n",
              "        text-align: right;\n",
              "    }\n",
              "</style>\n",
              "<table border=\"1\" class=\"dataframe\">\n",
              "  <thead>\n",
              "    <tr style=\"text-align: right;\">\n",
              "      <th></th>\n",
              "      <th>Product</th>\n",
              "      <th>Rating</th>\n",
              "      <th>MRP</th>\n",
              "      <th>Feature</th>\n",
              "      <th>RAM_Size(GB)</th>\n",
              "      <th>RAM_Type</th>\n",
              "      <th>Display</th>\n",
              "      <th>Processor</th>\n",
              "      <th>Storage</th>\n",
              "      <th>OS</th>\n",
              "      <th>Brand</th>\n",
              "    </tr>\n",
              "  </thead>\n",
              "  <tbody>\n",
              "    <tr>\n",
              "      <th>0</th>\n",
              "      <td>Lenovo IdeaPad 3 Core i3 11th Gen - (8 GB/256 ...</td>\n",
              "      <td>4.2</td>\n",
              "      <td>36990</td>\n",
              "      <td>Intel Core i3 Processor (11th Gen)8 GB DDR4 RA...</td>\n",
              "      <td>8</td>\n",
              "      <td>DDR4</td>\n",
              "      <td>14.0</td>\n",
              "      <td>Intel Core i3</td>\n",
              "      <td>256 SSD</td>\n",
              "      <td>Windows</td>\n",
              "      <td>Lenovo</td>\n",
              "    </tr>\n",
              "    <tr>\n",
              "      <th>1</th>\n",
              "      <td>Lenovo IdeaPad 3 Core i3 11th Gen - (8 GB/512 ...</td>\n",
              "      <td>4.2</td>\n",
              "      <td>39990</td>\n",
              "      <td>Intel Core i3 Processor (11th Gen)8 GB DDR4 RA...</td>\n",
              "      <td>8</td>\n",
              "      <td>DDR4</td>\n",
              "      <td>15.6</td>\n",
              "      <td>Intel Core i3</td>\n",
              "      <td>512 SSD</td>\n",
              "      <td>Windows</td>\n",
              "      <td>Lenovo</td>\n",
              "    </tr>\n",
              "  </tbody>\n",
              "</table>\n",
              "</div>\n",
              "      <button class=\"colab-df-convert\" onclick=\"convertToInteractive('df-22c627ac-97ec-46eb-a66d-609efb6adb23')\"\n",
              "              title=\"Convert this dataframe to an interactive table.\"\n",
              "              style=\"display:none;\">\n",
              "        \n",
              "  <svg xmlns=\"http://www.w3.org/2000/svg\" height=\"24px\"viewBox=\"0 0 24 24\"\n",
              "       width=\"24px\">\n",
              "    <path d=\"M0 0h24v24H0V0z\" fill=\"none\"/>\n",
              "    <path d=\"M18.56 5.44l.94 2.06.94-2.06 2.06-.94-2.06-.94-.94-2.06-.94 2.06-2.06.94zm-11 1L8.5 8.5l.94-2.06 2.06-.94-2.06-.94L8.5 2.5l-.94 2.06-2.06.94zm10 10l.94 2.06.94-2.06 2.06-.94-2.06-.94-.94-2.06-.94 2.06-2.06.94z\"/><path d=\"M17.41 7.96l-1.37-1.37c-.4-.4-.92-.59-1.43-.59-.52 0-1.04.2-1.43.59L10.3 9.45l-7.72 7.72c-.78.78-.78 2.05 0 2.83L4 21.41c.39.39.9.59 1.41.59.51 0 1.02-.2 1.41-.59l7.78-7.78 2.81-2.81c.8-.78.8-2.07 0-2.86zM5.41 20L4 18.59l7.72-7.72 1.47 1.35L5.41 20z\"/>\n",
              "  </svg>\n",
              "      </button>\n",
              "      \n",
              "  <style>\n",
              "    .colab-df-container {\n",
              "      display:flex;\n",
              "      flex-wrap:wrap;\n",
              "      gap: 12px;\n",
              "    }\n",
              "\n",
              "    .colab-df-convert {\n",
              "      background-color: #E8F0FE;\n",
              "      border: none;\n",
              "      border-radius: 50%;\n",
              "      cursor: pointer;\n",
              "      display: none;\n",
              "      fill: #1967D2;\n",
              "      height: 32px;\n",
              "      padding: 0 0 0 0;\n",
              "      width: 32px;\n",
              "    }\n",
              "\n",
              "    .colab-df-convert:hover {\n",
              "      background-color: #E2EBFA;\n",
              "      box-shadow: 0px 1px 2px rgba(60, 64, 67, 0.3), 0px 1px 3px 1px rgba(60, 64, 67, 0.15);\n",
              "      fill: #174EA6;\n",
              "    }\n",
              "\n",
              "    [theme=dark] .colab-df-convert {\n",
              "      background-color: #3B4455;\n",
              "      fill: #D2E3FC;\n",
              "    }\n",
              "\n",
              "    [theme=dark] .colab-df-convert:hover {\n",
              "      background-color: #434B5C;\n",
              "      box-shadow: 0px 1px 3px 1px rgba(0, 0, 0, 0.15);\n",
              "      filter: drop-shadow(0px 1px 2px rgba(0, 0, 0, 0.3));\n",
              "      fill: #FFFFFF;\n",
              "    }\n",
              "  </style>\n",
              "\n",
              "      <script>\n",
              "        const buttonEl =\n",
              "          document.querySelector('#df-22c627ac-97ec-46eb-a66d-609efb6adb23 button.colab-df-convert');\n",
              "        buttonEl.style.display =\n",
              "          google.colab.kernel.accessAllowed ? 'block' : 'none';\n",
              "\n",
              "        async function convertToInteractive(key) {\n",
              "          const element = document.querySelector('#df-22c627ac-97ec-46eb-a66d-609efb6adb23');\n",
              "          const dataTable =\n",
              "            await google.colab.kernel.invokeFunction('convertToInteractive',\n",
              "                                                     [key], {});\n",
              "          if (!dataTable) return;\n",
              "\n",
              "          const docLinkHtml = 'Like what you see? Visit the ' +\n",
              "            '<a target=\"_blank\" href=https://colab.research.google.com/notebooks/data_table.ipynb>data table notebook</a>'\n",
              "            + ' to learn more about interactive tables.';\n",
              "          element.innerHTML = '';\n",
              "          dataTable['output_type'] = 'display_data';\n",
              "          await google.colab.output.renderOutput(dataTable, element);\n",
              "          const docLink = document.createElement('div');\n",
              "          docLink.innerHTML = docLinkHtml;\n",
              "          element.appendChild(docLink);\n",
              "        }\n",
              "      </script>\n",
              "    </div>\n",
              "  </div>\n",
              "  "
            ]
          },
          "metadata": {},
          "execution_count": 15
        }
      ]
    },
    {
      "cell_type": "code",
      "source": [
        "df['Processor'].value_counts()"
      ],
      "metadata": {
        "colab": {
          "base_uri": "https://localhost:8080/"
        },
        "id": "hCbDFIfJFPTN",
        "outputId": "3cdf90e9-b518-4629-eb75-4b65c4c66e1f"
      },
      "execution_count": null,
      "outputs": [
        {
          "output_type": "execute_result",
          "data": {
            "text/plain": [
              "Intel Core i5                   110\n",
              "Intel Core i3                    73\n",
              "Intel Core i7                    53\n",
              "AMD Ryzen 5 Hexa Core            40\n",
              "AMD Ryzen 7 Octa Core            38\n",
              "Intel Celeron Dual Core          18\n",
              "AMD Ryzen 3 Dual Core            17\n",
              "AMD Ryzen 9 Octa Core            16\n",
              "Intel Core i9                    11\n",
              "AMD Ryzen 5 Quad Core             8\n",
              "M1                                7\n",
              "M1 Pro                            6\n",
              "M2                                5\n",
              "AMD Ryzen 3 Quad Core             3\n",
              "AMD Ryzen 5                       2\n",
              "Intel Celeron Quad Core           2\n",
              "AMD Athlon Dual Core              2\n",
              "Intel Pentium Silver              2\n",
              "Intel Pentium Quad Core           2\n",
              "Intel Evo Core i5                 1\n",
              "Qualcomm Snapdragon 7c Gen 2      1\n",
              "Intel PQC                         1\n",
              "AMD Ryzen 3                       1\n",
              "M1 Max                            1\n",
              "AMD Ryzen 7 Quad Core             1\n",
              "AMD Ryzen 5 Dual Core             1\n",
              "AMD Ryzen 3 Hexa Core             1\n",
              "Name: Processor, dtype: int64"
            ]
          },
          "metadata": {},
          "execution_count": 16
        }
      ]
    },
    {
      "cell_type": "code",
      "source": [
        "df['Storage'].value_counts()"
      ],
      "metadata": {
        "colab": {
          "base_uri": "https://localhost:8080/"
        },
        "id": "GcVqWOcVpdZX",
        "outputId": "9e85cb34-03fa-4111-9045-4f27882bfc74"
      },
      "execution_count": null,
      "outputs": [
        {
          "output_type": "execute_result",
          "data": {
            "text/plain": [
              "512 SSD              232\n",
              "128 SSD               78\n",
              "256 SSD               69\n",
              "1 TB HDD, 256 SSD     26\n",
              "1 TB HDD              14\n",
              "512 SSD, 1 TB HDD      2\n",
              "128 SSD, 1 TB HDD      2\n",
              "Name: Storage, dtype: int64"
            ]
          },
          "metadata": {},
          "execution_count": 17
        }
      ]
    },
    {
      "cell_type": "code",
      "source": [
        "df['Storage'].describe()"
      ],
      "metadata": {
        "colab": {
          "base_uri": "https://localhost:8080/"
        },
        "id": "n3-eLS9fuVCM",
        "outputId": "566d93af-3024-4c77-fbaf-18ccdbeb09a7"
      },
      "execution_count": null,
      "outputs": [
        {
          "output_type": "execute_result",
          "data": {
            "text/plain": [
              "count         423\n",
              "unique          7\n",
              "top       512 SSD\n",
              "freq          232\n",
              "Name: Storage, dtype: object"
            ]
          },
          "metadata": {},
          "execution_count": 18
        }
      ]
    },
    {
      "cell_type": "code",
      "source": [
        "# Remove unnecessary columns\n",
        "\n",
        "df = df.drop(['Product','Rating', 'Feature'], axis=1)\n",
        "df = df.reset_index(drop=True)\n",
        "\n",
        "df.info()"
      ],
      "metadata": {
        "id": "VpXzyPDQKB5e",
        "colab": {
          "base_uri": "https://localhost:8080/"
        },
        "outputId": "5912e5a0-4738-4a45-f314-90f4041e8542"
      },
      "execution_count": null,
      "outputs": [
        {
          "output_type": "stream",
          "name": "stdout",
          "text": [
            "<class 'pandas.core.frame.DataFrame'>\n",
            "RangeIndex: 423 entries, 0 to 422\n",
            "Data columns (total 8 columns):\n",
            " #   Column        Non-Null Count  Dtype  \n",
            "---  ------        --------------  -----  \n",
            " 0   MRP           423 non-null    int64  \n",
            " 1   RAM_Size(GB)  423 non-null    int64  \n",
            " 2   RAM_Type      423 non-null    object \n",
            " 3   Display       423 non-null    float64\n",
            " 4   Processor     423 non-null    object \n",
            " 5   Storage       423 non-null    object \n",
            " 6   OS            423 non-null    object \n",
            " 7   Brand         423 non-null    object \n",
            "dtypes: float64(1), int64(2), object(5)\n",
            "memory usage: 26.6+ KB\n"
          ]
        }
      ]
    },
    {
      "cell_type": "code",
      "source": [
        "df.to_csv('cleaned_data.csv', index=False)"
      ],
      "metadata": {
        "id": "YRzn-cZJKv-A"
      },
      "execution_count": null,
      "outputs": []
    }
  ],
  "metadata": {
    "colab": {
      "provenance": []
    },
    "kernelspec": {
      "display_name": "Python 3",
      "name": "python3"
    },
    "language_info": {
      "name": "python"
    }
  },
  "nbformat": 4,
  "nbformat_minor": 0
}