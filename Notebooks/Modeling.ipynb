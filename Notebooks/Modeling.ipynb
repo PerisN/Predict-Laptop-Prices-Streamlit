{
  "nbformat": 4,
  "nbformat_minor": 0,
  "metadata": {
    "colab": {
      "provenance": []
    },
    "kernelspec": {
      "name": "python3",
      "display_name": "Python 3"
    },
    "language_info": {
      "name": "python"
    }
  },
  "cells": [
    {
      "cell_type": "code",
      "source": [
        "# Import Libraries\n",
        "\n",
        "import pandas as pd\n",
        "import numpy as np\n",
        "\n",
        "import math\n",
        "from scipy.stats import randint, uniform\n",
        "from datetime import datetime\n",
        "\n",
        "from sklearn.model_selection import train_test_split\n",
        "from sklearn.experimental import enable_halving_search_cv\n",
        "from sklearn.model_selection import HalvingRandomSearchCV\n",
        "\n",
        "from sklearn.preprocessing import LabelEncoder, MinMaxScaler\n",
        "from sklearn.linear_model import Ridge\n",
        "from xgboost import XGBRegressor\n",
        "from sklearn.ensemble import RandomForestRegressor,GradientBoostingRegressor\n",
        "from sklearn.metrics import mean_squared_error, mean_absolute_error, r2_score\n",
        "\n",
        "import seaborn as sns\n",
        "\n",
        "from pickle import dump\n",
        "import os\n",
        "\n",
        "import warnings\n",
        "warnings.filterwarnings('ignore')"
      ],
      "metadata": {
        "id": "1jlCPpqW_9Nu"
      },
      "execution_count": 21,
      "outputs": []
    },
    {
      "cell_type": "code",
      "source": [
        "# Load data\n",
        "\n",
        "df = pd.read_csv('/content/drive/MyDrive/Laptop-Prices/cleaned_data2.csv')\n",
        "df.head()"
      ],
      "metadata": {
        "colab": {
          "base_uri": "https://localhost:8080/",
          "height": 206
        },
        "id": "e--BjXPQazca",
        "outputId": "556fdedb-dfe7-4338-98f0-a028700875a3"
      },
      "execution_count": 2,
      "outputs": [
        {
          "output_type": "execute_result",
          "data": {
            "text/plain": [
              "     MRP  RAM_Size RAM_Type  Display              Processor     Storage  \\\n",
              "0  36990         8     DDR4     14.0          Intel Core i3  256 GB SSD   \n",
              "1  39990         8     DDR4     15.6          Intel Core i3  512 GB SSD   \n",
              "2  32990         8     DDR4     15.6          Intel Core i3  512 GB SSD   \n",
              "3  49990         8     DDR4     15.6  AMD Ryzen 5 Hexa Core  512 GB SSD   \n",
              "4  49990         8     DDR4     15.6          Intel Core i5  512 GB SSD   \n",
              "\n",
              "        OS   Brand  \n",
              "0  Windows  Lenovo  \n",
              "1  Windows  Lenovo  \n",
              "2  Windows    ASUS  \n",
              "3  Windows      HP  \n",
              "4  Windows    ASUS  "
            ],
            "text/html": [
              "\n",
              "  <div id=\"df-233147ad-a2c2-4db2-b579-17b31abe6b61\">\n",
              "    <div class=\"colab-df-container\">\n",
              "      <div>\n",
              "<style scoped>\n",
              "    .dataframe tbody tr th:only-of-type {\n",
              "        vertical-align: middle;\n",
              "    }\n",
              "\n",
              "    .dataframe tbody tr th {\n",
              "        vertical-align: top;\n",
              "    }\n",
              "\n",
              "    .dataframe thead th {\n",
              "        text-align: right;\n",
              "    }\n",
              "</style>\n",
              "<table border=\"1\" class=\"dataframe\">\n",
              "  <thead>\n",
              "    <tr style=\"text-align: right;\">\n",
              "      <th></th>\n",
              "      <th>MRP</th>\n",
              "      <th>RAM_Size</th>\n",
              "      <th>RAM_Type</th>\n",
              "      <th>Display</th>\n",
              "      <th>Processor</th>\n",
              "      <th>Storage</th>\n",
              "      <th>OS</th>\n",
              "      <th>Brand</th>\n",
              "    </tr>\n",
              "  </thead>\n",
              "  <tbody>\n",
              "    <tr>\n",
              "      <th>0</th>\n",
              "      <td>36990</td>\n",
              "      <td>8</td>\n",
              "      <td>DDR4</td>\n",
              "      <td>14.0</td>\n",
              "      <td>Intel Core i3</td>\n",
              "      <td>256 GB SSD</td>\n",
              "      <td>Windows</td>\n",
              "      <td>Lenovo</td>\n",
              "    </tr>\n",
              "    <tr>\n",
              "      <th>1</th>\n",
              "      <td>39990</td>\n",
              "      <td>8</td>\n",
              "      <td>DDR4</td>\n",
              "      <td>15.6</td>\n",
              "      <td>Intel Core i3</td>\n",
              "      <td>512 GB SSD</td>\n",
              "      <td>Windows</td>\n",
              "      <td>Lenovo</td>\n",
              "    </tr>\n",
              "    <tr>\n",
              "      <th>2</th>\n",
              "      <td>32990</td>\n",
              "      <td>8</td>\n",
              "      <td>DDR4</td>\n",
              "      <td>15.6</td>\n",
              "      <td>Intel Core i3</td>\n",
              "      <td>512 GB SSD</td>\n",
              "      <td>Windows</td>\n",
              "      <td>ASUS</td>\n",
              "    </tr>\n",
              "    <tr>\n",
              "      <th>3</th>\n",
              "      <td>49990</td>\n",
              "      <td>8</td>\n",
              "      <td>DDR4</td>\n",
              "      <td>15.6</td>\n",
              "      <td>AMD Ryzen 5 Hexa Core</td>\n",
              "      <td>512 GB SSD</td>\n",
              "      <td>Windows</td>\n",
              "      <td>HP</td>\n",
              "    </tr>\n",
              "    <tr>\n",
              "      <th>4</th>\n",
              "      <td>49990</td>\n",
              "      <td>8</td>\n",
              "      <td>DDR4</td>\n",
              "      <td>15.6</td>\n",
              "      <td>Intel Core i5</td>\n",
              "      <td>512 GB SSD</td>\n",
              "      <td>Windows</td>\n",
              "      <td>ASUS</td>\n",
              "    </tr>\n",
              "  </tbody>\n",
              "</table>\n",
              "</div>\n",
              "      <button class=\"colab-df-convert\" onclick=\"convertToInteractive('df-233147ad-a2c2-4db2-b579-17b31abe6b61')\"\n",
              "              title=\"Convert this dataframe to an interactive table.\"\n",
              "              style=\"display:none;\">\n",
              "        \n",
              "  <svg xmlns=\"http://www.w3.org/2000/svg\" height=\"24px\"viewBox=\"0 0 24 24\"\n",
              "       width=\"24px\">\n",
              "    <path d=\"M0 0h24v24H0V0z\" fill=\"none\"/>\n",
              "    <path d=\"M18.56 5.44l.94 2.06.94-2.06 2.06-.94-2.06-.94-.94-2.06-.94 2.06-2.06.94zm-11 1L8.5 8.5l.94-2.06 2.06-.94-2.06-.94L8.5 2.5l-.94 2.06-2.06.94zm10 10l.94 2.06.94-2.06 2.06-.94-2.06-.94-.94-2.06-.94 2.06-2.06.94z\"/><path d=\"M17.41 7.96l-1.37-1.37c-.4-.4-.92-.59-1.43-.59-.52 0-1.04.2-1.43.59L10.3 9.45l-7.72 7.72c-.78.78-.78 2.05 0 2.83L4 21.41c.39.39.9.59 1.41.59.51 0 1.02-.2 1.41-.59l7.78-7.78 2.81-2.81c.8-.78.8-2.07 0-2.86zM5.41 20L4 18.59l7.72-7.72 1.47 1.35L5.41 20z\"/>\n",
              "  </svg>\n",
              "      </button>\n",
              "      \n",
              "  <style>\n",
              "    .colab-df-container {\n",
              "      display:flex;\n",
              "      flex-wrap:wrap;\n",
              "      gap: 12px;\n",
              "    }\n",
              "\n",
              "    .colab-df-convert {\n",
              "      background-color: #E8F0FE;\n",
              "      border: none;\n",
              "      border-radius: 50%;\n",
              "      cursor: pointer;\n",
              "      display: none;\n",
              "      fill: #1967D2;\n",
              "      height: 32px;\n",
              "      padding: 0 0 0 0;\n",
              "      width: 32px;\n",
              "    }\n",
              "\n",
              "    .colab-df-convert:hover {\n",
              "      background-color: #E2EBFA;\n",
              "      box-shadow: 0px 1px 2px rgba(60, 64, 67, 0.3), 0px 1px 3px 1px rgba(60, 64, 67, 0.15);\n",
              "      fill: #174EA6;\n",
              "    }\n",
              "\n",
              "    [theme=dark] .colab-df-convert {\n",
              "      background-color: #3B4455;\n",
              "      fill: #D2E3FC;\n",
              "    }\n",
              "\n",
              "    [theme=dark] .colab-df-convert:hover {\n",
              "      background-color: #434B5C;\n",
              "      box-shadow: 0px 1px 3px 1px rgba(0, 0, 0, 0.15);\n",
              "      filter: drop-shadow(0px 1px 2px rgba(0, 0, 0, 0.3));\n",
              "      fill: #FFFFFF;\n",
              "    }\n",
              "  </style>\n",
              "\n",
              "      <script>\n",
              "        const buttonEl =\n",
              "          document.querySelector('#df-233147ad-a2c2-4db2-b579-17b31abe6b61 button.colab-df-convert');\n",
              "        buttonEl.style.display =\n",
              "          google.colab.kernel.accessAllowed ? 'block' : 'none';\n",
              "\n",
              "        async function convertToInteractive(key) {\n",
              "          const element = document.querySelector('#df-233147ad-a2c2-4db2-b579-17b31abe6b61');\n",
              "          const dataTable =\n",
              "            await google.colab.kernel.invokeFunction('convertToInteractive',\n",
              "                                                     [key], {});\n",
              "          if (!dataTable) return;\n",
              "\n",
              "          const docLinkHtml = 'Like what you see? Visit the ' +\n",
              "            '<a target=\"_blank\" href=https://colab.research.google.com/notebooks/data_table.ipynb>data table notebook</a>'\n",
              "            + ' to learn more about interactive tables.';\n",
              "          element.innerHTML = '';\n",
              "          dataTable['output_type'] = 'display_data';\n",
              "          await google.colab.output.renderOutput(dataTable, element);\n",
              "          const docLink = document.createElement('div');\n",
              "          docLink.innerHTML = docLinkHtml;\n",
              "          element.appendChild(docLink);\n",
              "        }\n",
              "      </script>\n",
              "    </div>\n",
              "  </div>\n",
              "  "
            ]
          },
          "metadata": {},
          "execution_count": 2
        }
      ]
    },
    {
      "cell_type": "code",
      "source": [
        "df.shape"
      ],
      "metadata": {
        "colab": {
          "base_uri": "https://localhost:8080/"
        },
        "id": "KBb9wCwkgWIw",
        "outputId": "af67c8a6-232e-4e15-972a-d3aba5f807b6"
      },
      "execution_count": 3,
      "outputs": [
        {
          "output_type": "execute_result",
          "data": {
            "text/plain": [
              "(423, 8)"
            ]
          },
          "metadata": {},
          "execution_count": 3
        }
      ]
    },
    {
      "cell_type": "code",
      "source": [
        "df.Storage.value_counts()"
      ],
      "metadata": {
        "colab": {
          "base_uri": "https://localhost:8080/"
        },
        "id": "v97fbPzyikhn",
        "outputId": "4d461de6-fbb8-49cf-e213-f1e569d99d85"
      },
      "execution_count": 4,
      "outputs": [
        {
          "output_type": "execute_result",
          "data": {
            "text/plain": [
              "512 GB SSD              232\n",
              "128 GB SSD               78\n",
              "256 GB SSD               69\n",
              "1 TB HDD, 256 GB SSD     26\n",
              "1 TB HDD                 14\n",
              "1 TB HDD, 512 GB SSD      2\n",
              "1 TB HDD, 128 GB SSD      2\n",
              "Name: Storage, dtype: int64"
            ]
          },
          "metadata": {},
          "execution_count": 4
        }
      ]
    },
    {
      "cell_type": "code",
      "source": [
        "# Define the mapping dictionaries\n",
        "\n",
        "dict_ram_type = {'DDR4':0, 'DDR5':1, 'LPDDR4':2,'Unified Memory':3, 'LPDDR4X':4, 'LPDDR5':5, 'LPDDR3':6}\n",
        "\n",
        "dict_processor = {'AMD Athlon Dual Core':0,                \n",
        "                  'AMD Ryzen 3':1, \n",
        "                  'AMD Ryzen 3 Dual Core':2,\n",
        "                  'AMD Ryzen 3 Quad Core':3, \n",
        "                  'AMD Ryzen 3 Hexa Core':4, \n",
        "                  'AMD Ryzen 5':5, \n",
        "                  'AMD Ryzen 5 Dual Core':6, \n",
        "                  'AMD Ryzen 5 Quad Core':7,\n",
        "                  'AMD Ryzen 5 Hexa Core':8, \n",
        "                  'AMD Ryzen 7 Octa Core':9, \n",
        "                  'AMD Ryzen 7 Quad Core':10, \n",
        "                  'AMD Ryzen 9 Octa Core':11,           \n",
        "                  'Intel Core i3':12,             \n",
        "                  'Intel Core i5':13, \n",
        "                  'Intel Evo Core i5':14, \n",
        "                  'Intel Core i7':15, \n",
        "                  'Intel Core i9':16, \n",
        "                  'Intel Celeron Dual Core':17, \n",
        "                  'Intel Celeron Quad Core':18, \n",
        "                  'Intel Pentium Silver':19,\n",
        "                  'Intel Pentium Quad Core':20,\n",
        "                  'M1':21,\n",
        "                  'M1 Pro':22, \n",
        "                  'M1 Max':23, \n",
        "                  'M2':24, \n",
        "                  'Qualcomm Snapdragon 7c Gen 2':25}\n",
        "\n",
        "dict_os = {'Windows':0, 'Mac OS':1,\n",
        "           'DOS':3, 'Chrome':4}\n",
        "\n",
        "dict_brand = {'ASUS':0, 'Lenovo':1,\n",
        "              'HP':3, 'DELL':4,\n",
        "              'acer':5, 'MSI':6,\n",
        "              'APPLE':7, 'Infinix':8,\n",
        "              'realme':9, 'RedmiBook':10,\n",
        "              'SAMSUNG':11, 'Ultimus':12,\n",
        "              'ALIENWARE':13, 'Nokia':14,\n",
        "              'GIGABYTE':15, 'Vaio': 16}\n",
        "dicts_cols = {'RAM_Type':dict_ram_type, 'Processor':dict_processor, 'OS':dict_os, 'Brand':dict_brand}\n"
      ],
      "metadata": {
        "id": "O-Gsz46bE2VI"
      },
      "execution_count": 5,
      "outputs": []
    },
    {
      "cell_type": "code",
      "source": [
        "# replace the categorical values with their numerical labels\n",
        "df = df.replace(dicts_cols)\n",
        "\n",
        "le = LabelEncoder()\n",
        "df['Storage'] = le.fit_transform(df['Storage'])\n",
        "df.head(2)"
      ],
      "metadata": {
        "colab": {
          "base_uri": "https://localhost:8080/",
          "height": 112
        },
        "id": "QgIrVn5cdv4x",
        "outputId": "0c10389c-5b54-4242-a205-f56c34f71703"
      },
      "execution_count": 6,
      "outputs": [
        {
          "output_type": "execute_result",
          "data": {
            "text/plain": [
              "     MRP  RAM_Size  RAM_Type  Display  Processor  Storage  OS  Brand\n",
              "0  36990         8         0     14.0         12        5   0      1\n",
              "1  39990         8         0     15.6         12        6   0      1"
            ],
            "text/html": [
              "\n",
              "  <div id=\"df-212c80f3-a4cc-4f3c-a8c5-090fc60db332\">\n",
              "    <div class=\"colab-df-container\">\n",
              "      <div>\n",
              "<style scoped>\n",
              "    .dataframe tbody tr th:only-of-type {\n",
              "        vertical-align: middle;\n",
              "    }\n",
              "\n",
              "    .dataframe tbody tr th {\n",
              "        vertical-align: top;\n",
              "    }\n",
              "\n",
              "    .dataframe thead th {\n",
              "        text-align: right;\n",
              "    }\n",
              "</style>\n",
              "<table border=\"1\" class=\"dataframe\">\n",
              "  <thead>\n",
              "    <tr style=\"text-align: right;\">\n",
              "      <th></th>\n",
              "      <th>MRP</th>\n",
              "      <th>RAM_Size</th>\n",
              "      <th>RAM_Type</th>\n",
              "      <th>Display</th>\n",
              "      <th>Processor</th>\n",
              "      <th>Storage</th>\n",
              "      <th>OS</th>\n",
              "      <th>Brand</th>\n",
              "    </tr>\n",
              "  </thead>\n",
              "  <tbody>\n",
              "    <tr>\n",
              "      <th>0</th>\n",
              "      <td>36990</td>\n",
              "      <td>8</td>\n",
              "      <td>0</td>\n",
              "      <td>14.0</td>\n",
              "      <td>12</td>\n",
              "      <td>5</td>\n",
              "      <td>0</td>\n",
              "      <td>1</td>\n",
              "    </tr>\n",
              "    <tr>\n",
              "      <th>1</th>\n",
              "      <td>39990</td>\n",
              "      <td>8</td>\n",
              "      <td>0</td>\n",
              "      <td>15.6</td>\n",
              "      <td>12</td>\n",
              "      <td>6</td>\n",
              "      <td>0</td>\n",
              "      <td>1</td>\n",
              "    </tr>\n",
              "  </tbody>\n",
              "</table>\n",
              "</div>\n",
              "      <button class=\"colab-df-convert\" onclick=\"convertToInteractive('df-212c80f3-a4cc-4f3c-a8c5-090fc60db332')\"\n",
              "              title=\"Convert this dataframe to an interactive table.\"\n",
              "              style=\"display:none;\">\n",
              "        \n",
              "  <svg xmlns=\"http://www.w3.org/2000/svg\" height=\"24px\"viewBox=\"0 0 24 24\"\n",
              "       width=\"24px\">\n",
              "    <path d=\"M0 0h24v24H0V0z\" fill=\"none\"/>\n",
              "    <path d=\"M18.56 5.44l.94 2.06.94-2.06 2.06-.94-2.06-.94-.94-2.06-.94 2.06-2.06.94zm-11 1L8.5 8.5l.94-2.06 2.06-.94-2.06-.94L8.5 2.5l-.94 2.06-2.06.94zm10 10l.94 2.06.94-2.06 2.06-.94-2.06-.94-.94-2.06-.94 2.06-2.06.94z\"/><path d=\"M17.41 7.96l-1.37-1.37c-.4-.4-.92-.59-1.43-.59-.52 0-1.04.2-1.43.59L10.3 9.45l-7.72 7.72c-.78.78-.78 2.05 0 2.83L4 21.41c.39.39.9.59 1.41.59.51 0 1.02-.2 1.41-.59l7.78-7.78 2.81-2.81c.8-.78.8-2.07 0-2.86zM5.41 20L4 18.59l7.72-7.72 1.47 1.35L5.41 20z\"/>\n",
              "  </svg>\n",
              "      </button>\n",
              "      \n",
              "  <style>\n",
              "    .colab-df-container {\n",
              "      display:flex;\n",
              "      flex-wrap:wrap;\n",
              "      gap: 12px;\n",
              "    }\n",
              "\n",
              "    .colab-df-convert {\n",
              "      background-color: #E8F0FE;\n",
              "      border: none;\n",
              "      border-radius: 50%;\n",
              "      cursor: pointer;\n",
              "      display: none;\n",
              "      fill: #1967D2;\n",
              "      height: 32px;\n",
              "      padding: 0 0 0 0;\n",
              "      width: 32px;\n",
              "    }\n",
              "\n",
              "    .colab-df-convert:hover {\n",
              "      background-color: #E2EBFA;\n",
              "      box-shadow: 0px 1px 2px rgba(60, 64, 67, 0.3), 0px 1px 3px 1px rgba(60, 64, 67, 0.15);\n",
              "      fill: #174EA6;\n",
              "    }\n",
              "\n",
              "    [theme=dark] .colab-df-convert {\n",
              "      background-color: #3B4455;\n",
              "      fill: #D2E3FC;\n",
              "    }\n",
              "\n",
              "    [theme=dark] .colab-df-convert:hover {\n",
              "      background-color: #434B5C;\n",
              "      box-shadow: 0px 1px 3px 1px rgba(0, 0, 0, 0.15);\n",
              "      filter: drop-shadow(0px 1px 2px rgba(0, 0, 0, 0.3));\n",
              "      fill: #FFFFFF;\n",
              "    }\n",
              "  </style>\n",
              "\n",
              "      <script>\n",
              "        const buttonEl =\n",
              "          document.querySelector('#df-212c80f3-a4cc-4f3c-a8c5-090fc60db332 button.colab-df-convert');\n",
              "        buttonEl.style.display =\n",
              "          google.colab.kernel.accessAllowed ? 'block' : 'none';\n",
              "\n",
              "        async function convertToInteractive(key) {\n",
              "          const element = document.querySelector('#df-212c80f3-a4cc-4f3c-a8c5-090fc60db332');\n",
              "          const dataTable =\n",
              "            await google.colab.kernel.invokeFunction('convertToInteractive',\n",
              "                                                     [key], {});\n",
              "          if (!dataTable) return;\n",
              "\n",
              "          const docLinkHtml = 'Like what you see? Visit the ' +\n",
              "            '<a target=\"_blank\" href=https://colab.research.google.com/notebooks/data_table.ipynb>data table notebook</a>'\n",
              "            + ' to learn more about interactive tables.';\n",
              "          element.innerHTML = '';\n",
              "          dataTable['output_type'] = 'display_data';\n",
              "          await google.colab.output.renderOutput(dataTable, element);\n",
              "          const docLink = document.createElement('div');\n",
              "          docLink.innerHTML = docLinkHtml;\n",
              "          element.appendChild(docLink);\n",
              "        }\n",
              "      </script>\n",
              "    </div>\n",
              "  </div>\n",
              "  "
            ]
          },
          "metadata": {},
          "execution_count": 6
        }
      ]
    },
    {
      "cell_type": "code",
      "source": [
        "df.info()"
      ],
      "metadata": {
        "colab": {
          "base_uri": "https://localhost:8080/"
        },
        "id": "IGAXDiKxhy0-",
        "outputId": "84efd8b1-0e5b-4196-b990-831d5aaeac9d"
      },
      "execution_count": 7,
      "outputs": [
        {
          "output_type": "stream",
          "name": "stdout",
          "text": [
            "<class 'pandas.core.frame.DataFrame'>\n",
            "RangeIndex: 423 entries, 0 to 422\n",
            "Data columns (total 8 columns):\n",
            " #   Column     Non-Null Count  Dtype  \n",
            "---  ------     --------------  -----  \n",
            " 0   MRP        423 non-null    int64  \n",
            " 1   RAM_Size   423 non-null    int64  \n",
            " 2   RAM_Type   423 non-null    int64  \n",
            " 3   Display    423 non-null    float64\n",
            " 4   Processor  423 non-null    int64  \n",
            " 5   Storage    423 non-null    int64  \n",
            " 6   OS         423 non-null    int64  \n",
            " 7   Brand      423 non-null    int64  \n",
            "dtypes: float64(1), int64(7)\n",
            "memory usage: 26.6 KB\n"
          ]
        }
      ]
    },
    {
      "cell_type": "code",
      "source": [
        "# Separate the target variable from the features\n",
        "\n",
        "X = df.drop(columns=['MRP'], axis=1)\n",
        "y = np.log(df['MRP'])"
      ],
      "metadata": {
        "id": "HB6MCBXutMU0"
      },
      "execution_count": 8,
      "outputs": []
    },
    {
      "cell_type": "code",
      "source": [
        "sns.displot(y, kde=True);"
      ],
      "metadata": {
        "colab": {
          "base_uri": "https://localhost:8080/",
          "height": 507
        },
        "id": "iVF6roGD6Szm",
        "outputId": "0ac8ba70-26bb-419f-eb9a-2aff445a4320"
      },
      "execution_count": 9,
      "outputs": [
        {
          "output_type": "display_data",
          "data": {
            "text/plain": [
              "<Figure size 500x500 with 1 Axes>"
            ],
            "image/png": "[encoded data removed]"
          },
          "metadata": {}
        }
      ]
    },
    {
      "cell_type": "code",
      "source": [
        "X_train, X_test, y_train, y_test = train_test_split(X, y, test_size=0.3, random_state=42)\n",
        "\n",
        "X_train.shape, y_train.shape, X_test.shape, y_test.shape"
      ],
      "metadata": {
        "colab": {
          "base_uri": "https://localhost:8080/"
        },
        "id": "IAXwea2vF-gI",
        "outputId": "345439e4-e19e-43bc-d817-657f5e9e6f2f"
      },
      "execution_count": 10,
      "outputs": [
        {
          "output_type": "execute_result",
          "data": {
            "text/plain": [
              "((296, 7), (296,), (127, 7), (127,))"
            ]
          },
          "metadata": {},
          "execution_count": 10
        }
      ]
    },
    {
      "cell_type": "code",
      "source": [
        "# Power-transform RAM Size and Display columns only\n",
        "\n",
        "scaler = MinMaxScaler()\n",
        "X_train_scaled = X_train.copy()\n",
        "X_train_scaled[['Display', 'RAM_Size']] = scaler.fit_transform(X_train_scaled[['Display', 'RAM_Size']])\n",
        "X_test_scaled = X_test.copy()\n",
        "X_test_scaled[['Display', 'RAM_Size']] = scaler.transform(X_test_scaled[['Display', 'RAM_Size']])"
      ],
      "metadata": {
        "id": "NF4V7r0AgPG1"
      },
      "execution_count": 11,
      "outputs": []
    },
    {
      "cell_type": "code",
      "source": [
        "# Create new dataframes with the scaled data and original column names\n",
        "\n",
        "X_train = pd.DataFrame(X_train_scaled, columns=X_train.columns)\n",
        "X_test = pd.DataFrame(X_test_scaled, columns=X_test.columns)"
      ],
      "metadata": {
        "id": "t83yAlgsFvNx"
      },
      "execution_count": 12,
      "outputs": []
    },
    {
      "cell_type": "markdown",
      "source": [
        "## Base Models"
      ],
      "metadata": {
        "id": "V0iZYJNb1VAE"
      }
    },
    {
      "cell_type": "code",
      "source": [
        "# Putting models into a dictionary\n",
        "\n",
        "models = {\n",
        "          \"Random Forest\" : RandomForestRegressor(),\n",
        "          \"XGBoost\": XGBRegressor(),\n",
        "          \"Gradient Boost\" : GradientBoostingRegressor(),\n",
        "          \"Ridge\" : Ridge ()\n",
        "          }\n",
        "          \n",
        "# Function that will fit and score models\n",
        "\n",
        "def fit_and_score(models, X_train, X_test, y_train, y_test):\n",
        "\n",
        "    # Setting up a random seed\n",
        "\n",
        "    random_state=42\n",
        " \n",
        "    # Making a dictionary to keep model scores\n",
        "\n",
        "    model_scores = {}\n",
        "\n",
        "    # Looping through models\n",
        "    \n",
        "    for name, model in models.items():\n",
        "        # Fitting the models to the data\n",
        "        model.fit(X_train, y_train)\n",
        "        # Evaluating the model and appending its score to model_scores\n",
        "        model_scores[name] = model.score(X_test, y_test)\n",
        "    return model_scores"
      ],
      "metadata": {
        "id": "PydJvmNhgO_l"
      },
      "execution_count": 13,
      "outputs": []
    },
    {
      "cell_type": "code",
      "source": [
        "%%time\n",
        "scores = fit_and_score(models = models,\n",
        "                      X_train = X_train,\n",
        "                      X_test = X_test,\n",
        "                      y_train = y_train,\n",
        "                      y_test = y_test)\n",
        "scores"
      ],
      "metadata": {
        "colab": {
          "base_uri": "https://localhost:8080/"
        },
        "id": "4Cb4Nv9MHgSX",
        "outputId": "f5e718db-e166-4ddb-b8aa-bf55ee0d6648"
      },
      "execution_count": 14,
      "outputs": [
        {
          "output_type": "stream",
          "name": "stdout",
          "text": [
            "CPU times: user 416 ms, sys: 12.8 ms, total: 429 ms\n",
            "Wall time: 378 ms\n"
          ]
        },
        {
          "output_type": "execute_result",
          "data": {
            "text/plain": [
              "{'Random Forest': 0.8408779112446196,\n",
              " 'XGBoost': 0.8580264975283868,\n",
              " 'Gradient Boost': 0.8621939297235232,\n",
              " 'Ridge': 0.5795957367098781}"
            ]
          },
          "metadata": {},
          "execution_count": 14
        }
      ]
    },
    {
      "cell_type": "markdown",
      "source": [
        "**XGBoost**"
      ],
      "metadata": {
        "id": "GGkA9kZt3xFl"
      }
    },
    {
      "cell_type": "code",
      "source": [
        "XGB = XGBRegressor()\n",
        "\n",
        "XGB.fit(X_train, y_train)\n",
        "prediction = XGB.predict(X_test)\n",
        "\n",
        "# evaluate the model\n",
        "mae = mean_absolute_error(y_test, prediction)\n",
        "mse = mean_squared_error(y_test, prediction)\n",
        "rmse = np.sqrt(mse)\n",
        "r2 = r2_score(y_test, prediction)\n",
        "\n",
        "print(\"MAE: \", mae)\n",
        "print(\"MSE: \", mse)\n",
        "print(\"RMSE: \", rmse)\n",
        "print(\"R-squared: \", r2)"
      ],
      "metadata": {
        "colab": {
          "base_uri": "https://localhost:8080/"
        },
        "id": "GqYpTMWy3Xw9",
        "outputId": "3b10814c-8fec-4cd1-eec9-1e462d628137"
      },
      "execution_count": 24,
      "outputs": [
        {
          "output_type": "stream",
          "name": "stdout",
          "text": [
            "MAE:  0.1657141464665079\n",
            "MSE:  0.048516012131371966\n",
            "RMSE:  0.2202635061270295\n",
            "R-squared:  0.8580264975283868\n"
          ]
        }
      ]
    },
    {
      "cell_type": "markdown",
      "source": [
        "**Gradient Boosting**"
      ],
      "metadata": {
        "id": "Tah-hEMJ3zh1"
      }
    },
    {
      "cell_type": "code",
      "source": [
        "GBR = GradientBoostingRegressor()\n",
        "\n",
        "GBR.fit(X_train, y_train)\n",
        "prediction = GBR.predict(X_test)\n",
        "\n",
        "# evaluate the model\n",
        "mse = mean_squared_error(y_test, prediction)\n",
        "mae = mean_absolute_error(y_test, prediction)\n",
        "rmse = np.sqrt(mse)\n",
        "r2 = r2_score(y_test, prediction)\n",
        "\n",
        "print(\"MAE: \", mae)\n",
        "print(\"MSE: \", mse)\n",
        "print(\"RMSE: \", rmse)\n",
        "print(\"R-squared: \", r2)"
      ],
      "metadata": {
        "colab": {
          "base_uri": "https://localhost:8080/"
        },
        "id": "UAgkG7-w2mfU",
        "outputId": "5ff80166-b31c-41b9-f093-b6bece18796c"
      },
      "execution_count": 25,
      "outputs": [
        {
          "output_type": "stream",
          "name": "stdout",
          "text": [
            "MAE:  0.17381410331965777\n",
            "MSE:  0.04676302889593545\n",
            "RMSE:  0.2162476101508071\n",
            "R-squared:  0.8631562919771768\n"
          ]
        }
      ]
    },
    {
      "cell_type": "markdown",
      "source": [
        "### Hyperparameter Tuning"
      ],
      "metadata": {
        "id": "dQZIa9_T1ZOm"
      }
    },
    {
      "cell_type": "code",
      "source": [
        "# Create a Gradient Boosting Regressor object\n",
        "gbr = GradientBoostingRegressor()\n",
        "\n",
        "# Define the hyperparameter space\n",
        "param_dist = {\"n_estimators\": randint(100, 500),\n",
        "              \"max_features\": randint(1, 10),\n",
        "              \"max_depth\": [None] + list(randint(1, 11).rvs(10)),\n",
        "              \"min_samples_leaf\": randint(1, 10)}\n",
        "\n",
        "\n",
        "# Define the Halving Random Search cross-validation object\n",
        "hrscv = HalvingRandomSearchCV(gbr, param_distributions=param_dist, n_candidates=100,\n",
        "                              factor=2, min_resources='exhaust', \n",
        "                              random_state=42, n_jobs=-1)\n",
        "\n",
        "# Fit the Halving Random Search cross-validation object to the data \n",
        "hrscv.fit(X_train, y_train)\n",
        "\n",
        "# Print the best hyperparameters\n",
        "print(f\"Best hyperparameters for Gradient Boosting Regressor: {hrscv.best_params_}\")"
      ],
      "metadata": {
        "colab": {
          "base_uri": "https://localhost:8080/"
        },
        "id": "lsDrVfCp2Oit",
        "outputId": "7f430fa4-4d15-41a7-9482-c0a8cec715c8"
      },
      "execution_count": null,
      "outputs": [
        {
          "output_type": "stream",
          "name": "stdout",
          "text": [
            "Best hyperparameters for Gradient Boosting Regressor: {'max_depth': 4, 'max_features': 3, 'min_samples_leaf': 1, 'n_estimators': 478}\n"
          ]
        }
      ]
    },
    {
      "cell_type": "code",
      "source": [
        "# Create and train the model with the tuned hyperparameters\n",
        "gbr = GradientBoostingRegressor(max_features = 4, min_samples_leaf = 2, n_estimators = 478, random_state=42)\n",
        "gbr.fit(X_train, y_train)\n",
        "\n",
        "# Predictions\n",
        "gbr_pred = gbr.predict(X_test)\n",
        "\n",
        "# Back-transform predicted values to original scale\n",
        "y_pred_orig = np.exp(gbr_pred)\n",
        "\n",
        "# Evaluate the model \n",
        "mae = mean_absolute_error(y_test,gbr_pred)\n",
        "mse= mean_squared_error(y_test, gbr_pred)\n",
        "rmse = np.sqrt(mse)\n",
        "r2 = r2_score(y_test, gbr_pred)\n",
        "\n",
        "print(\"Mean Absolute Error: {:.4f}\".format(mae))\n",
        "print(\"Mean Squared Error: {:.4f}\".format(mse))\n",
        "print(\"Root Mean Squared Error :{:.4f}\".format(rmse))\n",
        "print(\"R-Squared :{:.4f}\".format(r2))"
      ],
      "metadata": {
        "colab": {
          "base_uri": "https://localhost:8080/"
        },
        "id": "E9zuWIBF4ca1",
        "outputId": "5ab19923-e5fc-49c1-97c7-1aba7f41188c"
      },
      "execution_count": 17,
      "outputs": [
        {
          "output_type": "stream",
          "name": "stdout",
          "text": [
            "Mean Absolute Error: 0.1534\n",
            "Mean Squared Error: 0.0427\n",
            "Root Mean Squared Error :0.2067\n",
            "R-Squared :0.8750\n"
          ]
        }
      ]
    },
    {
      "cell_type": "code",
      "source": [
        "print(y_pred_orig)"
      ],
      "metadata": {
        "colab": {
          "base_uri": "https://localhost:8080/"
        },
        "id": "--4jxeyL8OQF",
        "outputId": "d341e1b9-f0b2-49c4-f419-73e5ac0f7f22"
      },
      "execution_count": 18,
      "outputs": [
        {
          "output_type": "stream",
          "name": "stdout",
          "text": [
            "[111878.02474918  85966.45982977  71936.35002333  75873.74347313\n",
            "  78610.7744282   38089.60994035  53556.63305777  57971.99209666\n",
            " 156629.3700875   59810.73502655  42062.14907589  38623.45106546\n",
            "  68100.55897944  51255.98179883  53556.63305777 142532.38589242\n",
            "  75243.74326224  73648.46122934 243539.99502153 208074.06970458\n",
            "  34124.18969853  61600.05942806  91368.45717021  37438.47993027\n",
            "  57971.99209666 175338.44946748  54795.94656096  33076.46116498\n",
            "  66601.92919762 111878.02474918  58558.54361363  21720.45233006\n",
            "  57525.03230027  41571.20637763  66900.25502172  40696.41816961\n",
            "  69961.58300074  57059.39202462  56721.179356    68920.66855983\n",
            "  81075.85316442 130805.68883236 101679.27946159 181426.0727614\n",
            "  78005.32056007  44883.54934649  44128.50488455  59810.73502655\n",
            " 195896.3540418  181426.0727614   47053.10130373  74813.25080525\n",
            "  40489.67122597 122566.29156132  67397.86790506 146855.78944435\n",
            "  51827.71925217  38236.44658775 117777.02317244  38623.45106546\n",
            " 145267.49886913  44086.86023728  68100.55897944  59282.79409612\n",
            "  67585.63974314  63258.09343164  68230.425992    57069.97378217\n",
            "  69554.04245569 100892.91445521  19264.92372294  40696.41816961\n",
            "  50648.75962648  18195.6000223   31757.83276889  75515.42796283\n",
            " 123134.30269729  78610.7744282   19534.7938441  135163.95465659\n",
            "  31425.14904743  85684.79359925  57069.97378217  50648.75962648\n",
            "  62081.30118842  68100.55897944  55308.15706432 135400.51181621\n",
            "  54463.94071792  69554.04245569  61335.61500937  30013.41129917\n",
            " 220496.37878608  58558.54361363  69554.04245569  40928.34072545\n",
            "  35643.31287449  95535.80941007 214894.14693976 175679.97705894\n",
            "  47552.94346284  54795.94656096  33076.46116498  52873.04211551\n",
            "  66901.79345616  57971.99209666  58536.65347305 152573.94333292\n",
            " 188448.94616807  81873.08743076  40696.41816961 140228.97086246\n",
            "  41571.20637763  69554.04245569  50648.75962648  82192.84878806\n",
            "  57069.97378217 135163.95465659  41221.73461864  30193.08109623\n",
            "  53238.38643456  58332.99702167 162972.59182065 102018.10656234\n",
            "  73648.46122934  54156.77622547  55308.15706432]\n"
          ]
        }
      ]
    },
    {
      "cell_type": "code",
      "source": [
        "# Create a XGBoost Regressor object\n",
        "xgbr = XGBRegressor()\n",
        "\n",
        "# Define the hyperparameter space\n",
        "param_dist = {\"n_estimators\": randint(100, 500),\n",
        "              \"max_depth\": [None] + list(randint(1, 11).rvs(10)),\n",
        "              \"learning_rate\": uniform(0.01, 0.3),\n",
        "              \"gamma\": uniform(0, 10)}\n",
        "\n",
        "# Define the Halving Random Search cross-validation object\n",
        "hrscv = HalvingRandomSearchCV(xgbr, param_distributions=param_dist, n_candidates=100,\n",
        "                              factor=2, min_resources='exhaust', \n",
        "                              random_state=42, n_jobs=-1)\n",
        "\n",
        "# Fit the Halving Random Search cross-validation object to the data \n",
        "hrscv.fit(X_train, y_train)\n",
        "\n",
        "# Print the best hyperparameters\n",
        "print(f\"Best hyperparameters for XGBoost Regressor: {hrscv.best_params_}\")"
      ],
      "metadata": {
        "colab": {
          "base_uri": "https://localhost:8080/"
        },
        "id": "LVVDJSqH4cU4",
        "outputId": "4c1661e4-e311-4f1b-c863-4c64d63233f8"
      },
      "execution_count": 20,
      "outputs": [
        {
          "output_type": "stream",
          "name": "stdout",
          "text": [
            "Best hyperparameters for XGBoost Regressor: {'gamma': 0.15966252220214194, 'learning_rate': 0.0792681476866447, 'max_depth': 8, 'n_estimators': 363}\n"
          ]
        }
      ]
    },
    {
      "cell_type": "code",
      "source": [
        "# Create and train the model with the tuned hyperparameters\n",
        "xgbr = XGBRegressor(gamma= 0.15966252220214194, learning_rate = 0.0792681476866447 , max_depth = 8, n_estimators = 363)\n",
        "xgbr.fit(X_train, y_train)\n",
        "\n",
        "# Predictions\n",
        "xgbr_pred = xgbr.predict(X_test)\n",
        "\n",
        "# Back-transform predicted values to original scale\n",
        "y_pred_orig = np.exp(xgbr_pred)\n",
        "\n",
        "# Evaluate the model \n",
        "mae = mean_absolute_error(y_test,xgbr_pred)\n",
        "mse= mean_squared_error(y_test, xgbr_pred)\n",
        "rmse = np.sqrt(mse)\n",
        "r2 = r2_score(y_test, xgbr_pred)\n",
        "\n",
        "print(\"Mean Absolute Error: {:.4f}\".format(mae))\n",
        "print(\"Mean Squared Error: {:.4f}\".format(mse))\n",
        "print(\"Root Mean Squared Error :{:.4f}\".format(rmse))\n",
        "print(\"R-Squared :{:.4f}\".format(r2))"
      ],
      "metadata": {
        "colab": {
          "base_uri": "https://localhost:8080/"
        },
        "id": "TJe1TgbC4cTN",
        "outputId": "d0c8f6c0-1575-4348-c0ea-48912cbec692"
      },
      "execution_count": 26,
      "outputs": [
        {
          "output_type": "stream",
          "name": "stdout",
          "text": [
            "Mean Absolute Error: 0.1815\n",
            "Mean Squared Error: 0.0507\n",
            "Root Mean Squared Error :0.2251\n",
            "R-Squared :0.8517\n"
          ]
        }
      ]
    },
    {
      "cell_type": "code",
      "source": [
        "print(y_pred_orig)"
      ],
      "metadata": {
        "colab": {
          "base_uri": "https://localhost:8080/"
        },
        "id": "dJbEPnpN7eqk",
        "outputId": "b82fb207-8087-4e9a-9861-8785631c1182"
      },
      "execution_count": null,
      "outputs": [
        {
          "output_type": "stream",
          "name": "stdout",
          "text": [
            "[105573.484 104733.23   67688.53   79563.85   87154.26   48621.055\n",
            "  48735.953  51951.78  109772.664  61963.56   46112.227  46992.75\n",
            "  81719.01   56031.918  48735.953 139825.88   83239.43   84159.2\n",
            " 175871.02  171359.4    50630.95   51791.26   64538.61   36849.98\n",
            "  51951.78  159431.58   54277.027  36739.688  54050.473 105573.484\n",
            "  54609.066  29748.621  52682.26   47263.043  85497.56   52107.74\n",
            "  59099.383  50878.92   48279.363  77687.555  88311.97  128958.91\n",
            "  95161.    136966.64   95477.07   48127.707  44824.293  61963.56\n",
            " 140539.62  136966.64   53858.188  53050.     45680.22  109772.664\n",
            "  51940.586 131017.71   49952.25   47234.297 135163.12   46992.75\n",
            " 168303.4    51184.31   81719.01   52107.74   70591.11   53726.293\n",
            "  60006.65   50713.87   82634.27  103093.76   30449.559  36849.98\n",
            "  51387.523  17123.78   33132.152  53911.48  110595.12   87154.26\n",
            "  24327.56  136966.64   47558.52  106460.484  50713.87   51387.523\n",
            "  50760.715  81719.01   49666.574 105758.91   31389.357  82634.27\n",
            "  50866.113  62433.766 173272.23   54609.066  82634.27   46643.46\n",
            "  51951.78   62535.785 135158.1   139825.88   51831.082  54277.027\n",
            "  36739.688  50630.95   53050.     51951.78   50878.92  133860.06\n",
            " 106096.41   80717.125  36849.98   78237.75   47263.043  82634.27\n",
            "  51387.523  96558.22   50713.87  136966.64   48127.707  34044.797\n",
            "  48735.953  53565.496 134877.52   65724.46   84159.2    66488.55\n",
            "  49666.574]\n"
          ]
        }
      ]
    },
    {
      "cell_type": "code",
      "source": [
        "df.to_csv('cleaned_data3.csv', index=False)    "
      ],
      "metadata": {
        "id": "SHWzuzmJYxUb"
      },
      "execution_count": 30,
      "outputs": []
    },
    {
      "cell_type": "code",
      "source": [
        "# Save the models\n",
        "\n",
        "dump(dicts_cols, open('dicts.pkl', 'wb'))\n",
        "dump(le, open('encoder.pkl', 'wb'))\n",
        "dump(scaler, open('scaler.pkl', 'wb'))\n",
        "dump(gbr, open('gbr_model.pkl', 'wb'))\n",
        "dump(xgbr, open('xgbr_model.pkl', 'wb'))"
      ],
      "metadata": {
        "id": "030AF-N5ZPsD"
      },
      "execution_count": 29,
      "outputs": []
    }
  ]
}