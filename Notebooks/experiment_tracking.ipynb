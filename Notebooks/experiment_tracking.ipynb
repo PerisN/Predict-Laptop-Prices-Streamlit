{
 "cells": [
  {
   "cell_type": "markdown",
   "metadata": {
    "id": "KsqITswHjOr2"
   },
   "source": [
    "# **Modeling Development and Tracking Experiments with mlflow**"
   ]
  },
  {
   "cell_type": "code",
   "execution_count": 1,
   "metadata": {
    "id": "1jlCPpqW_9Nu"
   },
   "outputs": [],
   "source": [
    "# Import Libraries\n",
    "\n",
    "import pandas as pd\n",
    "import numpy as np\n",
    "\n",
    "import math\n",
    "from scipy.stats import randint, uniform\n",
    "from datetime import datetime\n",
    "\n",
    "from sklearn.model_selection import train_test_split\n",
    "from sklearn.experimental import enable_halving_search_cv\n",
    "from sklearn.model_selection import HalvingRandomSearchCV\n",
    "\n",
    "from sklearn.preprocessing import LabelEncoder, MinMaxScaler\n",
    "from sklearn.linear_model import Ridge\n",
    "from xgboost import XGBRegressor\n",
    "from sklearn.ensemble import RandomForestRegressor,GradientBoostingRegressor\n",
    "from sklearn.metrics import mean_squared_error, mean_absolute_error, r2_score\n",
    "from sklearn import metrics\n",
    "\n",
    "import seaborn as sns\n",
    "\n",
    "from pickle import dump\n",
    "import os\n",
    "\n",
    "import warnings\n",
    "warnings.filterwarnings('ignore')"
   ]
  },
  {
   "cell_type": "code",
   "execution_count": 2,
   "metadata": {
    "id": "BCFw9c4vSveN"
   },
   "outputs": [],
   "source": [
    "import mlflow\n",
    "import mlflow.sklearn"
   ]
  },
  {
   "cell_type": "code",
   "execution_count": 17,
   "metadata": {
    "colab": {
     "base_uri": "https://localhost:8080/"
    },
    "id": "F-0tgIbAPgdb",
    "outputId": "750333e3-c994-47a5-933a-3a8fee008811"
   },
   "outputs": [
    {
     "data": {
      "text/plain": [
       "<Experiment: artifact_location='file:///c:/Users/ADMIN/Desktop/Innomatics/DataAnalysis/Predict-Laptop-Prices-Streamlit/notebooks/mlruns/1', creation_time=1683204315728, experiment_id='1', last_update_time=1683204315728, lifecycle_stage='active', name='Laptop Prices Prediction', tags={}>"
      ]
     },
     "execution_count": 17,
     "metadata": {},
     "output_type": "execute_result"
    }
   ],
   "source": [
    "mlflow.set_tracking_uri(\"sqlite:///mlflow.db\")\n",
    "mlflow.set_experiment(experiment_id='1')"
   ]
  },
  {
   "cell_type": "code",
   "execution_count": 6,
   "metadata": {
    "colab": {
     "base_uri": "https://localhost:8080/",
     "height": 337
    },
    "id": "e--BjXPQazca",
    "outputId": "63f1cb92-1a0a-433d-fc2e-f9d22f2917bf"
   },
   "outputs": [
    {
     "data": {
      "text/html": [
       "<div>\n",
       "<style scoped>\n",
       "    .dataframe tbody tr th:only-of-type {\n",
       "        vertical-align: middle;\n",
       "    }\n",
       "\n",
       "    .dataframe tbody tr th {\n",
       "        vertical-align: top;\n",
       "    }\n",
       "\n",
       "    .dataframe thead th {\n",
       "        text-align: right;\n",
       "    }\n",
       "</style>\n",
       "<table border=\"1\" class=\"dataframe\">\n",
       "  <thead>\n",
       "    <tr style=\"text-align: right;\">\n",
       "      <th></th>\n",
       "      <th>MRP</th>\n",
       "      <th>RAM_Size</th>\n",
       "      <th>RAM_Type</th>\n",
       "      <th>Display</th>\n",
       "      <th>Processor</th>\n",
       "      <th>Storage</th>\n",
       "      <th>OS</th>\n",
       "      <th>Brand</th>\n",
       "    </tr>\n",
       "  </thead>\n",
       "  <tbody>\n",
       "    <tr>\n",
       "      <th>0</th>\n",
       "      <td>36990</td>\n",
       "      <td>8</td>\n",
       "      <td>DDR4</td>\n",
       "      <td>14.0</td>\n",
       "      <td>Intel Core i3</td>\n",
       "      <td>256 GB SSD</td>\n",
       "      <td>Windows</td>\n",
       "      <td>Lenovo</td>\n",
       "    </tr>\n",
       "    <tr>\n",
       "      <th>1</th>\n",
       "      <td>39990</td>\n",
       "      <td>8</td>\n",
       "      <td>DDR4</td>\n",
       "      <td>15.6</td>\n",
       "      <td>Intel Core i3</td>\n",
       "      <td>512 GB SSD</td>\n",
       "      <td>Windows</td>\n",
       "      <td>Lenovo</td>\n",
       "    </tr>\n",
       "    <tr>\n",
       "      <th>2</th>\n",
       "      <td>32990</td>\n",
       "      <td>8</td>\n",
       "      <td>DDR4</td>\n",
       "      <td>15.6</td>\n",
       "      <td>Intel Core i3</td>\n",
       "      <td>512 GB SSD</td>\n",
       "      <td>Windows</td>\n",
       "      <td>ASUS</td>\n",
       "    </tr>\n",
       "    <tr>\n",
       "      <th>3</th>\n",
       "      <td>49990</td>\n",
       "      <td>8</td>\n",
       "      <td>DDR4</td>\n",
       "      <td>15.6</td>\n",
       "      <td>AMD Ryzen 5 Hexa Core</td>\n",
       "      <td>512 GB SSD</td>\n",
       "      <td>Windows</td>\n",
       "      <td>HP</td>\n",
       "    </tr>\n",
       "    <tr>\n",
       "      <th>4</th>\n",
       "      <td>49990</td>\n",
       "      <td>8</td>\n",
       "      <td>DDR4</td>\n",
       "      <td>15.6</td>\n",
       "      <td>Intel Core i5</td>\n",
       "      <td>512 GB SSD</td>\n",
       "      <td>Windows</td>\n",
       "      <td>ASUS</td>\n",
       "    </tr>\n",
       "  </tbody>\n",
       "</table>\n",
       "</div>"
      ],
      "text/plain": [
       "     MRP  RAM_Size RAM_Type  Display              Processor     Storage   \n",
       "0  36990         8     DDR4     14.0          Intel Core i3  256 GB SSD  \\\n",
       "1  39990         8     DDR4     15.6          Intel Core i3  512 GB SSD   \n",
       "2  32990         8     DDR4     15.6          Intel Core i3  512 GB SSD   \n",
       "3  49990         8     DDR4     15.6  AMD Ryzen 5 Hexa Core  512 GB SSD   \n",
       "4  49990         8     DDR4     15.6          Intel Core i5  512 GB SSD   \n",
       "\n",
       "        OS   Brand  \n",
       "0  Windows  Lenovo  \n",
       "1  Windows  Lenovo  \n",
       "2  Windows    ASUS  \n",
       "3  Windows      HP  \n",
       "4  Windows    ASUS  "
      ]
     },
     "execution_count": 6,
     "metadata": {},
     "output_type": "execute_result"
    }
   ],
   "source": [
    "# Load data\n",
    "\n",
    "df = pd.read_csv(r'C:\\Users\\ADMIN\\Desktop\\Innomatics\\DataAnalysis\\Predict-Laptop-Prices-Streamlit\\data\\cleaned_data2.csv')\n",
    "df.head()"
   ]
  },
  {
   "cell_type": "code",
   "execution_count": 5,
   "metadata": {
    "colab": {
     "base_uri": "https://localhost:8080/"
    },
    "id": "KBb9wCwkgWIw",
    "outputId": "3f8d42ed-066c-4368-e370-e0f6685e3175"
   },
   "outputs": [
    {
     "data": {
      "text/plain": [
       "(423, 8)"
      ]
     },
     "execution_count": 5,
     "metadata": {},
     "output_type": "execute_result"
    }
   ],
   "source": [
    "df.shape"
   ]
  },
  {
   "cell_type": "code",
   "execution_count": 8,
   "metadata": {
    "colab": {
     "base_uri": "https://localhost:8080/"
    },
    "id": "5PxhiFgPOJE5",
    "outputId": "996172f6-0de7-40f3-f4cd-c32a3ec7d4d3"
   },
   "outputs": [
    {
     "name": "stdout",
     "output_type": "stream",
     "text": [
      "{'RAM_Type': {'DDR4': 0, 'DDR5': 1, 'LPDDR3': 2, 'LPDDR4': 3, 'LPDDR4X': 4, 'LPDDR5': 5, 'Unified Memory': 6}, 'Processor': {'AMD Athlon Dual Core': 0, 'AMD Ryzen 3': 1, 'AMD Ryzen 3 Dual Core': 2, 'AMD Ryzen 3 Hexa Core': 3, 'AMD Ryzen 3 Quad Core': 4, 'AMD Ryzen 5': 5, 'AMD Ryzen 5 Dual Core': 6, 'AMD Ryzen 5 Hexa Core': 7, 'AMD Ryzen 5 Quad Core': 8, 'AMD Ryzen 7 Octa Core': 9, 'AMD Ryzen 7 Quad Core': 10, 'AMD Ryzen 9 Octa Core': 11, 'Intel Celeron Dual Core': 12, 'Intel Celeron Quad Core': 13, 'Intel Core i3': 14, 'Intel Core i5': 15, 'Intel Core i7': 16, 'Intel Core i9': 17, 'Intel Evo Core i5': 18, 'Intel Pentium Quad Core': 19, 'Intel Pentium Silver': 20, 'M1': 21, 'M1 Max': 22, 'M1 Pro': 23, 'M2': 24, 'Qualcomm Snapdragon 7c Gen 2': 25}, 'Storage': {'1 TB HDD': 0, '1 TB HDD, 128 GB SSD': 1, '1 TB HDD, 256 GB SSD': 2, '1 TB HDD, 512 GB SSD': 3, '128 GB SSD': 4, '256 GB SSD': 5, '512 GB SSD': 6}, 'OS': {'Chrome': 0, 'DOS': 1, 'Mac OS': 2, 'Windows': 3}, 'Brand': {'ALIENWARE': 0, 'APPLE': 1, 'ASUS': 2, 'DELL': 3, 'GIGABYTE': 4, 'HP': 5, 'Infinix': 6, 'Lenovo': 7, 'MSI': 8, 'Nokia': 9, 'RedmiBook': 10, 'SAMSUNG': 11, 'Ultimus': 12, 'Vaio': 13, 'acer': 14, 'realme': 15}}\n"
     ]
    }
   ],
   "source": [
    "# Generate dictionaries of the categorical columns\n",
    "\n",
    "def generate_dicts(df):\n",
    "    categorical_cols = df.select_dtypes(include=['object']).columns\n",
    "    dicts_cols = {}\n",
    "    for col in categorical_cols:\n",
    "        unique_values = df[col].unique()\n",
    "        dict_col = {}\n",
    "        for i, value in enumerate(sorted(unique_values)):\n",
    "            dict_col[value] = i\n",
    "        dicts_cols[col] = dict_col\n",
    "    return dicts_cols\n",
    "\n",
    "dicts_cols = generate_dicts(df)\n",
    "print(dicts_cols)"
   ]
  },
  {
   "cell_type": "code",
   "execution_count": 9,
   "metadata": {
    "colab": {
     "base_uri": "https://localhost:8080/",
     "height": 143
    },
    "id": "szA50FRmOveH",
    "outputId": "b37c6568-7526-4018-d43e-193edc04debd"
   },
   "outputs": [
    {
     "data": {
      "text/html": [
       "<div>\n",
       "<style scoped>\n",
       "    .dataframe tbody tr th:only-of-type {\n",
       "        vertical-align: middle;\n",
       "    }\n",
       "\n",
       "    .dataframe tbody tr th {\n",
       "        vertical-align: top;\n",
       "    }\n",
       "\n",
       "    .dataframe thead th {\n",
       "        text-align: right;\n",
       "    }\n",
       "</style>\n",
       "<table border=\"1\" class=\"dataframe\">\n",
       "  <thead>\n",
       "    <tr style=\"text-align: right;\">\n",
       "      <th></th>\n",
       "      <th>MRP</th>\n",
       "      <th>RAM_Size</th>\n",
       "      <th>RAM_Type</th>\n",
       "      <th>Display</th>\n",
       "      <th>Processor</th>\n",
       "      <th>Storage</th>\n",
       "      <th>OS</th>\n",
       "      <th>Brand</th>\n",
       "    </tr>\n",
       "  </thead>\n",
       "  <tbody>\n",
       "    <tr>\n",
       "      <th>0</th>\n",
       "      <td>36990</td>\n",
       "      <td>8</td>\n",
       "      <td>0</td>\n",
       "      <td>14.0</td>\n",
       "      <td>14</td>\n",
       "      <td>5</td>\n",
       "      <td>3</td>\n",
       "      <td>7</td>\n",
       "    </tr>\n",
       "    <tr>\n",
       "      <th>1</th>\n",
       "      <td>39990</td>\n",
       "      <td>8</td>\n",
       "      <td>0</td>\n",
       "      <td>15.6</td>\n",
       "      <td>14</td>\n",
       "      <td>6</td>\n",
       "      <td>3</td>\n",
       "      <td>7</td>\n",
       "    </tr>\n",
       "    <tr>\n",
       "      <th>2</th>\n",
       "      <td>32990</td>\n",
       "      <td>8</td>\n",
       "      <td>0</td>\n",
       "      <td>15.6</td>\n",
       "      <td>14</td>\n",
       "      <td>6</td>\n",
       "      <td>3</td>\n",
       "      <td>2</td>\n",
       "    </tr>\n",
       "  </tbody>\n",
       "</table>\n",
       "</div>"
      ],
      "text/plain": [
       "     MRP  RAM_Size  RAM_Type  Display  Processor  Storage  OS  Brand\n",
       "0  36990         8         0     14.0         14        5   3      7\n",
       "1  39990         8         0     15.6         14        6   3      7\n",
       "2  32990         8         0     15.6         14        6   3      2"
      ]
     },
     "execution_count": 9,
     "metadata": {},
     "output_type": "execute_result"
    }
   ],
   "source": [
    "# Replace the string values with the corresponding integer values\n",
    "\n",
    "df = df.replace(dicts_cols)\n",
    "df.head(3)"
   ]
  },
  {
   "cell_type": "code",
   "execution_count": 10,
   "metadata": {
    "id": "HB6MCBXutMU0"
   },
   "outputs": [],
   "source": [
    "# Separate the target variable from the features\n",
    "\n",
    "X = df.drop(columns=['MRP'], axis=1)\n",
    "y = np.log(df['MRP'])"
   ]
  },
  {
   "cell_type": "code",
   "execution_count": 11,
   "metadata": {
    "colab": {
     "base_uri": "https://localhost:8080/"
    },
    "id": "IAXwea2vF-gI",
    "outputId": "5df6008c-a86c-494a-977e-cec2bdd86da2"
   },
   "outputs": [
    {
     "data": {
      "text/plain": [
       "((296, 7), (296,), (127, 7), (127,))"
      ]
     },
     "execution_count": 11,
     "metadata": {},
     "output_type": "execute_result"
    }
   ],
   "source": [
    "# Split data into train and test \n",
    "\n",
    "X_train, X_test, y_train, y_test = train_test_split(X, y, test_size=0.3, random_state=42)\n",
    "X_train.shape, y_train.shape, X_test.shape, y_test.shape"
   ]
  },
  {
   "cell_type": "code",
   "execution_count": 12,
   "metadata": {},
   "outputs": [],
   "source": [
    "X_train_scaled = X_train.copy()\n",
    "X_test_scaled = X_test.copy()"
   ]
  },
  {
   "cell_type": "code",
   "execution_count": 13,
   "metadata": {
    "id": "NF4V7r0AgPG1"
   },
   "outputs": [],
   "source": [
    "# Rescale RAM Size and Display columns only\n",
    "\n",
    "scaler = MinMaxScaler()\n",
    "\n",
    "X_train_scaled[['Display', 'RAM_Size']] = scaler.fit_transform(X_train_scaled[['Display', 'RAM_Size']])\n",
    "X_test_scaled[['Display', 'RAM_Size']] = scaler.transform(X_test_scaled[['Display', 'RAM_Size']])"
   ]
  },
  {
   "cell_type": "code",
   "execution_count": 14,
   "metadata": {
    "id": "t83yAlgsFvNx"
   },
   "outputs": [],
   "source": [
    "# Create new dataframes with the scaled data and original column names\n",
    "\n",
    "X_train = pd.DataFrame(X_train_scaled, columns=X_train.columns)\n",
    "X_test = pd.DataFrame(X_test_scaled, columns=X_test.columns)"
   ]
  },
  {
   "attachments": {},
   "cell_type": "markdown",
   "metadata": {},
   "source": [
    "## **Experiment Tracking**"
   ]
  },
  {
   "cell_type": "code",
   "execution_count": 16,
   "metadata": {},
   "outputs": [],
   "source": [
    "mlflow.sklearn.autolog()\n",
    "\n",
    "# Define a list of model classes\n",
    "model_classes = [RandomForestRegressor, GradientBoostingRegressor, XGBRegressor, Ridge]\n",
    "\n",
    "for model_class in model_classes:\n",
    "    with mlflow.start_run():\n",
    "        mlmodel = model_class()\n",
    "        mlmodel.fit(X_train, y_train)\n",
    "\n",
    "        y_pred = mlmodel.predict(X_test)\n",
    "        r2 = r2_score(y_test, y_pred)\n",
    "        rmse = mean_squared_error(y_test, y_pred, squared=False)\n",
    "\n",
    "        # Log the metrics using MLflow's autologging feature\n",
    "        mlflow.log_metric(\"rmse\", rmse)\n",
    "        mlflow.log_metric(\"r2\", r2)"
   ]
  },
  {
   "attachments": {},
   "cell_type": "markdown",
   "metadata": {},
   "source": [
    "#### **1. XGBoost Regressor**"
   ]
  },
  {
   "cell_type": "code",
   "execution_count": 13,
   "metadata": {},
   "outputs": [],
   "source": [
    "with mlflow.start_run():\n",
    "    mlflow.set_tag(\"dev\", \"Peris\")\n",
    "    mlflow.set_tag(\"algo\", \"XGB\")\n",
    "    # log the data for each run using log_param, log_metric, log_model\n",
    "    mlflow.log_param(\"data-path\", \"Data\\cleaned_data2.csv\")\n",
    "    xgb = XGBRegressor()\n",
    "    xgb.fit(X_train, y_train)\n",
    "    y_pred = xgb.predict(X_test)\n",
    "    mse = mean_squared_error(y_test, y_pred)\n",
    "    rmse = np.sqrt(mse)\n",
    "    r2 = r2_score(y_test, y_pred)\n",
    "    mlflow.log_metric(\"mse\", mse)\n",
    "    mlflow.log_metric(\"rmse\", rmse)\n",
    "    mlflow.log_metric(\"r2\", r2)\n",
    "    mlflow.sklearn.log_model(xgb, artifact_path=\"models\")\n",
    "    mlflow.end_run()"
   ]
  },
  {
   "cell_type": "code",
   "execution_count": null,
   "metadata": {},
   "outputs": [],
   "source": []
  },
  {
   "cell_type": "code",
   "execution_count": null,
   "metadata": {},
   "outputs": [],
   "source": []
  },
  {
   "cell_type": "code",
   "execution_count": null,
   "metadata": {},
   "outputs": [],
   "source": []
  },
  {
   "cell_type": "code",
   "execution_count": null,
   "metadata": {},
   "outputs": [],
   "source": []
  },
  {
   "cell_type": "markdown",
   "metadata": {
    "id": "V0iZYJNb1VAE"
   },
   "source": [
    "## **Base Models**"
   ]
  },
  {
   "cell_type": "code",
   "execution_count": 14,
   "metadata": {
    "colab": {
     "base_uri": "https://localhost:8080/"
    },
    "id": "PydJvmNhgO_l",
    "outputId": "64f4456e-a9af-44d8-cd23-345bae3573f7"
   },
   "outputs": [
    {
     "data": {
      "text/plain": [
       "{'Random Forest': 0.827337825280219,\n",
       " 'XGBoost': 0.879105033027367,\n",
       " 'Gradient Boost': 0.8394545540141549,\n",
       " 'Ridge': 0.6059601827548748}"
      ]
     },
     "execution_count": 14,
     "metadata": {},
     "output_type": "execute_result"
    }
   ],
   "source": [
    "# Putting models into a dictionary\n",
    "\n",
    "models = {\n",
    "          \"Random Forest\" : RandomForestRegressor(),\n",
    "          \"XGBoost\": XGBRegressor(),\n",
    "          \"Gradient Boost\" : GradientBoostingRegressor(),\n",
    "          \"Ridge\" : Ridge ()\n",
    "          }\n",
    "\n",
    "# Function that will fit and score models\n",
    "def fit_and_score(models, X_train, X_test, y_train, y_test):\n",
    "    random_state=42\n",
    "    # Making a dictionary to keep model scores\n",
    "    model_scores = {}\n",
    "    # Looping through models\n",
    "    for name, model in models.items():\n",
    "        model.fit(X_train, y_train)\n",
    "        model_scores[name] = model.score(X_test, y_test)\n",
    "    return model_scores   \n",
    "    \n",
    "scores = fit_and_score(models = models,\n",
    "                      X_train = X_train,\n",
    "                      X_test = X_test,\n",
    "                      y_train = y_train,\n",
    "                      y_test = y_test)\n",
    "scores"
   ]
  },
  {
   "cell_type": "markdown",
   "metadata": {
    "id": "YKry4ZStRqWD"
   },
   "source": [
    "XGBoost Regressor has the highest R-Squared score with 0.8791"
   ]
  },
  {
   "cell_type": "code",
   "execution_count": 16,
   "metadata": {
    "id": "C3So_CB1gOt6"
   },
   "outputs": [],
   "source": [
    "mlflow.sklearn.autolog()\n",
    "\n",
    "for model_class in (RandomForestRegressor, GradientBoostingRegressor, XGBRegressor, Ridge):\n",
    "\n",
    "    with mlflow.start_run():\n",
    "        mlmodel = model_class()\n",
    "        mlmodel.fit(X_train, y_train)\n",
    "\n",
    "        y_pred = mlmodel.predict(X_test)\n",
    "        r2 = r2_score(y_test, y_pred)\n",
    "        rmse = mean_squared_error(y_test, y_pred, squared=False)\n",
    "        mlflow.log_metric(\"rmse\", rmse)"
   ]
  },
  {
   "cell_type": "markdown",
   "metadata": {
    "id": "GGkA9kZt3xFl"
   },
   "source": [
    "**XGBoost**"
   ]
  },
  {
   "cell_type": "code",
   "execution_count": null,
   "metadata": {
    "colab": {
     "base_uri": "https://localhost:8080/"
    },
    "id": "GqYpTMWy3Xw9",
    "outputId": "3b10814c-8fec-4cd1-eec9-1e462d628137"
   },
   "outputs": [
    {
     "name": "stdout",
     "output_type": "stream",
     "text": [
      "MAE:  0.1657141464665079\n",
      "MSE:  0.048516012131371966\n",
      "RMSE:  0.2202635061270295\n",
      "R-squared:  0.8580264975283868\n"
     ]
    }
   ],
   "source": [
    "XGB = XGBRegressor()\n",
    "\n",
    "XGB.fit(X_train, y_train)\n",
    "prediction = XGB.predict(X_test)\n",
    "\n",
    "# evaluate the model\n",
    "mae = mean_absolute_error(y_test, prediction)\n",
    "mse = mean_squared_error(y_test, prediction)\n",
    "rmse = np.sqrt(mse)\n",
    "r2 = r2_score(y_test, prediction)\n",
    "\n",
    "print(\"MAE: \", mae)\n",
    "print(\"MSE: \", mse)\n",
    "print(\"RMSE: \", rmse)\n",
    "print(\"R-squared: \", r2)"
   ]
  },
  {
   "cell_type": "markdown",
   "metadata": {
    "id": "Tah-hEMJ3zh1"
   },
   "source": [
    "**Gradient Boosting**"
   ]
  },
  {
   "cell_type": "code",
   "execution_count": null,
   "metadata": {
    "colab": {
     "base_uri": "https://localhost:8080/"
    },
    "id": "UAgkG7-w2mfU",
    "outputId": "5ff80166-b31c-41b9-f093-b6bece18796c"
   },
   "outputs": [
    {
     "name": "stdout",
     "output_type": "stream",
     "text": [
      "MAE:  0.17381410331965777\n",
      "MSE:  0.04676302889593545\n",
      "RMSE:  0.2162476101508071\n",
      "R-squared:  0.8631562919771768\n"
     ]
    }
   ],
   "source": [
    "GBR = GradientBoostingRegressor()\n",
    "\n",
    "GBR.fit(X_train, y_train)\n",
    "prediction = GBR.predict(X_test)\n",
    "\n",
    "# evaluate the model\n",
    "mse = mean_squared_error(y_test, prediction)\n",
    "mae = mean_absolute_error(y_test, prediction)\n",
    "rmse = np.sqrt(mse)\n",
    "r2 = r2_score(y_test, prediction)\n",
    "\n",
    "print(\"MAE: \", mae)\n",
    "print(\"MSE: \", mse)\n",
    "print(\"RMSE: \", rmse)\n",
    "print(\"R-squared: \", r2)"
   ]
  },
  {
   "cell_type": "markdown",
   "metadata": {
    "id": "dQZIa9_T1ZOm"
   },
   "source": [
    "### Hyperparameter Tuning"
   ]
  },
  {
   "cell_type": "code",
   "execution_count": null,
   "metadata": {
    "colab": {
     "base_uri": "https://localhost:8080/"
    },
    "id": "lsDrVfCp2Oit",
    "outputId": "7f430fa4-4d15-41a7-9482-c0a8cec715c8"
   },
   "outputs": [
    {
     "name": "stdout",
     "output_type": "stream",
     "text": [
      "Best hyperparameters for Gradient Boosting Regressor: {'max_depth': 4, 'max_features': 3, 'min_samples_leaf': 1, 'n_estimators': 478}\n"
     ]
    }
   ],
   "source": [
    "# Create a Gradient Boosting Regressor object\n",
    "gbr = GradientBoostingRegressor()\n",
    "\n",
    "# Define the hyperparameter space\n",
    "param_dist = {\"n_estimators\": randint(100, 500),\n",
    "              \"max_features\": randint(1, 10),\n",
    "              \"max_depth\": [None] + list(randint(1, 11).rvs(10)),\n",
    "              \"min_samples_leaf\": randint(1, 10)}\n",
    "\n",
    "\n",
    "# Define the Halving Random Search cross-validation object\n",
    "hrscv = HalvingRandomSearchCV(gbr, param_distributions=param_dist, n_candidates=100,\n",
    "                              factor=2, min_resources='exhaust', \n",
    "                              random_state=42, n_jobs=-1)\n",
    "\n",
    "# Fit the Halving Random Search cross-validation object to the data \n",
    "hrscv.fit(X_train, y_train)\n",
    "\n",
    "# Print the best hyperparameters\n",
    "print(f\"Best hyperparameters for Gradient Boosting Regressor: {hrscv.best_params_}\")"
   ]
  },
  {
   "cell_type": "code",
   "execution_count": null,
   "metadata": {
    "colab": {
     "base_uri": "https://localhost:8080/"
    },
    "id": "E9zuWIBF4ca1",
    "outputId": "5ab19923-e5fc-49c1-97c7-1aba7f41188c"
   },
   "outputs": [
    {
     "name": "stdout",
     "output_type": "stream",
     "text": [
      "Mean Absolute Error: 0.1534\n",
      "Mean Squared Error: 0.0427\n",
      "Root Mean Squared Error :0.2067\n",
      "R-Squared :0.8750\n"
     ]
    }
   ],
   "source": [
    "# Create and train the model with the tuned hyperparameters\n",
    "gbr = GradientBoostingRegressor(max_features = 4, min_samples_leaf = 2, n_estimators = 478, random_state=42)\n",
    "gbr.fit(X_train, y_train)\n",
    "\n",
    "# Predictions\n",
    "gbr_pred = gbr.predict(X_test)\n",
    "\n",
    "# Back-transform predicted values to original scale\n",
    "y_pred_orig = np.exp(gbr_pred)\n",
    "\n",
    "# Evaluate the model \n",
    "mae = mean_absolute_error(y_test,gbr_pred)\n",
    "mse= mean_squared_error(y_test, gbr_pred)\n",
    "rmse = np.sqrt(mse)\n",
    "r2 = r2_score(y_test, gbr_pred)\n",
    "\n",
    "print(\"Mean Absolute Error: {:.4f}\".format(mae))\n",
    "print(\"Mean Squared Error: {:.4f}\".format(mse))\n",
    "print(\"Root Mean Squared Error :{:.4f}\".format(rmse))\n",
    "print(\"R-Squared :{:.4f}\".format(r2))"
   ]
  },
  {
   "cell_type": "code",
   "execution_count": null,
   "metadata": {
    "colab": {
     "base_uri": "https://localhost:8080/"
    },
    "id": "--4jxeyL8OQF",
    "outputId": "d341e1b9-f0b2-49c4-f419-73e5ac0f7f22"
   },
   "outputs": [
    {
     "name": "stdout",
     "output_type": "stream",
     "text": [
      "[111878.02474918  85966.45982977  71936.35002333  75873.74347313\n",
      "  78610.7744282   38089.60994035  53556.63305777  57971.99209666\n",
      " 156629.3700875   59810.73502655  42062.14907589  38623.45106546\n",
      "  68100.55897944  51255.98179883  53556.63305777 142532.38589242\n",
      "  75243.74326224  73648.46122934 243539.99502153 208074.06970458\n",
      "  34124.18969853  61600.05942806  91368.45717021  37438.47993027\n",
      "  57971.99209666 175338.44946748  54795.94656096  33076.46116498\n",
      "  66601.92919762 111878.02474918  58558.54361363  21720.45233006\n",
      "  57525.03230027  41571.20637763  66900.25502172  40696.41816961\n",
      "  69961.58300074  57059.39202462  56721.179356    68920.66855983\n",
      "  81075.85316442 130805.68883236 101679.27946159 181426.0727614\n",
      "  78005.32056007  44883.54934649  44128.50488455  59810.73502655\n",
      " 195896.3540418  181426.0727614   47053.10130373  74813.25080525\n",
      "  40489.67122597 122566.29156132  67397.86790506 146855.78944435\n",
      "  51827.71925217  38236.44658775 117777.02317244  38623.45106546\n",
      " 145267.49886913  44086.86023728  68100.55897944  59282.79409612\n",
      "  67585.63974314  63258.09343164  68230.425992    57069.97378217\n",
      "  69554.04245569 100892.91445521  19264.92372294  40696.41816961\n",
      "  50648.75962648  18195.6000223   31757.83276889  75515.42796283\n",
      " 123134.30269729  78610.7744282   19534.7938441  135163.95465659\n",
      "  31425.14904743  85684.79359925  57069.97378217  50648.75962648\n",
      "  62081.30118842  68100.55897944  55308.15706432 135400.51181621\n",
      "  54463.94071792  69554.04245569  61335.61500937  30013.41129917\n",
      " 220496.37878608  58558.54361363  69554.04245569  40928.34072545\n",
      "  35643.31287449  95535.80941007 214894.14693976 175679.97705894\n",
      "  47552.94346284  54795.94656096  33076.46116498  52873.04211551\n",
      "  66901.79345616  57971.99209666  58536.65347305 152573.94333292\n",
      " 188448.94616807  81873.08743076  40696.41816961 140228.97086246\n",
      "  41571.20637763  69554.04245569  50648.75962648  82192.84878806\n",
      "  57069.97378217 135163.95465659  41221.73461864  30193.08109623\n",
      "  53238.38643456  58332.99702167 162972.59182065 102018.10656234\n",
      "  73648.46122934  54156.77622547  55308.15706432]\n"
     ]
    }
   ],
   "source": [
    "print(y_pred_orig)"
   ]
  },
  {
   "cell_type": "code",
   "execution_count": null,
   "metadata": {
    "colab": {
     "base_uri": "https://localhost:8080/"
    },
    "id": "LVVDJSqH4cU4",
    "outputId": "4c1661e4-e311-4f1b-c863-4c64d63233f8"
   },
   "outputs": [
    {
     "name": "stdout",
     "output_type": "stream",
     "text": [
      "Best hyperparameters for XGBoost Regressor: {'gamma': 0.15966252220214194, 'learning_rate': 0.0792681476866447, 'max_depth': 8, 'n_estimators': 363}\n"
     ]
    }
   ],
   "source": [
    "# Create a XGBoost Regressor object\n",
    "xgbr = XGBRegressor()\n",
    "\n",
    "# Define the hyperparameter space\n",
    "param_dist = {\"n_estimators\": randint(100, 500),\n",
    "              \"max_depth\": [None] + list(randint(1, 11).rvs(10)),\n",
    "              \"learning_rate\": uniform(0.01, 0.3),\n",
    "              \"gamma\": uniform(0, 10)}\n",
    "\n",
    "# Define the Halving Random Search cross-validation object\n",
    "hrscv = HalvingRandomSearchCV(xgbr, param_distributions=param_dist, n_candidates=100,\n",
    "                              factor=2, min_resources='exhaust', \n",
    "                              random_state=42, n_jobs=-1)\n",
    "\n",
    "# Fit the Halving Random Search cross-validation object to the data \n",
    "hrscv.fit(X_train, y_train)\n",
    "\n",
    "# Print the best hyperparameters\n",
    "print(f\"Best hyperparameters for XGBoost Regressor: {hrscv.best_params_}\")"
   ]
  },
  {
   "cell_type": "code",
   "execution_count": null,
   "metadata": {
    "colab": {
     "base_uri": "https://localhost:8080/"
    },
    "id": "TJe1TgbC4cTN",
    "outputId": "d0c8f6c0-1575-4348-c0ea-48912cbec692"
   },
   "outputs": [
    {
     "name": "stdout",
     "output_type": "stream",
     "text": [
      "Mean Absolute Error: 0.1815\n",
      "Mean Squared Error: 0.0507\n",
      "Root Mean Squared Error :0.2251\n",
      "R-Squared :0.8517\n"
     ]
    }
   ],
   "source": [
    "# Create and train the model with the tuned hyperparameters\n",
    "xgbr = XGBRegressor(gamma= 0.15966252220214194, learning_rate = 0.0792681476866447 , max_depth = 8, n_estimators = 363)\n",
    "xgbr.fit(X_train, y_train)\n",
    "\n",
    "# Predictions\n",
    "xgbr_pred = xgbr.predict(X_test)\n",
    "\n",
    "# Back-transform predicted values to original scale\n",
    "y_pred_orig = np.exp(xgbr_pred)\n",
    "\n",
    "# Evaluate the model \n",
    "mae = mean_absolute_error(y_test,xgbr_pred)\n",
    "mse= mean_squared_error(y_test, xgbr_pred)\n",
    "rmse = np.sqrt(mse)\n",
    "r2 = r2_score(y_test, xgbr_pred)\n",
    "\n",
    "print(\"Mean Absolute Error: {:.4f}\".format(mae))\n",
    "print(\"Mean Squared Error: {:.4f}\".format(mse))\n",
    "print(\"Root Mean Squared Error :{:.4f}\".format(rmse))\n",
    "print(\"R-Squared :{:.4f}\".format(r2))"
   ]
  },
  {
   "cell_type": "code",
   "execution_count": null,
   "metadata": {
    "colab": {
     "base_uri": "https://localhost:8080/"
    },
    "id": "dJbEPnpN7eqk",
    "outputId": "b82fb207-8087-4e9a-9861-8785631c1182"
   },
   "outputs": [
    {
     "name": "stdout",
     "output_type": "stream",
     "text": [
      "[105573.484 104733.23   67688.53   79563.85   87154.26   48621.055\n",
      "  48735.953  51951.78  109772.664  61963.56   46112.227  46992.75\n",
      "  81719.01   56031.918  48735.953 139825.88   83239.43   84159.2\n",
      " 175871.02  171359.4    50630.95   51791.26   64538.61   36849.98\n",
      "  51951.78  159431.58   54277.027  36739.688  54050.473 105573.484\n",
      "  54609.066  29748.621  52682.26   47263.043  85497.56   52107.74\n",
      "  59099.383  50878.92   48279.363  77687.555  88311.97  128958.91\n",
      "  95161.    136966.64   95477.07   48127.707  44824.293  61963.56\n",
      " 140539.62  136966.64   53858.188  53050.     45680.22  109772.664\n",
      "  51940.586 131017.71   49952.25   47234.297 135163.12   46992.75\n",
      " 168303.4    51184.31   81719.01   52107.74   70591.11   53726.293\n",
      "  60006.65   50713.87   82634.27  103093.76   30449.559  36849.98\n",
      "  51387.523  17123.78   33132.152  53911.48  110595.12   87154.26\n",
      "  24327.56  136966.64   47558.52  106460.484  50713.87   51387.523\n",
      "  50760.715  81719.01   49666.574 105758.91   31389.357  82634.27\n",
      "  50866.113  62433.766 173272.23   54609.066  82634.27   46643.46\n",
      "  51951.78   62535.785 135158.1   139825.88   51831.082  54277.027\n",
      "  36739.688  50630.95   53050.     51951.78   50878.92  133860.06\n",
      " 106096.41   80717.125  36849.98   78237.75   47263.043  82634.27\n",
      "  51387.523  96558.22   50713.87  136966.64   48127.707  34044.797\n",
      "  48735.953  53565.496 134877.52   65724.46   84159.2    66488.55\n",
      "  49666.574]\n"
     ]
    }
   ],
   "source": [
    "print(y_pred_orig)"
   ]
  },
  {
   "cell_type": "code",
   "execution_count": null,
   "metadata": {
    "id": "SHWzuzmJYxUb"
   },
   "outputs": [],
   "source": [
    "df.to_csv('cleaned_data3.csv', index=False)    "
   ]
  },
  {
   "cell_type": "code",
   "execution_count": null,
   "metadata": {
    "id": "030AF-N5ZPsD"
   },
   "outputs": [],
   "source": [
    "# Save the models\n",
    "\n",
    "dump(dicts_cols, open('dicts.pkl', 'wb'))\n",
    "dump(scaler, open('scaler.pkl', 'wb'))\n",
    "dump(gbr, open('gbr_model.pkl', 'wb'))\n",
    "dump(xgbr, open('xgbr_model.pkl', 'wb'))"
   ]
  }
 ],
 "metadata": {
  "colab": {
   "provenance": []
  },
  "kernelspec": {
   "display_name": "Python 3 (ipykernel)",
   "language": "python",
   "name": "python3"
  },
  "language_info": {
   "codemirror_mode": {
    "name": "ipython",
    "version": 3
   },
   "file_extension": ".py",
   "mimetype": "text/x-python",
   "name": "python",
   "nbconvert_exporter": "python",
   "pygments_lexer": "ipython3",
   "version": "3.9.12"
  }
 },
 "nbformat": 4,
 "nbformat_minor": 1
}
